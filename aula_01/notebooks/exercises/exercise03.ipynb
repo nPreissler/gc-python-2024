{
 "cells": [
  {
   "cell_type": "markdown",
   "id": "f18a9411-a4df-4136-99c4-19ed67b85715",
   "metadata": {},
   "source": [
    "Crie um programa que leia 3 números, imprima o maior, o menor e a média aritmética. (MiniBoss)"
   ]
  },
  {
   "cell_type": "code",
   "execution_count": 1,
   "id": "549df423-5e5a-444f-be62-199c41231d8f",
   "metadata": {},
   "outputs": [
    {
     "name": "stdout",
     "output_type": "stream",
     "text": [
      "4.0\n"
     ]
    }
   ],
   "source": [
    "nums = [1, 2, 3]\n",
    "maior = max(nums)\n",
    "menor = min(nums)\n",
    "\n",
    "aritmetrica = nums[0] + nums[1] + nums[2] / len(nums)\n",
    "print(aritmetrica)"
   ]
  }
 ],
 "metadata": {
  "kernelspec": {
   "display_name": "Python 3 (ipykernel)",
   "language": "python",
   "name": "python3"
  },
  "language_info": {
   "codemirror_mode": {
    "name": "ipython",
    "version": 3
   },
   "file_extension": ".py",
   "mimetype": "text/x-python",
   "name": "python",
   "nbconvert_exporter": "python",
   "pygments_lexer": "ipython3",
   "version": "3.12.1"
  }
 },
 "nbformat": 4,
 "nbformat_minor": 5
}
