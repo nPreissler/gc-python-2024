{
 "cells": [
  {
   "cell_type": "markdown",
   "id": "1ada8f6d-d4c4-4cad-9510-cbad07c5f40f",
   "metadata": {},
   "source": [
    "Crie um programa que receba 2 números e imprima a soma deles na tela."
   ]
  },
  {
   "cell_type": "code",
   "execution_count": 1,
   "id": "0650e1e5-c505-44b7-8520-258257abcc19",
   "metadata": {},
   "outputs": [
    {
     "name": "stdin",
     "output_type": "stream",
     "text": [
      "Insira um número:  2\n",
      "Insira outro:  10\n"
     ]
    }
   ],
   "source": [
    "num_one = int(input('Insira um número: '))\n",
    "num_two = int(input('Insira outro: '))\n",
    "def sum():\n",
    "    answer = num_one + num_two\n",
    "    print(answer)"
   ]
  },
  {
   "cell_type": "code",
   "execution_count": 2,
   "id": "dde57552-7163-479e-a697-558305799306",
   "metadata": {},
   "outputs": [
    {
     "name": "stdout",
     "output_type": "stream",
     "text": [
      "12\n"
     ]
    }
   ],
   "source": [
    "sum()"
   ]
  }
 ],
 "metadata": {
  "kernelspec": {
   "display_name": "Python 3 (ipykernel)",
   "language": "python",
   "name": "python3"
  },
  "language_info": {
   "codemirror_mode": {
    "name": "ipython",
    "version": 3
   },
   "file_extension": ".py",
   "mimetype": "text/x-python",
   "name": "python",
   "nbconvert_exporter": "python",
   "pygments_lexer": "ipython3",
   "version": "3.12.4"
  }
 },
 "nbformat": 4,
 "nbformat_minor": 5
}
