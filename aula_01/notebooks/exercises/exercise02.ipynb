{
 "cells": [
  {
   "cell_type": "markdown",
   "id": "1ada8f6d-d4c4-4cad-9510-cbad07c5f40f",
   "metadata": {},
   "source": [
    "Crie um programa que receba 2 números e imprima a soma deles na tela."
   ]
  },
  {
   "cell_type": "code",
   "execution_count": 1,
   "id": "0650e1e5-c505-44b7-8520-258257abcc19",
   "metadata": {},
   "outputs": [],
   "source": [
    "num_one = 1\n",
    "num_two = 9\n",
    "def sum():\n",
    "    answer = num_one + num_two\n",
    "    print(answer)"
   ]
  },
  {
   "cell_type": "code",
   "execution_count": 2,
   "id": "dde57552-7163-479e-a697-558305799306",
   "metadata": {},
   "outputs": [
    {
     "name": "stdout",
     "output_type": "stream",
     "text": [
      "10\n"
     ]
    }
   ],
   "source": [
    "sum()"
   ]
  },
  {
   "cell_type": "code",
   "execution_count": null,
   "id": "5335749b-8177-497f-8ca7-56b74ccdbea7",
   "metadata": {},
   "outputs": [],
   "source": []
  }
 ],
 "metadata": {
  "kernelspec": {
   "display_name": "Python 3 (ipykernel)",
   "language": "python",
   "name": "python3"
  },
  "language_info": {
   "codemirror_mode": {
    "name": "ipython",
    "version": 3
   },
   "file_extension": ".py",
   "mimetype": "text/x-python",
   "name": "python",
   "nbconvert_exporter": "python",
   "pygments_lexer": "ipython3",
   "version": "3.12.1"
  }
 },
 "nbformat": 4,
 "nbformat_minor": 5
}
