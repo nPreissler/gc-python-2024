{
 "cells": [
  {
   "cell_type": "markdown",
   "id": "2daeff03-9b07-4d6e-b6b8-78f4dfa7b372",
   "metadata": {},
   "source": [
    "Crie um programa que leia seu nome e imprima na tela."
   ]
  },
  {
   "cell_type": "code",
   "execution_count": 1,
   "id": "f35ef01b-aff3-4cda-9a68-74541cc70054",
   "metadata": {},
   "outputs": [],
   "source": [
    "nome = 'Nestor Preissler'"
   ]
  },
  {
   "cell_type": "code",
   "execution_count": 2,
   "id": "01d7956f-1ae4-4a54-9f62-4a3be528a2ce",
   "metadata": {},
   "outputs": [
    {
     "name": "stdout",
     "output_type": "stream",
     "text": [
      "Nestor Preissler\n"
     ]
    }
   ],
   "source": [
    "print(nome)"
   ]
  }
 ],
 "metadata": {
  "kernelspec": {
   "display_name": "Python 3 (ipykernel)",
   "language": "python",
   "name": "python3"
  },
  "language_info": {
   "codemirror_mode": {
    "name": "ipython",
    "version": 3
   },
   "file_extension": ".py",
   "mimetype": "text/x-python",
   "name": "python",
   "nbconvert_exporter": "python",
   "pygments_lexer": "ipython3",
   "version": "3.12.1"
  }
 },
 "nbformat": 4,
 "nbformat_minor": 5
}
