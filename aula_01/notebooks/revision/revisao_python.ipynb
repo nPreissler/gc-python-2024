{
 "cells": [
  {
   "cell_type": "code",
   "execution_count": 3,
   "id": "21ec9318-c12f-4d97-a44c-78d98da25b87",
   "metadata": {},
   "outputs": [],
   "source": [
    "nome = 'isaac' #string\n",
    "e_professor = True #bool\n",
    "nota = 10 #int\n",
    "dinheiro_na_carteira = 20.00 #float"
   ]
  },
  {
   "cell_type": "code",
   "execution_count": 6,
   "id": "c9e5eaf1-ec66-4fa3-a491-e8bf40fd879e",
   "metadata": {},
   "outputs": [
    {
     "name": "stdout",
     "output_type": "stream",
     "text": [
      "É não\n"
     ]
    }
   ],
   "source": [
    "if 10 < 3:\n",
    "    print('Maior que 3')\n",
    "else: \n",
    "    print('É não')"
   ]
  },
  {
   "cell_type": "code",
   "execution_count": 7,
   "id": "2c0fb63b-7939-4cbb-9ed8-4534bcb611fe",
   "metadata": {},
   "outputs": [
    {
     "name": "stdout",
     "output_type": "stream",
     "text": [
      "maca\n",
      "banana\n",
      "uva\n",
      "leite\n"
     ]
    }
   ],
   "source": [
    "lista_de_compras = ['maca', 'banana', 'uva', 'leite']\n",
    "for i in lista_de_compras:\n",
    "    print(i)"
   ]
  },
  {
   "cell_type": "code",
   "execution_count": 1,
   "id": "b1d319a5-21c5-482b-9800-d91fdfa7526f",
   "metadata": {},
   "outputs": [],
   "source": [
    "t_tuple = [(12, 24), (32, 48)]\n",
    "\n",
    "d_dict = [{\n",
    "    'nome': 'Pedro Dutra',\n",
    "    'idade': 21,\n",
    "    'code': True\n",
    "}]"
   ]
  }
 ],
 "metadata": {
  "kernelspec": {
   "display_name": "Python 3 (ipykernel)",
   "language": "python",
   "name": "python3"
  },
  "language_info": {
   "codemirror_mode": {
    "name": "ipython",
    "version": 3
   },
   "file_extension": ".py",
   "mimetype": "text/x-python",
   "name": "python",
   "nbconvert_exporter": "python",
   "pygments_lexer": "ipython3",
   "version": "3.12.1"
  }
 },
 "nbformat": 4,
 "nbformat_minor": 5
}
