{
 "cells": [
  {
   "cell_type": "markdown",
   "id": "2daeff03-9b07-4d6e-b6b8-78f4dfa7b372",
   "metadata": {},
   "source": [
    "Crie um programa que leia seu nome e imprima na tela.\n",
    "Crie um programa que receba 2 números e imprima a soma deles na tela.\n",
    "Crie um programa que leia 3 números, imprima o maior, o menor e a média aritmética."
   ]
  },
  {
   "cell_type": "code",
   "execution_count": 1,
   "id": "f35ef01b-aff3-4cda-9a68-74541cc70054",
   "metadata": {},
   "outputs": [],
   "source": [
    "nome = 'Nestor Preissler'"
   ]
  },
  {
   "cell_type": "code",
   "execution_count": 2,
   "id": "01d7956f-1ae4-4a54-9f62-4a3be528a2ce",
   "metadata": {},
   "outputs": [
    {
     "name": "stdout",
     "output_type": "stream",
     "text": [
      "Nestor Preissler\n"
     ]
    }
   ],
   "source": [
    "print(nome)"
   ]
  },
  {
   "cell_type": "code",
   "execution_count": 3,
   "id": "3b9f0862-0f62-441a-955c-ef9c37fd21ea",
   "metadata": {},
   "outputs": [],
   "source": [
    "num_one = 1\n",
    "num_two = 9\n",
    "def sum():\n",
    "    answer = num_one + num_two\n",
    "    print(answer)"
   ]
  },
  {
   "cell_type": "code",
   "execution_count": 4,
   "id": "27bf3d3e-8e52-43d7-afa0-75dcc3fb104e",
   "metadata": {},
   "outputs": [
    {
     "name": "stdout",
     "output_type": "stream",
     "text": [
      "10\n"
     ]
    }
   ],
   "source": [
    "sum()"
   ]
  },
  {
   "cell_type": "code",
   "execution_count": 13,
   "id": "e3dbd203-2e9e-4602-bb7c-82a0dd40a43a",
   "metadata": {},
   "outputs": [
    {
     "name": "stdout",
     "output_type": "stream",
     "text": [
      "4.0\n"
     ]
    }
   ],
   "source": [
    "nums = [1, 2, 3]\n",
    "maior = max(nums)\n",
    "menor = min(nums)\n",
    "\n",
    "aritmetrica = nums[0] + nums[1] + nums[2] / len(nums)\n",
    "print(aritmetrica)"
   ]
  },
  {
   "cell_type": "markdown",
   "id": "d3549adf-9a74-4117-89e1-9d61b1d29738",
   "metadata": {},
   "source": [
    "Crie um programa em Python que solicite ao usuário que insira a sua idade. Com base na idade fornecida, o programa deve verificar se o usuário é menor de idade, maior de idade ou se está completando 18 anos.\n"
   ]
  },
  {
   "cell_type": "code",
   "execution_count": 26,
   "id": "93ed6ca8-2ea0-4d35-b9e6-36518f9f3fff",
   "metadata": {},
   "outputs": [
    {
     "name": "stdin",
     "output_type": "stream",
     "text": [
      "Qual sua idade? --> 122\n"
     ]
    },
    {
     "name": "stdout",
     "output_type": "stream",
     "text": [
      "Maior de idade!\n"
     ]
    }
   ],
   "source": [
    "def check_age():\n",
    "    age = int(input('Qual sua idade? -->'))\n",
    "    if age < 18:\n",
    "        print('Menor de idade!')\n",
    "    elif age == 18:\n",
    "        print('Feliz aniversário!')\n",
    "    else: \n",
    "        print('Maior de idade!')\n",
    "        \n",
    "check_age()"
   ]
  },
  {
   "cell_type": "markdown",
   "id": "28caede5-20de-4e2e-be6c-e95039f2a147",
   "metadata": {},
   "source": [
    "Crie um programa em Python que utilize um laço de repetição para contar de 1 a 5. O programa deve exibir cada número da contagem, um por vez, na tela.​​\n",
    "\n",
    "Inicie a contagem em 1 e continue até alcançar o número 5.​​\n",
    "\n"
   ]
  },
  {
   "cell_type": "code",
   "execution_count": 31,
   "id": "e2ff437d-5420-4463-9d1b-0d4b02cf056c",
   "metadata": {},
   "outputs": [
    {
     "name": "stdout",
     "output_type": "stream",
     "text": [
      "1\n",
      "2\n",
      "3\n",
      "4\n",
      "5\n"
     ]
    }
   ],
   "source": [
    "i = 0\n",
    "while i < 5:    \n",
    "    i = i + 1\n",
    "    print(i)"
   ]
  },
  {
   "cell_type": "markdown",
   "id": "9bad7848-bf44-4e38-9e4e-3656b17b049a",
   "metadata": {},
   "source": [
    " Crie um programa em Python que peça ao usuário para inserir o nome de três amigos. O programa deve armazenar esses nomes em uma lista e, em seguida, exibir uma mensagem personalizada para cada amigo, indicando que ele é seu amigo. ​​\n",
    "\n",
    "O programa deve solicitar o nome de três amigos, um por vez. ​​\n",
    "\n",
    "Após coletar os nomes, o programa deve exibir uma mensagem para cada nome na lista, como \"Nome_do_Amigo é meu amigo\".\n"
   ]
  },
  {
   "cell_type": "code",
   "execution_count": 36,
   "id": "112af7c2-2244-4c79-83de-8d72a2f3984a",
   "metadata": {},
   "outputs": [
    {
     "name": "stdin",
     "output_type": "stream",
     "text": [
      "Insira o nome de um amigo -->  Diego\n"
     ]
    },
    {
     "name": "stdout",
     "output_type": "stream",
     "text": [
      "Diego é meu amigo\n"
     ]
    },
    {
     "name": "stdin",
     "output_type": "stream",
     "text": [
      "Insira o nome de um amigo -->  Jeison\n"
     ]
    },
    {
     "name": "stdout",
     "output_type": "stream",
     "text": [
      "Jeison é meu amigo\n"
     ]
    },
    {
     "name": "stdin",
     "output_type": "stream",
     "text": [
      "Insira o nome de um amigo -->  Giancarlo\n"
     ]
    },
    {
     "name": "stdout",
     "output_type": "stream",
     "text": [
      "Giancarlo é meu amigo\n",
      "['Diego', 'Jeison', 'Giancarlo']\n"
     ]
    }
   ],
   "source": [
    "friends = []\n",
    "\n",
    "while len(friends) < 3:\n",
    "    f_name = str(input('Insira o nome de um amigo --> '))\n",
    "    print(f'{f_name} é meu amigo')\n",
    "    friends.append(f_name)\n",
    "\n",
    "print(friends)"
   ]
  },
  {
   "cell_type": "code",
   "execution_count": null,
   "id": "168a3ca3-1053-4259-931e-0aa8eab20493",
   "metadata": {},
   "outputs": [],
   "source": []
  }
 ],
 "metadata": {
  "kernelspec": {
   "display_name": "Python 3 (ipykernel)",
   "language": "python",
   "name": "python3"
  },
  "language_info": {
   "codemirror_mode": {
    "name": "ipython",
    "version": 3
   },
   "file_extension": ".py",
   "mimetype": "text/x-python",
   "name": "python",
   "nbconvert_exporter": "python",
   "pygments_lexer": "ipython3",
   "version": "3.12.1"
  }
 },
 "nbformat": 4,
 "nbformat_minor": 5
}
