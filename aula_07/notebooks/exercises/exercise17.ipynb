{
 "cells": [
  {
   "cell_type": "code",
   "execution_count": 1,
   "id": "27fa6be2-d3d1-4d25-ad80-3e4b4f162f2f",
   "metadata": {},
   "outputs": [],
   "source": [
    "import pandas as pd"
   ]
  },
  {
   "cell_type": "code",
   "execution_count": 2,
   "id": "0b340ad6-74aa-474c-b678-91fdcae3389c",
   "metadata": {},
   "outputs": [
    {
     "data": {
      "text/html": [
       "<div>\n",
       "<style scoped>\n",
       "    .dataframe tbody tr th:only-of-type {\n",
       "        vertical-align: middle;\n",
       "    }\n",
       "\n",
       "    .dataframe tbody tr th {\n",
       "        vertical-align: top;\n",
       "    }\n",
       "\n",
       "    .dataframe thead th {\n",
       "        text-align: right;\n",
       "    }\n",
       "</style>\n",
       "<table border=\"1\" class=\"dataframe\">\n",
       "  <thead>\n",
       "    <tr style=\"text-align: right;\">\n",
       "      <th></th>\n",
       "      <th>Grupo_A</th>\n",
       "      <th>Grupo_B</th>\n",
       "    </tr>\n",
       "  </thead>\n",
       "  <tbody>\n",
       "    <tr>\n",
       "      <th>0</th>\n",
       "      <td>51</td>\n",
       "      <td>23</td>\n",
       "    </tr>\n",
       "    <tr>\n",
       "      <th>1</th>\n",
       "      <td>92</td>\n",
       "      <td>25</td>\n",
       "    </tr>\n",
       "    <tr>\n",
       "      <th>2</th>\n",
       "      <td>14</td>\n",
       "      <td>88</td>\n",
       "    </tr>\n",
       "    <tr>\n",
       "      <th>3</th>\n",
       "      <td>71</td>\n",
       "      <td>59</td>\n",
       "    </tr>\n",
       "    <tr>\n",
       "      <th>4</th>\n",
       "      <td>60</td>\n",
       "      <td>40</td>\n",
       "    </tr>\n",
       "    <tr>\n",
       "      <th>...</th>\n",
       "      <td>...</td>\n",
       "      <td>...</td>\n",
       "    </tr>\n",
       "    <tr>\n",
       "      <th>95</th>\n",
       "      <td>39</td>\n",
       "      <td>0</td>\n",
       "    </tr>\n",
       "    <tr>\n",
       "      <th>96</th>\n",
       "      <td>84</td>\n",
       "      <td>26</td>\n",
       "    </tr>\n",
       "    <tr>\n",
       "      <th>97</th>\n",
       "      <td>79</td>\n",
       "      <td>61</td>\n",
       "    </tr>\n",
       "    <tr>\n",
       "      <th>98</th>\n",
       "      <td>81</td>\n",
       "      <td>76</td>\n",
       "    </tr>\n",
       "    <tr>\n",
       "      <th>99</th>\n",
       "      <td>52</td>\n",
       "      <td>2</td>\n",
       "    </tr>\n",
       "  </tbody>\n",
       "</table>\n",
       "<p>100 rows × 2 columns</p>\n",
       "</div>"
      ],
      "text/plain": [
       "    Grupo_A  Grupo_B\n",
       "0        51       23\n",
       "1        92       25\n",
       "2        14       88\n",
       "3        71       59\n",
       "4        60       40\n",
       "..      ...      ...\n",
       "95       39        0\n",
       "96       84       26\n",
       "97       79       61\n",
       "98       81       76\n",
       "99       52        2\n",
       "\n",
       "[100 rows x 2 columns]"
      ]
     },
     "execution_count": 2,
     "metadata": {},
     "output_type": "execute_result"
    }
   ],
   "source": [
    "notes_csv = pd.read_csv('../../files-dataframes/17_notas_grupos.csv')\n",
    "notes_csv"
   ]
  },
  {
   "cell_type": "code",
   "execution_count": 3,
   "id": "29b5b81a-94fb-4758-adc9-a73f2d296e22",
   "metadata": {},
   "outputs": [
    {
     "data": {
      "text/html": [
       "<div>\n",
       "<style scoped>\n",
       "    .dataframe tbody tr th:only-of-type {\n",
       "        vertical-align: middle;\n",
       "    }\n",
       "\n",
       "    .dataframe tbody tr th {\n",
       "        vertical-align: top;\n",
       "    }\n",
       "\n",
       "    .dataframe thead th {\n",
       "        text-align: right;\n",
       "    }\n",
       "</style>\n",
       "<table border=\"1\" class=\"dataframe\">\n",
       "  <thead>\n",
       "    <tr style=\"text-align: right;\">\n",
       "      <th></th>\n",
       "      <th>Grupo_A</th>\n",
       "      <th>Grupo_B</th>\n",
       "    </tr>\n",
       "  </thead>\n",
       "  <tbody>\n",
       "    <tr>\n",
       "      <th>0</th>\n",
       "      <td>51</td>\n",
       "      <td>23</td>\n",
       "    </tr>\n",
       "    <tr>\n",
       "      <th>1</th>\n",
       "      <td>92</td>\n",
       "      <td>25</td>\n",
       "    </tr>\n",
       "    <tr>\n",
       "      <th>2</th>\n",
       "      <td>14</td>\n",
       "      <td>88</td>\n",
       "    </tr>\n",
       "    <tr>\n",
       "      <th>3</th>\n",
       "      <td>71</td>\n",
       "      <td>59</td>\n",
       "    </tr>\n",
       "    <tr>\n",
       "      <th>4</th>\n",
       "      <td>60</td>\n",
       "      <td>40</td>\n",
       "    </tr>\n",
       "    <tr>\n",
       "      <th>...</th>\n",
       "      <td>...</td>\n",
       "      <td>...</td>\n",
       "    </tr>\n",
       "    <tr>\n",
       "      <th>95</th>\n",
       "      <td>39</td>\n",
       "      <td>0</td>\n",
       "    </tr>\n",
       "    <tr>\n",
       "      <th>96</th>\n",
       "      <td>84</td>\n",
       "      <td>26</td>\n",
       "    </tr>\n",
       "    <tr>\n",
       "      <th>97</th>\n",
       "      <td>79</td>\n",
       "      <td>61</td>\n",
       "    </tr>\n",
       "    <tr>\n",
       "      <th>98</th>\n",
       "      <td>81</td>\n",
       "      <td>76</td>\n",
       "    </tr>\n",
       "    <tr>\n",
       "      <th>99</th>\n",
       "      <td>52</td>\n",
       "      <td>2</td>\n",
       "    </tr>\n",
       "  </tbody>\n",
       "</table>\n",
       "<p>100 rows × 2 columns</p>\n",
       "</div>"
      ],
      "text/plain": [
       "    Grupo_A  Grupo_B\n",
       "0        51       23\n",
       "1        92       25\n",
       "2        14       88\n",
       "3        71       59\n",
       "4        60       40\n",
       "..      ...      ...\n",
       "95       39        0\n",
       "96       84       26\n",
       "97       79       61\n",
       "98       81       76\n",
       "99       52        2\n",
       "\n",
       "[100 rows x 2 columns]"
      ]
     },
     "execution_count": 3,
     "metadata": {},
     "output_type": "execute_result"
    }
   ],
   "source": [
    "notes_df = pd.DataFrame(notes_csv)\n",
    "notes_df"
   ]
  },
  {
   "cell_type": "code",
   "execution_count": 7,
   "id": "37dfbae7-c168-4f85-89b8-0dc606e17985",
   "metadata": {},
   "outputs": [
    {
     "name": "stdout",
     "output_type": "stream",
     "text": [
      "a média de notas do grupo A é 51.31\n",
      "a média de notas do grupo B é 48.05\n"
     ]
    }
   ],
   "source": [
    "# calculando a média de ambos os grupos\n",
    "group_mean_A = notes_df['Grupo_A'].mean()\n",
    "group_mean_B = notes_df['Grupo_B'].mean()\n",
    "print(f'a média de notas do grupo A é {group_mean_A}')\n",
    "print(f'a média de notas do grupo B é {group_mean_B}')"
   ]
  },
  {
   "cell_type": "code",
   "execution_count": 8,
   "id": "a73edc89-b496-4320-849a-8589ae6e588c",
   "metadata": {},
   "outputs": [
    {
     "name": "stdout",
     "output_type": "stream",
     "text": [
      "a mediana das notas do grupo A é 53.5\n",
      "a mediana das notas do grupo B é 43.5\n"
     ]
    }
   ],
   "source": [
    "# calculando a mediana de ambos os grupos\n",
    "group_A_median = notes_df['Grupo_A'].median()\n",
    "group_B_median = notes_df['Grupo_B'].median()\n",
    "print(f'a mediana das notas do grupo A é {group_A_median}')\n",
    "print(f'a mediana das notas do grupo B é {group_B_median}')"
   ]
  },
  {
   "cell_type": "code",
   "execution_count": 9,
   "id": "cae0ba19-3f76-40e6-bb66-fc1f1b14dd61",
   "metadata": {},
   "outputs": [
    {
     "name": "stdout",
     "output_type": "stream",
     "text": [
      "o devsio padrao das notas do grupo A é 29.704162548829295\n",
      "o devsio padrao das notas do grupo B é 30.74278267933283\n"
     ]
    }
   ],
   "source": [
    "# calculando o desvio padrão das notas de ambos os grupos\n",
    "dp_group_A = notes_df['Grupo_A'].std()\n",
    "dp_group_B = notes_df['Grupo_B'].std()\n",
    "print(f'o devsio padrao das notas do grupo A é {dp_group_A}')\n",
    "print(f'o devsio padrao das notas do grupo B é {dp_group_B}')\n"
   ]
  }
 ],
 "metadata": {
  "kernelspec": {
   "display_name": "Python 3 (ipykernel)",
   "language": "python",
   "name": "python3"
  },
  "language_info": {
   "codemirror_mode": {
    "name": "ipython",
    "version": 3
   },
   "file_extension": ".py",
   "mimetype": "text/x-python",
   "name": "python",
   "nbconvert_exporter": "python",
   "pygments_lexer": "ipython3",
   "version": "3.12.4"
  }
 },
 "nbformat": 4,
 "nbformat_minor": 5
}
