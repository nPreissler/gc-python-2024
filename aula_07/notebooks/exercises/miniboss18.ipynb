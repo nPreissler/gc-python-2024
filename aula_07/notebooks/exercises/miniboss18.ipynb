{
 "cells": [
  {
   "cell_type": "code",
   "execution_count": 3,
   "id": "35b4b57a-3012-49ca-9d20-50a6841d67d6",
   "metadata": {},
   "outputs": [],
   "source": [
    "import pandas as pd"
   ]
  },
  {
   "cell_type": "code",
   "execution_count": 4,
   "id": "af6d9d1e-e9d9-4e1f-b8cb-7bfc9f03c972",
   "metadata": {},
   "outputs": [
    {
     "data": {
      "text/html": [
       "<div>\n",
       "<style scoped>\n",
       "    .dataframe tbody tr th:only-of-type {\n",
       "        vertical-align: middle;\n",
       "    }\n",
       "\n",
       "    .dataframe tbody tr th {\n",
       "        vertical-align: top;\n",
       "    }\n",
       "\n",
       "    .dataframe thead th {\n",
       "        text-align: right;\n",
       "    }\n",
       "</style>\n",
       "<table border=\"1\" class=\"dataframe\">\n",
       "  <thead>\n",
       "    <tr style=\"text-align: right;\">\n",
       "      <th></th>\n",
       "      <th>Turma</th>\n",
       "      <th>Matemática</th>\n",
       "      <th>Ciências</th>\n",
       "    </tr>\n",
       "  </thead>\n",
       "  <tbody>\n",
       "    <tr>\n",
       "      <th>0</th>\n",
       "      <td>C</td>\n",
       "      <td>83</td>\n",
       "      <td>96</td>\n",
       "    </tr>\n",
       "    <tr>\n",
       "      <th>1</th>\n",
       "      <td>A</td>\n",
       "      <td>47</td>\n",
       "      <td>91</td>\n",
       "    </tr>\n",
       "    <tr>\n",
       "      <th>2</th>\n",
       "      <td>C</td>\n",
       "      <td>63</td>\n",
       "      <td>52</td>\n",
       "    </tr>\n",
       "    <tr>\n",
       "      <th>3</th>\n",
       "      <td>C</td>\n",
       "      <td>50</td>\n",
       "      <td>80</td>\n",
       "    </tr>\n",
       "    <tr>\n",
       "      <th>4</th>\n",
       "      <td>A</td>\n",
       "      <td>90</td>\n",
       "      <td>42</td>\n",
       "    </tr>\n",
       "    <tr>\n",
       "      <th>...</th>\n",
       "      <td>...</td>\n",
       "      <td>...</td>\n",
       "      <td>...</td>\n",
       "    </tr>\n",
       "    <tr>\n",
       "      <th>95</th>\n",
       "      <td>A</td>\n",
       "      <td>78</td>\n",
       "      <td>79</td>\n",
       "    </tr>\n",
       "    <tr>\n",
       "      <th>96</th>\n",
       "      <td>A</td>\n",
       "      <td>72</td>\n",
       "      <td>78</td>\n",
       "    </tr>\n",
       "    <tr>\n",
       "      <th>97</th>\n",
       "      <td>C</td>\n",
       "      <td>40</td>\n",
       "      <td>57</td>\n",
       "    </tr>\n",
       "    <tr>\n",
       "      <th>98</th>\n",
       "      <td>A</td>\n",
       "      <td>96</td>\n",
       "      <td>79</td>\n",
       "    </tr>\n",
       "    <tr>\n",
       "      <th>99</th>\n",
       "      <td>A</td>\n",
       "      <td>66</td>\n",
       "      <td>40</td>\n",
       "    </tr>\n",
       "  </tbody>\n",
       "</table>\n",
       "<p>100 rows × 3 columns</p>\n",
       "</div>"
      ],
      "text/plain": [
       "   Turma  Matemática  Ciências\n",
       "0      C          83        96\n",
       "1      A          47        91\n",
       "2      C          63        52\n",
       "3      C          50        80\n",
       "4      A          90        42\n",
       "..   ...         ...       ...\n",
       "95     A          78        79\n",
       "96     A          72        78\n",
       "97     C          40        57\n",
       "98     A          96        79\n",
       "99     A          66        40\n",
       "\n",
       "[100 rows x 3 columns]"
      ]
     },
     "execution_count": 4,
     "metadata": {},
     "output_type": "execute_result"
    }
   ],
   "source": [
    "# 1- carregar o dataset\n",
    "ds = pd.read_csv('../../files-dataframes/18_analise_avancada.csv')\n",
    "df = pd.DataFrame(ds)\n",
    "df"
   ]
  },
  {
   "cell_type": "code",
   "execution_count": 18,
   "id": "60ad52b5-a4a5-41d5-a35e-cf51ed60c188",
   "metadata": {},
   "outputs": [
    {
     "name": "stdout",
     "output_type": "stream",
     "text": [
      "a média da turma A em matemática é 69.51515151515152\n",
      "a média da turma B em matemática é 70.88888888888889\n",
      "a média da turma C em matemática é 68.74193548387096\n",
      "a média da turma A em ciências é 70.39393939393939\n",
      "a média da turma B em ciências é 71.55555555555556\n",
      "a média da turma C em ciências é 67.58064516129032\n"
     ]
    }
   ],
   "source": [
    "# 2- Calcular, média, mediana, moda, amplitude, variância, devsio padrão, covariância e correlação \n",
    "# entre matemática e ciências para cada turma\n",
    "\n",
    "## preparando o ambiente\n",
    "grouped = df.groupby('Turma')\n",
    "class_a = grouped.get_group('A')\n",
    "class_b = grouped.get_group('B')\n",
    "class_c = grouped.get_group('C')\n",
    "\n",
    "### média ###\n",
    "\n",
    "mean_a_mat = class_a['Matemática'].mean()\n",
    "mean_b_mat = class_b['Matemática'].mean()\n",
    "mean_c_mat = class_c['Matemática'].mean()\n",
    "\n",
    "print(f'a média da turma A em matemática é {mean_a_mat}')\n",
    "print(f'a média da turma B em matemática é {mean_b_mat}')\n",
    "print(f'a média da turma C em matemática é {mean_c_mat}')\n",
    "\n",
    "mean_a_cie = class_a['Ciências'].mean()\n",
    "mean_b_cie = class_b['Ciências'].mean()\n",
    "mean_c_cie = class_c['Ciências'].mean()\n",
    "\n",
    "print(f'a média da turma A em ciências é {mean_a_cie}')\n",
    "print(f'a média da turma B em ciências é {mean_b_cie}')\n",
    "print(f'a média da turma C em ciências é {mean_c_cie}')\n"
   ]
  },
  {
   "cell_type": "code",
   "execution_count": 19,
   "id": "843b779c-d94e-47e5-b436-8225b7e7fd1f",
   "metadata": {},
   "outputs": [
    {
     "name": "stdout",
     "output_type": "stream",
     "text": [
      "a mediana da turma A em matemática é 68.0\n",
      "a mediana da turma B em matemática é 71.0\n",
      "a mediana da turma C em matemática é 74.0\n",
      "a mediana da turma A em ciências é 72.0\n",
      "a mediana da turma B em ciências é 72.0\n",
      "a mediana da turma C em ciências é 67.0\n"
     ]
    }
   ],
   "source": [
    "### mediana ### \n",
    "\n",
    "median_a_mat = class_a['Matemática'].median()\n",
    "median_b_mat = class_b['Matemática'].median()\n",
    "median_c_mat = class_c['Matemática'].median()\n",
    "\n",
    "median_a_cie = class_a['Ciências'].median()\n",
    "median_b_cie = class_b['Ciências'].median()\n",
    "median_c_cie = class_c['Ciências'].median()\n",
    "\n",
    "print(f'a mediana da turma A em matemática é {median_a_mat}')\n",
    "print(f'a mediana da turma B em matemática é {median_b_mat}')\n",
    "print(f'a mediana da turma C em matemática é {median_c_mat}')\n",
    "\n",
    "print(f'a mediana da turma A em ciências é {median_a_cie}')\n",
    "print(f'a mediana da turma B em ciências é {median_b_cie}')\n",
    "print(f'a mediana da turma C em ciências é {median_c_cie}')"
   ]
  },
  {
   "cell_type": "code",
   "execution_count": 24,
   "id": "26dd58c4-a655-44e1-bb2c-9a05920de74d",
   "metadata": {},
   "outputs": [
    {
     "name": "stdout",
     "output_type": "stream",
     "text": [
      "a moda em nota que corresponde a turma A em matemática é 94\n",
      "a moda em nota que corresponde a turma B em matemática é 54\n",
      "a moda em nota que corresponde a turma C em matemática é 78\n",
      "a moda em nota que corresponde a turma A em ciências é 71\n",
      "a moda em nota que corresponde a turma B em ciências é 58\n",
      "a moda em nota que corresponde a turma C em ciências é 42\n"
     ]
    }
   ],
   "source": [
    "### moda ###\n",
    "\n",
    "mode_a_mat = class_a['Matemática'].mode()\n",
    "mode_b_mat = class_b['Matemática'].mode()\n",
    "mode_c_mat = class_c['Matemática'].mode()\n",
    "\n",
    "mode_a_cie = class_a['Ciências'].mode()\n",
    "mode_b_cie = class_b['Ciências'].mode()\n",
    "mode_c_cie = class_c['Ciências'].mode()\n",
    "\n",
    "print(f'a moda em nota que corresponde a turma A em matemática é {mode_a_mat[0]}')\n",
    "print(f'a moda em nota que corresponde a turma B em matemática é {mode_b_mat[0]}')\n",
    "print(f'a moda em nota que corresponde a turma C em matemática é {mode_c_mat[0]}')\n",
    "\n",
    "print(f'a moda em nota que corresponde a turma A em ciências é {mode_a_cie[0]}')\n",
    "print(f'a moda em nota que corresponde a turma B em ciências é {mode_b_cie[0]}')\n",
    "print(f'a moda em nota que corresponde a turma C em ciências é {mode_c_cie[0]}')"
   ]
  },
  {
   "cell_type": "code",
   "execution_count": 25,
   "id": "4af055ff-f056-449a-b599-78da74020196",
   "metadata": {},
   "outputs": [
    {
     "name": "stdout",
     "output_type": "stream",
     "text": [
      "a amplitude de notas em matemática da turma A é 57\n",
      "a amplitude de notas em matemática da turma B é 53\n",
      "a amplitude de notas em matemática da turma C é 60\n",
      "a amplitude de notas em Ciências da turma A é 58\n",
      "a amplitude de notas em Ciências da turma B é 58\n",
      "a amplitude de notas em Ciências da turma C é 57\n"
     ]
    }
   ],
   "source": [
    "### amplitude ###\n",
    "\n",
    "ampl_a_mat = class_a['Matemática'].max() - class_a['Matemática'].min()\n",
    "ampl_b_mat = class_b['Matemática'].max() - class_b['Matemática'].min()\n",
    "ampl_c_mat = class_c['Matemática'].max() - class_c['Matemática'].min()\n",
    "\n",
    "ampl_a_cie = class_a['Ciências'].max() - class_a['Ciências'].min()\n",
    "ampl_b_cie = class_b['Ciências'].max() - class_b['Ciências'].min()\n",
    "ampl_c_cie = class_c['Ciências'].max() - class_c['Ciências'].min()\n",
    "\n",
    "print(f'a amplitude de notas em matemática da turma A é {ampl_a_mat}')\n",
    "print(f'a amplitude de notas em matemática da turma B é {ampl_b_mat}')\n",
    "print(f'a amplitude de notas em matemática da turma C é {ampl_c_mat}')\n",
    "\n",
    "print(f'a amplitude de notas em Ciências da turma A é {ampl_a_cie}')\n",
    "print(f'a amplitude de notas em Ciências da turma B é {ampl_b_cie}')\n",
    "print(f'a amplitude de notas em Ciências da turma C é {ampl_c_cie}')\n"
   ]
  },
  {
   "cell_type": "code",
   "execution_count": 26,
   "id": "3661c77a-c2a0-40d7-827f-1e535d79e375",
   "metadata": {},
   "outputs": [
    {
     "name": "stdout",
     "output_type": "stream",
     "text": [
      "a variância da turma A em matemática é 325.57007575757575\n",
      "a variância da turma B em matemática é 234.10158730158733\n",
      "a variância da turma C em matemática é 307.99784946236565\n",
      "a variância da turma A em ciências é 345.9962121212121\n",
      "a variância da turma B em ciências é 374.3111111111111\n",
      "a variância da turma C em ciências é 347.31827956989247\n"
     ]
    }
   ],
   "source": [
    "### variância ###\n",
    "\n",
    "var_a_mat = class_a['Matemática'].var()\n",
    "var_b_mat = class_b['Matemática'].var()\n",
    "var_c_mat = class_c['Matemática'].var()\n",
    "\n",
    "var_a_cie = class_a['Ciências'].var()\n",
    "var_b_cie = class_b['Ciências'].var()\n",
    "var_c_cie = class_c['Ciências'].var()\n",
    "\n",
    "print(f'a variância da turma A em matemática é {var_a_mat}')\n",
    "print(f'a variância da turma B em matemática é {var_b_mat}')\n",
    "print(f'a variância da turma C em matemática é {var_c_mat}')\n",
    "\n",
    "print(f'a variância da turma A em ciências é {var_a_cie}')\n",
    "print(f'a variância da turma B em ciências é {var_b_cie}')\n",
    "print(f'a variância da turma C em ciências é {var_c_cie}')\n"
   ]
  },
  {
   "cell_type": "code",
   "execution_count": 30,
   "id": "2fd12d16-b50a-4d06-878d-ea7ff868297d",
   "metadata": {},
   "outputs": [
    {
     "name": "stdout",
     "output_type": "stream",
     "text": [
      "o desvio padrão de notas da turma A em matemática é 18.043560506662086\n",
      "o desvio padrão de notas da turma B em matemática é 15.30037866530065\n",
      "o desvio padrão de notas da turma C em matemática é 17.549867505550168\n",
      "o desvio padrão de notas da turma A em ciências é 18.600973418646998\n",
      "o desvio padrão de notas da turma B em ciências é 19.347121520037835\n",
      "o desvio padrão de notas da turma C em ciências é 18.636477123369975\n"
     ]
    }
   ],
   "source": [
    "### desvio padrão ### \n",
    "\n",
    "dp_a_mat = class_a['Matemática'].std()\n",
    "dp_b_mat = class_b['Matemática'].std()\n",
    "dp_c_mat = class_c['Matemática'].std()\n",
    "\n",
    "dp_a_cie = class_a['Ciências'].std()\n",
    "dp_b_cie = class_b['Ciências'].std()\n",
    "dp_c_cie = class_c['Ciências'].std()\n",
    "\n",
    "print(f'o desvio padrão de notas da turma A em matemática é {dp_a_mat}')\n",
    "print(f'o desvio padrão de notas da turma B em matemática é {dp_b_mat}')\n",
    "print(f'o desvio padrão de notas da turma C em matemática é {dp_c_mat}')\n",
    "\n",
    "print(f'o desvio padrão de notas da turma A em ciências é {dp_a_cie}')\n",
    "print(f'o desvio padrão de notas da turma B em ciências é {dp_b_cie}')\n",
    "print(f'o desvio padrão de notas da turma C em ciências é {dp_c_cie}')\n"
   ]
  },
  {
   "cell_type": "code",
   "execution_count": 32,
   "id": "7e587b2d-5d8d-454b-9131-9ae61a6cf1de",
   "metadata": {},
   "outputs": [
    {
     "name": "stdout",
     "output_type": "stream",
     "text": [
      "a covariância entre matemática e ciências na turma A é -68.64678030303028\n",
      "a covariância entre matemática e ciências na turma B é -25.16507936507936\n",
      "a covariância entre matemática e ciências na turma C é 77.0548387096774\n"
     ]
    }
   ],
   "source": [
    "### covariância ###\n",
    "\n",
    "covar_a = class_a[['Matemática', 'Ciências']].cov().iloc[0, 1]\n",
    "covar_b = class_b[['Matemática', 'Ciências']].cov().iloc[0, 1]\n",
    "covar_c = class_c[['Matemática', 'Ciências']].cov().iloc[0, 1]\n",
    "\n",
    "print(f'a covariância entre matemática e ciências na turma A é {covar_a}')\n",
    "print(f'a covariância entre matemática e ciências na turma B é {covar_b}')\n",
    "print(f'a covariância entre matemática e ciências na turma C é {covar_c}')"
   ]
  },
  {
   "cell_type": "code",
   "execution_count": 34,
   "id": "eb0e1bda-4033-4351-9e41-76fcea4fb48d",
   "metadata": {},
   "outputs": [
    {
     "name": "stdout",
     "output_type": "stream",
     "text": [
      "a correlação entre matemática e ciências na turma A é -0.20453246864178673\n",
      "a correlação entre matemática e ciências na turma B é -0.08501190842370167\n",
      "a correlação entre matemática e ciências na turma C é 0.23559292984320052\n"
     ]
    }
   ],
   "source": [
    "### correlação ###\n",
    "\n",
    "corrl_a = class_a[['Matemática', 'Ciências']].corr().iloc[0, 1]\n",
    "corrl_b = class_b[['Matemática', 'Ciências']].corr().iloc[0, 1]\n",
    "corrl_c = class_c[['Matemática', 'Ciências']].corr().iloc[0, 1]\n",
    "\n",
    "print(f'a correlação entre matemática e ciências na turma A é {corrl_a}')\n",
    "print(f'a correlação entre matemática e ciências na turma B é {corrl_b}')\n",
    "print(f'a correlação entre matemática e ciências na turma C é {corrl_c}')"
   ]
  },
  {
   "cell_type": "markdown",
   "id": "c579c87c-279c-40b8-a8f6-c7d7ad95dd6a",
   "metadata": {},
   "source": [
    "## Conclusões"
   ]
  },
  {
   "cell_type": "code",
   "execution_count": 35,
   "id": "cfe33998-b09d-492c-af5f-c94537c13315",
   "metadata": {},
   "outputs": [],
   "source": [
    "#1- Com base nas medidas acima, qual turma teve o melhor desempenho geral em Matemática e Ciências?\n",
    "\n",
    "#R: Analisando os dados retornados pelas funções mean() e median() a turma que teve melhor desempanho geral nas matérias foi a turma B\n",
    "\n",
    "\n",
    "#2- Qual turma tem as notas mais consistentes em termos de desvio padrão?\n",
    "\n",
    "#R: Vendo o retorno das funções presentes nas variáveis dp_-_mat e dp_-_cie a turma com dados mais consistesntes é a C\n",
    "\n",
    "\n",
    "#3- Existe uma correlação entre o desempenho em Matemática e Ciências para cada turma? Essa correlação é positiva ou negativa?\n",
    "\n",
    "#R: A - Negativa, B - Negativa e C - Positiva\n",
    "\n",
    "\n",
    "#4- Qual turma apresenta a maior amplitude de notas? O que isso nos diz sobre a desigualdade de desempenho dentro da turma?\n",
    "\n",
    "#R: Com base nos resultados gerados a turma com maior amplitude de notas é a C e isso indica uma desigualdade de desempenho grande na\n",
    "# turma, maior do que em A e B"
   ]
  }
 ],
 "metadata": {
  "kernelspec": {
   "display_name": "Python 3 (ipykernel)",
   "language": "python",
   "name": "python3"
  },
  "language_info": {
   "codemirror_mode": {
    "name": "ipython",
    "version": 3
   },
   "file_extension": ".py",
   "mimetype": "text/x-python",
   "name": "python",
   "nbconvert_exporter": "python",
   "pygments_lexer": "ipython3",
   "version": "3.12.1"
  }
 },
 "nbformat": 4,
 "nbformat_minor": 5
}
