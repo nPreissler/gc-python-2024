{
 "cells": [
  {
   "cell_type": "code",
   "execution_count": 1,
   "id": "d1fbbbb9-0f28-4b69-b3b2-2e74184c8e4a",
   "metadata": {},
   "outputs": [],
   "source": [
    "import pandas as pd"
   ]
  },
  {
   "cell_type": "code",
   "execution_count": 2,
   "id": "744450f8-2db7-4fa9-9c9e-0a450e7c3ac9",
   "metadata": {},
   "outputs": [
    {
     "data": {
      "text/html": [
       "<div>\n",
       "<style scoped>\n",
       "    .dataframe tbody tr th:only-of-type {\n",
       "        vertical-align: middle;\n",
       "    }\n",
       "\n",
       "    .dataframe tbody tr th {\n",
       "        vertical-align: top;\n",
       "    }\n",
       "\n",
       "    .dataframe thead th {\n",
       "        text-align: right;\n",
       "    }\n",
       "</style>\n",
       "<table border=\"1\" class=\"dataframe\">\n",
       "  <thead>\n",
       "    <tr style=\"text-align: right;\">\n",
       "      <th></th>\n",
       "      <th>Aluno</th>\n",
       "      <th>Idade</th>\n",
       "      <th>Matemática</th>\n",
       "      <th>Ciências</th>\n",
       "    </tr>\n",
       "  </thead>\n",
       "  <tbody>\n",
       "    <tr>\n",
       "      <th>0</th>\n",
       "      <td>1</td>\n",
       "      <td>17</td>\n",
       "      <td>67</td>\n",
       "      <td>60</td>\n",
       "    </tr>\n",
       "    <tr>\n",
       "      <th>1</th>\n",
       "      <td>2</td>\n",
       "      <td>15</td>\n",
       "      <td>83</td>\n",
       "      <td>78</td>\n",
       "    </tr>\n",
       "    <tr>\n",
       "      <th>2</th>\n",
       "      <td>3</td>\n",
       "      <td>17</td>\n",
       "      <td>70</td>\n",
       "      <td>61</td>\n",
       "    </tr>\n",
       "    <tr>\n",
       "      <th>3</th>\n",
       "      <td>4</td>\n",
       "      <td>17</td>\n",
       "      <td>76</td>\n",
       "      <td>85</td>\n",
       "    </tr>\n",
       "    <tr>\n",
       "      <th>4</th>\n",
       "      <td>5</td>\n",
       "      <td>15</td>\n",
       "      <td>67</td>\n",
       "      <td>91</td>\n",
       "    </tr>\n",
       "    <tr>\n",
       "      <th>...</th>\n",
       "      <td>...</td>\n",
       "      <td>...</td>\n",
       "      <td>...</td>\n",
       "      <td>...</td>\n",
       "    </tr>\n",
       "    <tr>\n",
       "      <th>95</th>\n",
       "      <td>96</td>\n",
       "      <td>15</td>\n",
       "      <td>87</td>\n",
       "      <td>71</td>\n",
       "    </tr>\n",
       "    <tr>\n",
       "      <th>96</th>\n",
       "      <td>97</td>\n",
       "      <td>15</td>\n",
       "      <td>82</td>\n",
       "      <td>81</td>\n",
       "    </tr>\n",
       "    <tr>\n",
       "      <th>97</th>\n",
       "      <td>98</td>\n",
       "      <td>17</td>\n",
       "      <td>96</td>\n",
       "      <td>81</td>\n",
       "    </tr>\n",
       "    <tr>\n",
       "      <th>98</th>\n",
       "      <td>99</td>\n",
       "      <td>15</td>\n",
       "      <td>91</td>\n",
       "      <td>89</td>\n",
       "    </tr>\n",
       "    <tr>\n",
       "      <th>99</th>\n",
       "      <td>100</td>\n",
       "      <td>15</td>\n",
       "      <td>92</td>\n",
       "      <td>97</td>\n",
       "    </tr>\n",
       "  </tbody>\n",
       "</table>\n",
       "<p>100 rows × 4 columns</p>\n",
       "</div>"
      ],
      "text/plain": [
       "    Aluno  Idade  Matemática  Ciências\n",
       "0       1     17          67        60\n",
       "1       2     15          83        78\n",
       "2       3     17          70        61\n",
       "3       4     17          76        85\n",
       "4       5     15          67        91\n",
       "..    ...    ...         ...       ...\n",
       "95     96     15          87        71\n",
       "96     97     15          82        81\n",
       "97     98     17          96        81\n",
       "98     99     15          91        89\n",
       "99    100     15          92        97\n",
       "\n",
       "[100 rows x 4 columns]"
      ]
     },
     "execution_count": 2,
     "metadata": {},
     "output_type": "execute_result"
    }
   ],
   "source": [
    "notes_csv = pd.read_csv('../../files-dataframes/16_dataset_notas_alunos.csv')\n",
    "notes_csv\n",
    "#reading file to init analisys"
   ]
  },
  {
   "cell_type": "code",
   "execution_count": 4,
   "id": "0f0d6760-573b-43bd-bfa3-dc9d4808e5fb",
   "metadata": {},
   "outputs": [
    {
     "data": {
      "text/html": [
       "<div>\n",
       "<style scoped>\n",
       "    .dataframe tbody tr th:only-of-type {\n",
       "        vertical-align: middle;\n",
       "    }\n",
       "\n",
       "    .dataframe tbody tr th {\n",
       "        vertical-align: top;\n",
       "    }\n",
       "\n",
       "    .dataframe thead th {\n",
       "        text-align: right;\n",
       "    }\n",
       "</style>\n",
       "<table border=\"1\" class=\"dataframe\">\n",
       "  <thead>\n",
       "    <tr style=\"text-align: right;\">\n",
       "      <th></th>\n",
       "      <th>Aluno</th>\n",
       "      <th>Idade</th>\n",
       "      <th>Matemática</th>\n",
       "      <th>Ciências</th>\n",
       "    </tr>\n",
       "  </thead>\n",
       "  <tbody>\n",
       "    <tr>\n",
       "      <th>0</th>\n",
       "      <td>1</td>\n",
       "      <td>17</td>\n",
       "      <td>67</td>\n",
       "      <td>60</td>\n",
       "    </tr>\n",
       "    <tr>\n",
       "      <th>1</th>\n",
       "      <td>2</td>\n",
       "      <td>15</td>\n",
       "      <td>83</td>\n",
       "      <td>78</td>\n",
       "    </tr>\n",
       "    <tr>\n",
       "      <th>2</th>\n",
       "      <td>3</td>\n",
       "      <td>17</td>\n",
       "      <td>70</td>\n",
       "      <td>61</td>\n",
       "    </tr>\n",
       "    <tr>\n",
       "      <th>3</th>\n",
       "      <td>4</td>\n",
       "      <td>17</td>\n",
       "      <td>76</td>\n",
       "      <td>85</td>\n",
       "    </tr>\n",
       "    <tr>\n",
       "      <th>4</th>\n",
       "      <td>5</td>\n",
       "      <td>15</td>\n",
       "      <td>67</td>\n",
       "      <td>91</td>\n",
       "    </tr>\n",
       "    <tr>\n",
       "      <th>...</th>\n",
       "      <td>...</td>\n",
       "      <td>...</td>\n",
       "      <td>...</td>\n",
       "      <td>...</td>\n",
       "    </tr>\n",
       "    <tr>\n",
       "      <th>95</th>\n",
       "      <td>96</td>\n",
       "      <td>15</td>\n",
       "      <td>87</td>\n",
       "      <td>71</td>\n",
       "    </tr>\n",
       "    <tr>\n",
       "      <th>96</th>\n",
       "      <td>97</td>\n",
       "      <td>15</td>\n",
       "      <td>82</td>\n",
       "      <td>81</td>\n",
       "    </tr>\n",
       "    <tr>\n",
       "      <th>97</th>\n",
       "      <td>98</td>\n",
       "      <td>17</td>\n",
       "      <td>96</td>\n",
       "      <td>81</td>\n",
       "    </tr>\n",
       "    <tr>\n",
       "      <th>98</th>\n",
       "      <td>99</td>\n",
       "      <td>15</td>\n",
       "      <td>91</td>\n",
       "      <td>89</td>\n",
       "    </tr>\n",
       "    <tr>\n",
       "      <th>99</th>\n",
       "      <td>100</td>\n",
       "      <td>15</td>\n",
       "      <td>92</td>\n",
       "      <td>97</td>\n",
       "    </tr>\n",
       "  </tbody>\n",
       "</table>\n",
       "<p>100 rows × 4 columns</p>\n",
       "</div>"
      ],
      "text/plain": [
       "    Aluno  Idade  Matemática  Ciências\n",
       "0       1     17          67        60\n",
       "1       2     15          83        78\n",
       "2       3     17          70        61\n",
       "3       4     17          76        85\n",
       "4       5     15          67        91\n",
       "..    ...    ...         ...       ...\n",
       "95     96     15          87        71\n",
       "96     97     15          82        81\n",
       "97     98     17          96        81\n",
       "98     99     15          91        89\n",
       "99    100     15          92        97\n",
       "\n",
       "[100 rows x 4 columns]"
      ]
     },
     "execution_count": 4,
     "metadata": {},
     "output_type": "execute_result"
    }
   ],
   "source": [
    "notes_df = pd.DataFrame(notes_csv)\n",
    "notes_df"
   ]
  },
  {
   "cell_type": "code",
   "execution_count": 13,
   "id": "589a4c0c-d816-497a-b8a1-073c5ff14d18",
   "metadata": {},
   "outputs": [
    {
     "name": "stdout",
     "output_type": "stream",
     "text": [
      "a média das notas de matemática é 81.57\n",
      "a média das notas de matemática é 80.26\n"
     ]
    }
   ],
   "source": [
    "# calculando a media das notas de matemática e ciências\n",
    "mean_mat = notes_df['Matemática'].mean()\n",
    "print(f'a média das notas de matemática é {mean_mat}')\n",
    "mean_cie = notes_df['Ciências'].mean()\n",
    "print(f'a média das notas de matemática é {mean_cie}')\n"
   ]
  },
  {
   "cell_type": "code",
   "execution_count": 14,
   "id": "ac3f05bc-1c26-4056-83cb-73f782d9faa2",
   "metadata": {},
   "outputs": [
    {
     "name": "stdout",
     "output_type": "stream",
     "text": [
      "a mediana das notas de matemática e ciências é 84.5\n",
      "a mediana das notas de matemática e ciências é 84.5\n"
     ]
    }
   ],
   "source": [
    "# calculando a mediana das notas de matemática e ciências\n",
    "median_mat = notes_df['Matemática'].median()\n",
    "print(f'a mediana das notas de matemática e ciências é {median_mat}')\n",
    "median_cie = notes_df['Ciências'].median()\n",
    "print(f'a mediana das notas de matemática e ciências é {median_mat}')\n"
   ]
  },
  {
   "cell_type": "code",
   "execution_count": 26,
   "id": "a45a7ece-5147-438d-9723-01834a5a8464",
   "metadata": {},
   "outputs": [
    {
     "name": "stdout",
     "output_type": "stream",
     "text": [
      " a moda das notas de matemática é 98\n",
      " a moda das notas de ciências é 92\n"
     ]
    }
   ],
   "source": [
    "# Determinando a moda das notas em matemática e ciências \n",
    "mode_mat = notes_df['Matemática'].mode()\n",
    "print(f' a moda das notas de matemática é {mode_mat[0]}')\n",
    "mode_cie = notes_df['Ciências'].mode()\n",
    "print(f' a moda das notas de ciências é {mode_cie[0]}')"
   ]
  },
  {
   "cell_type": "code",
   "execution_count": 27,
   "id": "80fb9cf9-d710-4b25-8192-e27c4e696178",
   "metadata": {},
   "outputs": [
    {
     "name": "stdout",
     "output_type": "stream",
     "text": [
      "a amplitude das notas de matemática é 40\n",
      "a amplitude das notas de ciências é 40\n"
     ]
    }
   ],
   "source": [
    "# calculando a amplitude das notas de mat e cie\n",
    "ampl_mat = notes_df['Ciências'].max() - notes_df['Ciências'].min()\n",
    "ampl_cie = notes_df['Matemática'].max() - notes_df['Matemática'].min()\n",
    "print(f'a amplitude das notas de matemática é {ampl_mat}')\n",
    "print(f'a amplitude das notas de ciências é {ampl_cie}')"
   ]
  },
  {
   "cell_type": "code",
   "execution_count": 19,
   "id": "514cd865-2586-43c5-b016-c89c87d19238",
   "metadata": {},
   "outputs": [
    {
     "name": "stdout",
     "output_type": "stream",
     "text": [
      "a variância das notas de matemática é 160.75262626262628\n",
      "a variância das notas de ciência é 150.1539393939394\n"
     ]
    }
   ],
   "source": [
    "# calculando a variância das notas de mat e cie\n",
    "var_mat = notes_df['Matemática'].var()\n",
    "print(f'a variância das notas de matemática é {var_mat}')\n",
    "var_cie = notes_df['Ciências'].var()\n",
    "print(f'a variância das notas de ciência é {var_cie}')"
   ]
  },
  {
   "cell_type": "code",
   "execution_count": 20,
   "id": "1231e81f-e790-4bf9-baed-83e1597699b9",
   "metadata": {},
   "outputs": [
    {
     "name": "stdout",
     "output_type": "stream",
     "text": [
      "o desvio padrão das notas de matemática é <bound method Series.std of 0     67\n",
      "1     83\n",
      "2     70\n",
      "3     76\n",
      "4     67\n",
      "      ..\n",
      "95    87\n",
      "96    82\n",
      "97    96\n",
      "98    91\n",
      "99    92\n",
      "Name: Matemática, Length: 100, dtype: int64>\n",
      "o desvio padrão das notas de ciências é <bound method Series.std of 0     60\n",
      "1     78\n",
      "2     61\n",
      "3     85\n",
      "4     91\n",
      "      ..\n",
      "95    71\n",
      "96    81\n",
      "97    81\n",
      "98    89\n",
      "99    97\n",
      "Name: Ciências, Length: 100, dtype: int64>\n"
     ]
    }
   ],
   "source": [
    "# calculando o desvio padrão das notas de cie e mat\n",
    "dp_mat = notes_df['Matemática'].std\n",
    "dp_cie = notes_df['Ciências'].std\n",
    "print(f'o desvio padrão das notas de matemática é {dp_mat}')\n",
    "print(f'o desvio padrão das notas de ciências é {dp_cie}')"
   ]
  },
  {
   "cell_type": "code",
   "execution_count": 24,
   "id": "17eb69fa-35a0-42a3-ac07-f0202918cda9",
   "metadata": {},
   "outputs": [
    {
     "name": "stdout",
     "output_type": "stream",
     "text": [
      " a convariância é igual a 9.133131313131308\n"
     ]
    }
   ],
   "source": [
    "#  calculando a covariância das notas de mat e cie\n",
    "covar_df = notes_df[['Matemática', 'Ciências']].cov().iloc[0, 1]\n",
    "print(f' a convariância é igual a {covar_df}')"
   ]
  },
  {
   "cell_type": "code",
   "execution_count": 25,
   "id": "ef0520e6-d663-4e90-a80a-29b47aa98ec6",
   "metadata": {},
   "outputs": [
    {
     "name": "stdout",
     "output_type": "stream",
     "text": [
      "a correlação é igual a 0.058785781765414935\n"
     ]
    }
   ],
   "source": [
    "# calculando a correlação das notas de mat e cie \n",
    "corrl_df = notes_df[['Matemática', 'Ciências']].corr().iloc[0, 1]\n",
    "print(f'a correlação é igual a {corrl_df}')"
   ]
  }
 ],
 "metadata": {
  "kernelspec": {
   "display_name": "Python 3 (ipykernel)",
   "language": "python",
   "name": "python3"
  },
  "language_info": {
   "codemirror_mode": {
    "name": "ipython",
    "version": 3
   },
   "file_extension": ".py",
   "mimetype": "text/x-python",
   "name": "python",
   "nbconvert_exporter": "python",
   "pygments_lexer": "ipython3",
   "version": "3.12.4"
  }
 },
 "nbformat": 4,
 "nbformat_minor": 5
}
