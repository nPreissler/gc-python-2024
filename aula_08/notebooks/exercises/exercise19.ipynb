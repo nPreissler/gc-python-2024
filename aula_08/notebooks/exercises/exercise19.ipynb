{
 "cells": [
  {
   "cell_type": "code",
   "execution_count": 1,
   "id": "c033d77f-e6fa-44c2-b3d6-efaf446cbae3",
   "metadata": {},
   "outputs": [],
   "source": [
    "import pandas as pd"
   ]
  },
  {
   "cell_type": "markdown",
   "id": "1d8bff67-abd2-4479-80d6-638ecceeb1f1",
   "metadata": {},
   "source": [
    "Existem valores ausentes ou inconsistentes no dataset? Se\n",
    "sim, como você trataria esses dados para garantir a\n",
    "qualidade da análise?"
   ]
  },
  {
   "cell_type": "code",
   "execution_count": 2,
   "id": "24f72dea-1fe3-4ed4-aa24-b9aba3e84217",
   "metadata": {},
   "outputs": [
    {
     "data": {
      "text/html": [
       "<div>\n",
       "<style scoped>\n",
       "    .dataframe tbody tr th:only-of-type {\n",
       "        vertical-align: middle;\n",
       "    }\n",
       "\n",
       "    .dataframe tbody tr th {\n",
       "        vertical-align: top;\n",
       "    }\n",
       "\n",
       "    .dataframe thead th {\n",
       "        text-align: right;\n",
       "    }\n",
       "</style>\n",
       "<table border=\"1\" class=\"dataframe\">\n",
       "  <thead>\n",
       "    <tr style=\"text-align: right;\">\n",
       "      <th></th>\n",
       "      <th>species</th>\n",
       "      <th>island</th>\n",
       "      <th>bill_length_mm</th>\n",
       "      <th>bill_depth_mm</th>\n",
       "      <th>flipper_length_mm</th>\n",
       "      <th>body_mass_g</th>\n",
       "      <th>sex</th>\n",
       "      <th>year</th>\n",
       "    </tr>\n",
       "  </thead>\n",
       "  <tbody>\n",
       "    <tr>\n",
       "      <th>0</th>\n",
       "      <td>Adelie</td>\n",
       "      <td>Torgersen</td>\n",
       "      <td>39.1</td>\n",
       "      <td>18.7</td>\n",
       "      <td>181.0</td>\n",
       "      <td>3750.0</td>\n",
       "      <td>male</td>\n",
       "      <td>2007</td>\n",
       "    </tr>\n",
       "    <tr>\n",
       "      <th>1</th>\n",
       "      <td>Adelie</td>\n",
       "      <td>Torgersen</td>\n",
       "      <td>39.5</td>\n",
       "      <td>17.4</td>\n",
       "      <td>186.0</td>\n",
       "      <td>3800.0</td>\n",
       "      <td>female</td>\n",
       "      <td>2007</td>\n",
       "    </tr>\n",
       "    <tr>\n",
       "      <th>2</th>\n",
       "      <td>Adelie</td>\n",
       "      <td>Torgersen</td>\n",
       "      <td>40.3</td>\n",
       "      <td>18.0</td>\n",
       "      <td>195.0</td>\n",
       "      <td>3250.0</td>\n",
       "      <td>female</td>\n",
       "      <td>2007</td>\n",
       "    </tr>\n",
       "    <tr>\n",
       "      <th>4</th>\n",
       "      <td>Adelie</td>\n",
       "      <td>Torgersen</td>\n",
       "      <td>36.7</td>\n",
       "      <td>19.3</td>\n",
       "      <td>193.0</td>\n",
       "      <td>3450.0</td>\n",
       "      <td>female</td>\n",
       "      <td>2007</td>\n",
       "    </tr>\n",
       "    <tr>\n",
       "      <th>5</th>\n",
       "      <td>Adelie</td>\n",
       "      <td>Torgersen</td>\n",
       "      <td>39.3</td>\n",
       "      <td>20.6</td>\n",
       "      <td>190.0</td>\n",
       "      <td>3650.0</td>\n",
       "      <td>male</td>\n",
       "      <td>2007</td>\n",
       "    </tr>\n",
       "    <tr>\n",
       "      <th>...</th>\n",
       "      <td>...</td>\n",
       "      <td>...</td>\n",
       "      <td>...</td>\n",
       "      <td>...</td>\n",
       "      <td>...</td>\n",
       "      <td>...</td>\n",
       "      <td>...</td>\n",
       "      <td>...</td>\n",
       "    </tr>\n",
       "    <tr>\n",
       "      <th>339</th>\n",
       "      <td>Chinstrap</td>\n",
       "      <td>Dream</td>\n",
       "      <td>55.8</td>\n",
       "      <td>19.8</td>\n",
       "      <td>207.0</td>\n",
       "      <td>4000.0</td>\n",
       "      <td>male</td>\n",
       "      <td>2009</td>\n",
       "    </tr>\n",
       "    <tr>\n",
       "      <th>340</th>\n",
       "      <td>Chinstrap</td>\n",
       "      <td>Dream</td>\n",
       "      <td>43.5</td>\n",
       "      <td>18.1</td>\n",
       "      <td>202.0</td>\n",
       "      <td>3400.0</td>\n",
       "      <td>female</td>\n",
       "      <td>2009</td>\n",
       "    </tr>\n",
       "    <tr>\n",
       "      <th>341</th>\n",
       "      <td>Chinstrap</td>\n",
       "      <td>Dream</td>\n",
       "      <td>49.6</td>\n",
       "      <td>18.2</td>\n",
       "      <td>193.0</td>\n",
       "      <td>3775.0</td>\n",
       "      <td>male</td>\n",
       "      <td>2009</td>\n",
       "    </tr>\n",
       "    <tr>\n",
       "      <th>342</th>\n",
       "      <td>Chinstrap</td>\n",
       "      <td>Dream</td>\n",
       "      <td>50.8</td>\n",
       "      <td>19.0</td>\n",
       "      <td>210.0</td>\n",
       "      <td>4100.0</td>\n",
       "      <td>male</td>\n",
       "      <td>2009</td>\n",
       "    </tr>\n",
       "    <tr>\n",
       "      <th>343</th>\n",
       "      <td>Chinstrap</td>\n",
       "      <td>Dream</td>\n",
       "      <td>50.2</td>\n",
       "      <td>18.7</td>\n",
       "      <td>198.0</td>\n",
       "      <td>3775.0</td>\n",
       "      <td>female</td>\n",
       "      <td>2009</td>\n",
       "    </tr>\n",
       "  </tbody>\n",
       "</table>\n",
       "<p>333 rows × 8 columns</p>\n",
       "</div>"
      ],
      "text/plain": [
       "       species     island  bill_length_mm  bill_depth_mm  flipper_length_mm  \\\n",
       "0       Adelie  Torgersen            39.1           18.7              181.0   \n",
       "1       Adelie  Torgersen            39.5           17.4              186.0   \n",
       "2       Adelie  Torgersen            40.3           18.0              195.0   \n",
       "4       Adelie  Torgersen            36.7           19.3              193.0   \n",
       "5       Adelie  Torgersen            39.3           20.6              190.0   \n",
       "..         ...        ...             ...            ...                ...   \n",
       "339  Chinstrap      Dream            55.8           19.8              207.0   \n",
       "340  Chinstrap      Dream            43.5           18.1              202.0   \n",
       "341  Chinstrap      Dream            49.6           18.2              193.0   \n",
       "342  Chinstrap      Dream            50.8           19.0              210.0   \n",
       "343  Chinstrap      Dream            50.2           18.7              198.0   \n",
       "\n",
       "     body_mass_g     sex  year  \n",
       "0         3750.0    male  2007  \n",
       "1         3800.0  female  2007  \n",
       "2         3250.0  female  2007  \n",
       "4         3450.0  female  2007  \n",
       "5         3650.0    male  2007  \n",
       "..           ...     ...   ...  \n",
       "339       4000.0    male  2009  \n",
       "340       3400.0  female  2009  \n",
       "341       3775.0    male  2009  \n",
       "342       4100.0    male  2009  \n",
       "343       3775.0  female  2009  \n",
       "\n",
       "[333 rows x 8 columns]"
      ]
     },
     "execution_count": 2,
     "metadata": {},
     "output_type": "execute_result"
    }
   ],
   "source": [
    "# sim, para trata-los basta usar a função dropna() do pandas\n",
    "\n",
    "#-->\n",
    "\n",
    "p_penguins_csv = pd.read_csv('../../files-dataframes/palmerpenguins_original.csv') #Lendo csv\n",
    "df_p_penguins = pd.DataFrame(p_penguins_csv) #Transformando em df\n",
    "df_p_penguins = df_p_penguins.dropna() #Droppando dados nulos\n",
    "df_p_penguins #imprimindo df sem células nulas"
   ]
  },
  {
   "cell_type": "markdown",
   "id": "c8e862a9-4e2a-4582-8edd-72c859639509",
   "metadata": {},
   "source": [
    "Realize uma análise exploratória dos dados para entender as\n",
    "características físicas (como peso, comprimento do bico e\n",
    "comprimento da asa) das três espécies de pinguins. Utilize\n",
    "agregações e agrupamentos para comparar essas\n",
    "características entre as espécies."
   ]
  },
  {
   "cell_type": "code",
   "execution_count": 4,
   "id": "612281ae-f960-4ac5-9a05-b19e903534e1",
   "metadata": {},
   "outputs": [],
   "source": [
    "grouped_species = df_p_penguins.groupby('species')\n",
    "spc_adelie = grouped_species.get_group('Adelie')\n",
    "spc_gentoo = grouped_species.get_group('Gentoo')\n",
    "spc_chinstrap = grouped_species.get_group('Chinstrap')"
   ]
  },
  {
   "cell_type": "markdown",
   "id": "dc3fa4cb-00fa-487b-a4a6-6b591d070479",
   "metadata": {},
   "source": [
    "ADELIE"
   ]
  },
  {
   "cell_type": "code",
   "execution_count": 9,
   "id": "b4de1077-a41d-476a-87c6-33869b3310d4",
   "metadata": {},
   "outputs": [
    {
     "data": {
      "text/plain": [
       "38.849999999999994"
      ]
     },
     "execution_count": 9,
     "metadata": {},
     "output_type": "execute_result"
    }
   ],
   "source": [
    "spc_adelie['bill_length_mm'].median()\n",
    "# Mediana de comprimento do bico de pinguins da espécie Adelie "
   ]
  },
  {
   "cell_type": "code",
   "execution_count": 11,
   "id": "119d8c8e-5e73-4082-be12-bd9f2af1d1c4",
   "metadata": {},
   "outputs": [
    {
     "data": {
      "text/plain": [
       "18.4"
      ]
     },
     "execution_count": 11,
     "metadata": {},
     "output_type": "execute_result"
    }
   ],
   "source": [
    "spc_adelie['bill_depth_mm'].median()\n",
    "# Mediana de profundidade do bico de pinguins da espécie Adelie"
   ]
  },
  {
   "cell_type": "code",
   "execution_count": 12,
   "id": "c02fa787-817f-44db-a66e-22b80df78a5e",
   "metadata": {},
   "outputs": [
    {
     "data": {
      "text/plain": [
       "190.0"
      ]
     },
     "execution_count": 12,
     "metadata": {},
     "output_type": "execute_result"
    }
   ],
   "source": [
    "spc_adelie['flipper_length_mm'].median()\n",
    "# Médiana de comprimento da nadadeira de pinguins da espécie Adelie"
   ]
  },
  {
   "cell_type": "code",
   "execution_count": 13,
   "id": "6d4608bb-e641-4c81-bd28-8b1e48a5b00a",
   "metadata": {},
   "outputs": [
    {
     "data": {
      "text/plain": [
       "3700.0"
      ]
     },
     "execution_count": 13,
     "metadata": {},
     "output_type": "execute_result"
    }
   ],
   "source": [
    "spc_adelie['body_mass_g'].median()\n",
    "# Mediana de massa corporal de pinguins da espécie Adelie"
   ]
  },
  {
   "cell_type": "markdown",
   "id": "88ed16e2-10cd-42bc-b4d0-df3354f5c2ef",
   "metadata": {},
   "source": [
    "GENTOO"
   ]
  },
  {
   "cell_type": "code",
   "execution_count": 14,
   "id": "7796cac2-1ec5-495d-848d-461e0138b559",
   "metadata": {},
   "outputs": [
    {
     "data": {
      "text/plain": [
       "47.4"
      ]
     },
     "execution_count": 14,
     "metadata": {},
     "output_type": "execute_result"
    }
   ],
   "source": [
    "spc_gentoo['bill_length_mm'].median()\n",
    "# Mediana de comprimento do bico de pinguins da espécie Gentoo "
   ]
  },
  {
   "cell_type": "code",
   "execution_count": 15,
   "id": "3ed9842a-7463-4f2a-9fad-55e947984c5b",
   "metadata": {},
   "outputs": [
    {
     "data": {
      "text/plain": [
       "15.0"
      ]
     },
     "execution_count": 15,
     "metadata": {},
     "output_type": "execute_result"
    }
   ],
   "source": [
    "spc_gentoo['bill_depth_mm'].median()\n",
    "# Mediana de profundidade do bico de pinguins da espécie Gentoo"
   ]
  },
  {
   "cell_type": "code",
   "execution_count": 16,
   "id": "16f0743f-0f33-4c46-aec7-dc66969176e7",
   "metadata": {},
   "outputs": [
    {
     "data": {
      "text/plain": [
       "216.0"
      ]
     },
     "execution_count": 16,
     "metadata": {},
     "output_type": "execute_result"
    }
   ],
   "source": [
    "spc_gentoo['flipper_length_mm'].median()\n",
    "# Médiana de comprimento da nadadeira de pinguins da espécie Gentoo"
   ]
  },
  {
   "cell_type": "code",
   "execution_count": 17,
   "id": "afd918dd-5bf6-4799-8087-3eb028225c2f",
   "metadata": {},
   "outputs": [
    {
     "data": {
      "text/plain": [
       "5050.0"
      ]
     },
     "execution_count": 17,
     "metadata": {},
     "output_type": "execute_result"
    }
   ],
   "source": [
    "spc_gentoo['body_mass_g'].median()\n",
    "# Mediana de massa corporal de pinguins da espécie Gentoo"
   ]
  },
  {
   "cell_type": "markdown",
   "id": "7427b4a8-46f1-44ba-ba13-633add011c21",
   "metadata": {},
   "source": [
    "CHINSTRAP"
   ]
  },
  {
   "cell_type": "code",
   "execution_count": 18,
   "id": "5ba5c8cf-9194-415f-8b0a-6fb6b960059c",
   "metadata": {},
   "outputs": [
    {
     "data": {
      "text/plain": [
       "49.55"
      ]
     },
     "execution_count": 18,
     "metadata": {},
     "output_type": "execute_result"
    }
   ],
   "source": [
    "spc_chinstrap['bill_length_mm'].median()\n",
    "# Mediana de comprimento do bico de pinguins da espécie Chinstrap"
   ]
  },
  {
   "cell_type": "code",
   "execution_count": 19,
   "id": "3e1dadbb-7288-46ce-835f-0207d79a5a5d",
   "metadata": {},
   "outputs": [
    {
     "data": {
      "text/plain": [
       "18.45"
      ]
     },
     "execution_count": 19,
     "metadata": {},
     "output_type": "execute_result"
    }
   ],
   "source": [
    "spc_chinstrap['bill_depth_mm'].median()\n",
    "# Mediana de profundidade do bico de pinguins da espécie Chinstrap"
   ]
  },
  {
   "cell_type": "code",
   "execution_count": 20,
   "id": "5b6fae0c-e8ab-41f4-a533-525768220c98",
   "metadata": {},
   "outputs": [
    {
     "data": {
      "text/plain": [
       "196.0"
      ]
     },
     "execution_count": 20,
     "metadata": {},
     "output_type": "execute_result"
    }
   ],
   "source": [
    "spc_chinstrap['flipper_length_mm'].median()\n",
    "# Médiana de comprimento da nadadeira de pinguins da espécie Chinstrap"
   ]
  },
  {
   "cell_type": "code",
   "execution_count": 23,
   "id": "1a8dbfdb-ed35-4da5-9cd5-516a013669cf",
   "metadata": {},
   "outputs": [
    {
     "data": {
      "text/plain": [
       "3700.0"
      ]
     },
     "execution_count": 23,
     "metadata": {},
     "output_type": "execute_result"
    }
   ],
   "source": [
    "spc_chinstrap['body_mass_g'].median()\n",
    "# Mediana de massa corporal de pinguins da espécie Chinstrap"
   ]
  },
  {
   "cell_type": "markdown",
   "id": "44ba2839-ddcf-4450-82c8-8382fd9c0294",
   "metadata": {},
   "source": [
    "Crie gráficos para visualizar as diferenças entre as espécies de\n",
    "pinguins com base nas características físicas. Use gráficos de\n",
    "dispersão, boxplot e histogramas para mostrar as distribuições e\n",
    "comparações entre as variáveis."
   ]
  },
  {
   "cell_type": "code",
   "execution_count": 24,
   "id": "fd702328-afc6-4864-95c5-32210eb1adc4",
   "metadata": {},
   "outputs": [
    {
     "data": {
      "text/html": [
       "<div>\n",
       "<style scoped>\n",
       "    .dataframe tbody tr th:only-of-type {\n",
       "        vertical-align: middle;\n",
       "    }\n",
       "\n",
       "    .dataframe tbody tr th {\n",
       "        vertical-align: top;\n",
       "    }\n",
       "\n",
       "    .dataframe thead th {\n",
       "        text-align: right;\n",
       "    }\n",
       "</style>\n",
       "<table border=\"1\" class=\"dataframe\">\n",
       "  <thead>\n",
       "    <tr style=\"text-align: right;\">\n",
       "      <th></th>\n",
       "      <th>bill_length_mm</th>\n",
       "      <th>bill_depth_mm</th>\n",
       "      <th>flipper_length_mm</th>\n",
       "      <th>body_mass_g</th>\n",
       "      <th>year</th>\n",
       "    </tr>\n",
       "  </thead>\n",
       "  <tbody>\n",
       "    <tr>\n",
       "      <th>count</th>\n",
       "      <td>333.000000</td>\n",
       "      <td>333.000000</td>\n",
       "      <td>333.000000</td>\n",
       "      <td>333.000000</td>\n",
       "      <td>333.000000</td>\n",
       "    </tr>\n",
       "    <tr>\n",
       "      <th>mean</th>\n",
       "      <td>43.992793</td>\n",
       "      <td>17.164865</td>\n",
       "      <td>200.966967</td>\n",
       "      <td>4207.057057</td>\n",
       "      <td>2008.042042</td>\n",
       "    </tr>\n",
       "    <tr>\n",
       "      <th>std</th>\n",
       "      <td>5.468668</td>\n",
       "      <td>1.969235</td>\n",
       "      <td>14.015765</td>\n",
       "      <td>805.215802</td>\n",
       "      <td>0.812944</td>\n",
       "    </tr>\n",
       "    <tr>\n",
       "      <th>min</th>\n",
       "      <td>32.100000</td>\n",
       "      <td>13.100000</td>\n",
       "      <td>172.000000</td>\n",
       "      <td>2700.000000</td>\n",
       "      <td>2007.000000</td>\n",
       "    </tr>\n",
       "    <tr>\n",
       "      <th>25%</th>\n",
       "      <td>39.500000</td>\n",
       "      <td>15.600000</td>\n",
       "      <td>190.000000</td>\n",
       "      <td>3550.000000</td>\n",
       "      <td>2007.000000</td>\n",
       "    </tr>\n",
       "    <tr>\n",
       "      <th>50%</th>\n",
       "      <td>44.500000</td>\n",
       "      <td>17.300000</td>\n",
       "      <td>197.000000</td>\n",
       "      <td>4050.000000</td>\n",
       "      <td>2008.000000</td>\n",
       "    </tr>\n",
       "    <tr>\n",
       "      <th>75%</th>\n",
       "      <td>48.600000</td>\n",
       "      <td>18.700000</td>\n",
       "      <td>213.000000</td>\n",
       "      <td>4775.000000</td>\n",
       "      <td>2009.000000</td>\n",
       "    </tr>\n",
       "    <tr>\n",
       "      <th>max</th>\n",
       "      <td>59.600000</td>\n",
       "      <td>21.500000</td>\n",
       "      <td>231.000000</td>\n",
       "      <td>6300.000000</td>\n",
       "      <td>2009.000000</td>\n",
       "    </tr>\n",
       "  </tbody>\n",
       "</table>\n",
       "</div>"
      ],
      "text/plain": [
       "       bill_length_mm  bill_depth_mm  flipper_length_mm  body_mass_g  \\\n",
       "count      333.000000     333.000000         333.000000   333.000000   \n",
       "mean        43.992793      17.164865         200.966967  4207.057057   \n",
       "std          5.468668       1.969235          14.015765   805.215802   \n",
       "min         32.100000      13.100000         172.000000  2700.000000   \n",
       "25%         39.500000      15.600000         190.000000  3550.000000   \n",
       "50%         44.500000      17.300000         197.000000  4050.000000   \n",
       "75%         48.600000      18.700000         213.000000  4775.000000   \n",
       "max         59.600000      21.500000         231.000000  6300.000000   \n",
       "\n",
       "              year  \n",
       "count   333.000000  \n",
       "mean   2008.042042  \n",
       "std       0.812944  \n",
       "min    2007.000000  \n",
       "25%    2007.000000  \n",
       "50%    2008.000000  \n",
       "75%    2009.000000  \n",
       "max    2009.000000  "
      ]
     },
     "execution_count": 24,
     "metadata": {},
     "output_type": "execute_result"
    }
   ],
   "source": [
    "df_p_penguins.describe()"
   ]
  },
  {
   "cell_type": "code",
   "execution_count": null,
   "id": "fc7dd7a3-47a2-41a4-b61b-fc7d86035384",
   "metadata": {},
   "outputs": [],
   "source": []
  }
 ],
 "metadata": {
  "kernelspec": {
   "display_name": "Python 3 (ipykernel)",
   "language": "python",
   "name": "python3"
  },
  "language_info": {
   "codemirror_mode": {
    "name": "ipython",
    "version": 3
   },
   "file_extension": ".py",
   "mimetype": "text/x-python",
   "name": "python",
   "nbconvert_exporter": "python",
   "pygments_lexer": "ipython3",
   "version": "3.12.1"
  }
 },
 "nbformat": 4,
 "nbformat_minor": 5
}
