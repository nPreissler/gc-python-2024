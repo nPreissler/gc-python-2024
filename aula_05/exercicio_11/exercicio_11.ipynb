{
 "cells": [
  {
   "cell_type": "markdown",
   "id": "7958d435-a4c6-4fbf-8ce7-aa65d400266a",
   "metadata": {},
   "source": [
    "Exercício 11 – Mini Boss - Coop"
   ]
  },
  {
   "cell_type": "raw",
   "id": "a895990c-a703-42ec-ba73-172dc5d26572",
   "metadata": {},
   "source": [
    "✦ Crie e exiba um dataframe musicas com informações\n",
    "sobre suas músicas favoritas ( 5 músicas ):\n",
    "\n",
    "✦ id_musica – identificador da música.\n",
    "✦ nome_musica – nome da música.\n",
    "✦ artista – nome do artista ou banda\n",
    "✦ genero – gênero musical (Pop, Rock, Jazz, etc.)\n",
    "✦ duracao – duração da música em minutos."
   ]
  },
  {
   "cell_type": "code",
   "execution_count": 1,
   "id": "196e59ed-42ac-4e3a-91cb-9ec9fdd05bde",
   "metadata": {},
   "outputs": [],
   "source": [
    "import pandas as pd"
   ]
  },
  {
   "cell_type": "code",
   "execution_count": 2,
   "id": "e11bbe0e-1429-4fdd-91b7-9ba58e041b82",
   "metadata": {},
   "outputs": [],
   "source": [
    "db_musicas = pd.DataFrame(\n",
    "    {\n",
    "    'id_musica': [13,21,36,49,52],\n",
    "    'nome_musica': ['clarao', 'take me to church', 'drag me down' ,'after hours', 'bring me to life' ],\n",
    "    'artista': ['jao','hozier','one direction', 'the weeknd', 'evanescence'],\n",
    "    'genero': ['pop','rocks', 'pop', 'pop', 'rock'],\n",
    "    'duracao': [3.10, 4.17, 3.12, 6.02, 4.14]\n",
    "}\n",
    ")"
   ]
  },
  {
   "cell_type": "code",
   "execution_count": 3,
   "id": "905438a8-b4af-4357-bc02-d45bbdce526a",
   "metadata": {},
   "outputs": [
    {
     "data": {
      "text/html": [
       "<div>\n",
       "<style scoped>\n",
       "    .dataframe tbody tr th:only-of-type {\n",
       "        vertical-align: middle;\n",
       "    }\n",
       "\n",
       "    .dataframe tbody tr th {\n",
       "        vertical-align: top;\n",
       "    }\n",
       "\n",
       "    .dataframe thead th {\n",
       "        text-align: right;\n",
       "    }\n",
       "</style>\n",
       "<table border=\"1\" class=\"dataframe\">\n",
       "  <thead>\n",
       "    <tr style=\"text-align: right;\">\n",
       "      <th></th>\n",
       "      <th>id_musica</th>\n",
       "      <th>nome_musica</th>\n",
       "      <th>artista</th>\n",
       "      <th>genero</th>\n",
       "      <th>duracao</th>\n",
       "    </tr>\n",
       "  </thead>\n",
       "  <tbody>\n",
       "    <tr>\n",
       "      <th>0</th>\n",
       "      <td>13</td>\n",
       "      <td>clarao</td>\n",
       "      <td>jao</td>\n",
       "      <td>pop</td>\n",
       "      <td>3.10</td>\n",
       "    </tr>\n",
       "    <tr>\n",
       "      <th>1</th>\n",
       "      <td>21</td>\n",
       "      <td>take me to church</td>\n",
       "      <td>hozier</td>\n",
       "      <td>rocks</td>\n",
       "      <td>4.17</td>\n",
       "    </tr>\n",
       "    <tr>\n",
       "      <th>2</th>\n",
       "      <td>36</td>\n",
       "      <td>drag me down</td>\n",
       "      <td>one direction</td>\n",
       "      <td>pop</td>\n",
       "      <td>3.12</td>\n",
       "    </tr>\n",
       "    <tr>\n",
       "      <th>3</th>\n",
       "      <td>49</td>\n",
       "      <td>after hours</td>\n",
       "      <td>the weeknd</td>\n",
       "      <td>pop</td>\n",
       "      <td>6.02</td>\n",
       "    </tr>\n",
       "    <tr>\n",
       "      <th>4</th>\n",
       "      <td>52</td>\n",
       "      <td>bring me to life</td>\n",
       "      <td>evanescence</td>\n",
       "      <td>rock</td>\n",
       "      <td>4.14</td>\n",
       "    </tr>\n",
       "  </tbody>\n",
       "</table>\n",
       "</div>"
      ],
      "text/plain": [
       "   id_musica        nome_musica        artista genero  duracao\n",
       "0         13             clarao            jao    pop     3.10\n",
       "1         21  take me to church         hozier  rocks     4.17\n",
       "2         36       drag me down  one direction    pop     3.12\n",
       "3         49        after hours     the weeknd    pop     6.02\n",
       "4         52   bring me to life    evanescence   rock     4.14"
      ]
     },
     "execution_count": 3,
     "metadata": {},
     "output_type": "execute_result"
    }
   ],
   "source": [
    "db_musicas.head()"
   ]
  },
  {
   "cell_type": "markdown",
   "id": "87ab07cb-770a-44b0-b624-7c942d225441",
   "metadata": {},
   "source": [
    "#### Crie e exiba um dataframe reproducoes dessas musicas:"
   ]
  },
  {
   "cell_type": "raw",
   "id": "44c5b1b3-5d34-494b-8ab9-3e8836682d58",
   "metadata": {},
   "source": [
    "✦ id_reproducao – identificador único da reprodução. \n",
    "✦ id_musica – identificador da música reproduzida. \n",
    "✦ data_reproducao – data da reprodução. \n",
    "✦ duracao_reproducao – duração da reprodução (caso o usuário não ouça a música completa)."
   ]
  },
  {
   "cell_type": "code",
   "execution_count": 4,
   "id": "b400ae37-d3c0-41f5-abe1-f1506714962a",
   "metadata": {},
   "outputs": [],
   "source": [
    "db_reproducoes = pd.DataFrame(\n",
    "    {\n",
    "        'id_reproducoes': [],\n",
    "        'id_musica': [],\n",
    "        'data_reproducao': [],\n",
    "        'duracao_reproducao': []\n",
    "    }\n",
    ")"
   ]
  },
  {
   "cell_type": "code",
   "execution_count": 5,
   "id": "9bb50a2f-12e8-4db4-9809-e2283ced7824",
   "metadata": {},
   "outputs": [
    {
     "data": {
      "text/html": [
       "<div>\n",
       "<style scoped>\n",
       "    .dataframe tbody tr th:only-of-type {\n",
       "        vertical-align: middle;\n",
       "    }\n",
       "\n",
       "    .dataframe tbody tr th {\n",
       "        vertical-align: top;\n",
       "    }\n",
       "\n",
       "    .dataframe thead th {\n",
       "        text-align: right;\n",
       "    }\n",
       "</style>\n",
       "<table border=\"1\" class=\"dataframe\">\n",
       "  <thead>\n",
       "    <tr style=\"text-align: right;\">\n",
       "      <th></th>\n",
       "      <th>id_reproducoes</th>\n",
       "      <th>id_musica</th>\n",
       "      <th>data_reproducao</th>\n",
       "      <th>duracao_reproducao</th>\n",
       "    </tr>\n",
       "  </thead>\n",
       "  <tbody>\n",
       "  </tbody>\n",
       "</table>\n",
       "</div>"
      ],
      "text/plain": [
       "Empty DataFrame\n",
       "Columns: [id_reproducoes, id_musica, data_reproducao, duracao_reproducao]\n",
       "Index: []"
      ]
     },
     "execution_count": 5,
     "metadata": {},
     "output_type": "execute_result"
    }
   ],
   "source": [
    "db_reproducoes"
   ]
  },
  {
   "cell_type": "raw",
   "id": "b043e6e4-b617-43f2-9b70-e524d85d1380",
   "metadata": {},
   "source": [
    "✦ Simule 5 reproduções de diferentes músicas, associando o id_musica com a data e a duração reproduzida.\n",
    "✦ Realize um merge entre os dataframes musicas e reproducoes, combinando-os pela coluna id_musica.\n",
    "✦ Exiba o nome da música, o artista e a duração"
   ]
  },
  {
   "cell_type": "code",
   "execution_count": 7,
   "id": "981251f3-526d-4130-9a99-2b47fdbe4fc7",
   "metadata": {},
   "outputs": [],
   "source": [
    "import time"
   ]
  },
  {
   "cell_type": "code",
   "execution_count": 15,
   "id": "99f60d6a-982f-44d7-b32c-a9e71dc3aeeb",
   "metadata": {},
   "outputs": [
    {
     "name": "stdout",
     "output_type": "stream",
     "text": [
      "   id_musica nome_musica artista genero  duracao\n",
      "0         13      clarao     jao    pop      3.1\n"
     ]
    }
   ],
   "source": [
    "def play(dataframe, music):\n",
    "    searched_music = music\n",
    "    consult = dataframe[dataframe['nome_musica'] == searched_music]\n",
    "    print(consult)\n",
    "\n",
    "play(db_musicas, 'clarao')"
   ]
  }
 ],
 "metadata": {
  "kernelspec": {
   "display_name": "Python 3 (ipykernel)",
   "language": "python",
   "name": "python3"
  },
  "language_info": {
   "codemirror_mode": {
    "name": "ipython",
    "version": 3
   },
   "file_extension": ".py",
   "mimetype": "text/x-python",
   "name": "python",
   "nbconvert_exporter": "python",
   "pygments_lexer": "ipython3",
   "version": "3.12.1"
  }
 },
 "nbformat": 4,
 "nbformat_minor": 5
}
