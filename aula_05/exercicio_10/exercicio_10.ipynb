{
 "cells": [
  {
   "cell_type": "markdown",
   "id": "31e9aacf-c4b4-4dd2-83b6-297a56ca71a0",
   "metadata": {},
   "source": [
    "### O que é uma chave primária em um banco de dados? Por que é importante que cada tabela tenha uma chave primária? "
   ]
  },
  {
   "cell_type": "code",
   "execution_count": 1,
   "id": "3b317698-a598-4989-a628-f1bdb24163df",
   "metadata": {},
   "outputs": [],
   "source": [
    "# É o que define um valor de \"orientação\", qual não se repete para não existirem erros durante consultas, geralmente chaves primárias\n",
    "# sáo usadas em valores como: ID, CPF, telefone, RG e etc."
   ]
  },
  {
   "cell_type": "markdown",
   "id": "8588ac11-25a7-4707-8893-a861b23a9545",
   "metadata": {},
   "source": [
    "### Em um dataframe do Pandas, como você pode identificar uma coluna que atua como uma chave primária?"
   ]
  },
  {
   "cell_type": "code",
   "execution_count": 3,
   "id": "9f967a02-37ca-454d-987a-fd62ad8ad87c",
   "metadata": {},
   "outputs": [],
   "source": [
    "# chave_primaria = df['id'].is_unique and df['id'].notnull().all()\n",
    "\n",
    "### -> R: Em pandas, para verificar qual a chave primária de uma tabela você necessita fazer \n",
    "### algumas consultas, como: ver se os valores da coluna são todos únicos e verificar se\n",
    "### todos os campos da coluna estão preenchidos."
   ]
  },
  {
   "cell_type": "markdown",
   "id": "05588039-4797-4912-b979-a66d281b8f60",
   "metadata": {},
   "source": [
    "### O que são chaves estrangeiras e como elas se relacionam com as chaves primárias?"
   ]
  },
  {
   "cell_type": "markdown",
   "id": "b2d3f3e2-a90b-4862-9a8c-2795204e1723",
   "metadata": {},
   "source": [
    "Uma chave estrangeira é um campo (ou um conjunto de campos) em uma tabela que cria um vínculo com a chave primária de outra tabela. Ela é usada para garantir a integridade referencial entre duas tabelas, o que significa que os dados entre as tabelas são consistentes e inter-relacionados de forma correta.\n",
    "\n",
    "Relação entre ambas:\n",
    "A chave primária de uma tabela é usada como a fonte de referência (ou origem).\n",
    "A chave estrangeira é inserida em outra tabela e refere-se à chave primária da primeira tabela.\n"
   ]
  },
  {
   "cell_type": "markdown",
   "id": "f6b67b34-1aac-4bec-9985-db0af9a22152",
   "metadata": {},
   "source": [
    "### Explique como a relação entre duas tabelas com chaves primárias e estrangeiras pode ser representada com dataframes no Pandas."
   ]
  },
  {
   "cell_type": "markdown",
   "id": "b1f1de0f-dc29-4c78-85f8-241364fa8de4",
   "metadata": {},
   "source": [
    "É representado adicionando uma chave primaria no primerio dataframe e então nos dataframes subsequentes, adicionando esta chave como chave estrangeira e utilizando da função inclusa no pandas chamada merge, incluindo como paramentro a chave em comum.\n",
    "\n",
    "import pandas as pd\n",
    "\n",
    "#DataFrame A com chave primária\n",
    "df_alunos = pd.DataFrame({\n",
    "    'id': [1, 2, 3], # codigo do aluno\n",
    "    'nome': ['Alice', 'Bob', 'Charlie']\n",
    "})\n",
    "\n",
    "#DataFrame B com chave estrangeira\n",
    "df_turma = pd.DataFrame({\n",
    "    'id_turma': [101, 102, 103],\n",
    "    'id_aluno': [1, 2, 1],  # Chave estrangeira que referencia df_alunos com o codigo do aluno\n",
    "    'descricao': ['Desc 1', 'Desc 2', 'Desc 3']\n",
    "})\n",
    "\n",
    "df_combinado = pd.merge(df_alunos, df_turma, left_on='id', right_on='id_aluno', how='inner')\n",
    "\n",
    "#parametros usados, os dois dataframes, adicionando os dfs, na esquerda o aluno e direita a turma, no parametro de como sera realizado a junção é do tipo inner que retorna apenas as linhas onde há correspondência entre as duas tabelas (ou DataFrames) com base na chave especificada "
   ]
  },
  {
   "cell_type": "markdown",
   "id": "67119ef8-1d4b-4bc0-9282-e12af0699986",
   "metadata": {},
   "source": [
    "### Qual a diferença entre os métodos .merge() e .join() no Pandas?"
   ]
  },
  {
   "cell_type": "code",
   "execution_count": null,
   "id": "3d68736b-3393-4ed4-afe1-85ea152158e5",
   "metadata": {},
   "outputs": [],
   "source": []
  },
  {
   "cell_type": "markdown",
   "id": "fc26369e-e942-44b0-a59d-28c841b05ef1",
   "metadata": {},
   "source": [
    "### Quando você usaria um inner join ao invés de um left join? Explique com exemplos"
   ]
  },
  {
   "cell_type": "code",
   "execution_count": null,
   "id": "14ce0dd4-c912-41f1-8021-f896198a7905",
   "metadata": {},
   "outputs": [],
   "source": []
  },
  {
   "cell_type": "markdown",
   "id": "d4886910-5bd7-4c91-913e-a69121d55667",
   "metadata": {},
   "source": [
    "### Em que situação um merge resultaria em valores faltantes? Como podemos lidar com esses valores?"
   ]
  },
  {
   "cell_type": "markdown",
   "id": "5a70c14a-4911-412d-be50-f443a0ac5d77",
   "metadata": {},
   "source": [
    "R = Uma situação que merge pode vir a resultar em valores faltantes, é quando é feito horizontalmente (axis=1) e as linhas desses dataframes que foram mergeados não se coreespondem em quantidade, o que gera diversas células NaN do lado do dataframe menor\n",
    "\n",
    "Para preencher valores faltantes gerados por junções de DataFrames podemos utilizar diveras funções/comandos, como:\n",
    "fillna() - para preencher células faltantes com algum valor passado dentro dos parênteses;\n",
    "dropna() - para droppar linhas e colunas com células com valores faltantes;\n",
    "interpolate() - para interpolar os valores faltantes"
   ]
  },
  {
   "cell_type": "markdown",
   "id": "35b3306c-ba88-4e1e-bb47-7b322bc98720",
   "metadata": {},
   "source": [
    "### Quais são as maneiras de tratar dados faltantes no Pandas? Explique os métodos .dropna() e .fillna()"
   ]
  },
  {
   "cell_type": "markdown",
   "id": "9399abed-c246-4946-af05-9c0f533ca3cc",
   "metadata": {},
   "source": [
    "dropna() -> exclui linhas e colunas onde existem células que tem valores faltantes \n",
    "fillna() -> substitui lugares onde se tem valores faltantes por um valor passado dentro dos parênteses da função. "
   ]
  }
 ],
 "metadata": {
  "kernelspec": {
   "display_name": "Python 3 (ipykernel)",
   "language": "python",
   "name": "python3"
  },
  "language_info": {
   "codemirror_mode": {
    "name": "ipython",
    "version": 3
   },
   "file_extension": ".py",
   "mimetype": "text/x-python",
   "name": "python",
   "nbconvert_exporter": "python",
   "pygments_lexer": "ipython3",
   "version": "3.12.3"
  }
 },
 "nbformat": 4,
 "nbformat_minor": 5
}
