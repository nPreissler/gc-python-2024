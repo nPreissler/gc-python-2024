{
 "cells": [
  {
   "cell_type": "markdown",
   "id": "7958d435-a4c6-4fbf-8ce7-aa65d400266a",
   "metadata": {},
   "source": [
    "# Exercício 11 – Mini Boss - Coop"
   ]
  },
  {
   "cell_type": "markdown",
   "id": "a895990c-a703-42ec-ba73-172dc5d26572",
   "metadata": {
    "vscode": {
     "languageId": "raw"
    }
   },
   "source": [
    "### Crie e exiba um dataframe musicas com informações sobre suas músicas favoritas (5 músicas):\n",
    "\n",
    "- id_musica – identificador da música.\\\n",
    "- nome_musica – nome da música.\\\n",
    "- artista – nome do artista ou banda\\\n",
    "- genero – gênero musical (Pop, Rock, Jazz, etc.)\\\n",
    "- duracao – duração da música em minutos."
   ]
  },
  {
   "cell_type": "code",
   "execution_count": 10,
   "id": "196e59ed-42ac-4e3a-91cb-9ec9fdd05bde",
   "metadata": {},
   "outputs": [],
   "source": [
    "import pandas as pd\n",
    "import time"
   ]
  },
  {
   "cell_type": "code",
   "execution_count": 11,
   "id": "e11bbe0e-1429-4fdd-91b7-9ba58e041b82",
   "metadata": {},
   "outputs": [
    {
     "data": {
      "text/html": [
       "<div>\n",
       "<style scoped>\n",
       "    .dataframe tbody tr th:only-of-type {\n",
       "        vertical-align: middle;\n",
       "    }\n",
       "\n",
       "    .dataframe tbody tr th {\n",
       "        vertical-align: top;\n",
       "    }\n",
       "\n",
       "    .dataframe thead th {\n",
       "        text-align: right;\n",
       "    }\n",
       "</style>\n",
       "<table border=\"1\" class=\"dataframe\">\n",
       "  <thead>\n",
       "    <tr style=\"text-align: right;\">\n",
       "      <th></th>\n",
       "      <th>nome_musica</th>\n",
       "      <th>artista</th>\n",
       "      <th>genero</th>\n",
       "      <th>duracao</th>\n",
       "    </tr>\n",
       "    <tr>\n",
       "      <th>id_musica</th>\n",
       "      <th></th>\n",
       "      <th></th>\n",
       "      <th></th>\n",
       "      <th></th>\n",
       "    </tr>\n",
       "  </thead>\n",
       "  <tbody>\n",
       "    <tr>\n",
       "      <th>0</th>\n",
       "      <td>Clarão</td>\n",
       "      <td>Jão</td>\n",
       "      <td>POP</td>\n",
       "      <td>189</td>\n",
       "    </tr>\n",
       "    <tr>\n",
       "      <th>1</th>\n",
       "      <td>Take Me to Church</td>\n",
       "      <td>Hozier</td>\n",
       "      <td>Rock</td>\n",
       "      <td>257</td>\n",
       "    </tr>\n",
       "    <tr>\n",
       "      <th>2</th>\n",
       "      <td>Declare guerra</td>\n",
       "      <td>Barão Vermelho</td>\n",
       "      <td>Rock</td>\n",
       "      <td>201</td>\n",
       "    </tr>\n",
       "    <tr>\n",
       "      <th>3</th>\n",
       "      <td>Lovely</td>\n",
       "      <td>Billie Eilish</td>\n",
       "      <td>POP</td>\n",
       "      <td>200</td>\n",
       "    </tr>\n",
       "    <tr>\n",
       "      <th>4</th>\n",
       "      <td>Treat You Better</td>\n",
       "      <td>Shawn Mendes</td>\n",
       "      <td>POP</td>\n",
       "      <td>187</td>\n",
       "    </tr>\n",
       "  </tbody>\n",
       "</table>\n",
       "</div>"
      ],
      "text/plain": [
       "                 nome_musica         artista genero  duracao\n",
       "id_musica                                                   \n",
       "0                     Clarão             Jão    POP      189\n",
       "1          Take Me to Church          Hozier   Rock      257\n",
       "2             Declare guerra  Barão Vermelho   Rock      201\n",
       "3                     Lovely   Billie Eilish    POP      200\n",
       "4           Treat You Better    Shawn Mendes    POP      187"
      ]
     },
     "execution_count": 11,
     "metadata": {},
     "output_type": "execute_result"
    }
   ],
   "source": [
    "df_musicas = pd.DataFrame(\n",
    "    {\n",
    "    'nome_musica': ['Clarão', 'Take Me to Church', 'Declare guerra' ,'Lovely', 'Treat You Better' ],\n",
    "    'artista': ['Jão','Hozier','Barão Vermelho', 'Billie Eilish', 'Shawn Mendes'],\n",
    "    'genero': ['POP','Rock', 'Rock', 'POP', 'POP'],\n",
    "    'duracao': [189, 257, 201, 200, 187]\n",
    "},\n",
    ")\n",
    "\n",
    "df_musicas.index.name = 'id_musica'\n",
    "df_musicas"
   ]
  },
  {
   "cell_type": "markdown",
   "id": "87ab07cb-770a-44b0-b624-7c942d225441",
   "metadata": {},
   "source": [
    "### Crie e exiba um dataframe reproducoes dessas musicas:"
   ]
  },
  {
   "cell_type": "markdown",
   "id": "44c5b1b3-5d34-494b-8ab9-3e8836682d58",
   "metadata": {},
   "source": [
    "- id_reproducao – identificador único da reprodução. \n",
    "- id_musica – identificador da música reproduzida. \n",
    "- data_reproducao – data da reprodução. \n",
    "- duracao_reproducao – duração da reprodução (caso o usuário não ouça a música completa)."
   ]
  },
  {
   "cell_type": "code",
   "execution_count": 12,
   "id": "b400ae37-d3c0-41f5-abe1-f1506714962a",
   "metadata": {},
   "outputs": [
    {
     "data": {
      "text/html": [
       "<div>\n",
       "<style scoped>\n",
       "    .dataframe tbody tr th:only-of-type {\n",
       "        vertical-align: middle;\n",
       "    }\n",
       "\n",
       "    .dataframe tbody tr th {\n",
       "        vertical-align: top;\n",
       "    }\n",
       "\n",
       "    .dataframe thead th {\n",
       "        text-align: right;\n",
       "    }\n",
       "</style>\n",
       "<table border=\"1\" class=\"dataframe\">\n",
       "  <thead>\n",
       "    <tr style=\"text-align: right;\">\n",
       "      <th></th>\n",
       "      <th>id_musica</th>\n",
       "      <th>data_reproducao</th>\n",
       "      <th>duracao_reproducao</th>\n",
       "    </tr>\n",
       "    <tr>\n",
       "      <th>id_reproducao</th>\n",
       "      <th></th>\n",
       "      <th></th>\n",
       "      <th></th>\n",
       "    </tr>\n",
       "  </thead>\n",
       "  <tbody>\n",
       "  </tbody>\n",
       "</table>\n",
       "</div>"
      ],
      "text/plain": [
       "Empty DataFrame\n",
       "Columns: [id_musica, data_reproducao, duracao_reproducao]\n",
       "Index: []"
      ]
     },
     "execution_count": 12,
     "metadata": {},
     "output_type": "execute_result"
    }
   ],
   "source": [
    "df_reproducoes = pd.DataFrame(\n",
    "    {\n",
    "        'id_musica': [],\n",
    "        'data_reproducao': [],\n",
    "        'duracao_reproducao': []\n",
    "    }\n",
    ")\n",
    "\n",
    "df_reproducoes.index.name = 'id_reproducao'\n",
    "df_reproducoes"
   ]
  },
  {
   "cell_type": "markdown",
   "id": "b043e6e4-b617-43f2-9b70-e524d85d1380",
   "metadata": {},
   "source": [
    "- Simule 5 reproduções de diferentes músicas, associando o id_musica com a data e a duração reproduzida.\n",
    "- Realize um merge entre os dataframes musicas e reproducoes, combinando-os pela coluna id_musica.\n",
    "- Exiba o nome da música, o artista e a duração"
   ]
  },
  {
   "cell_type": "code",
   "execution_count": 13,
   "id": "99f60d6a-982f-44d7-b32c-a9e71dc3aeeb",
   "metadata": {},
   "outputs": [
    {
     "data": {
      "text/html": [
       "<div>\n",
       "<style scoped>\n",
       "    .dataframe tbody tr th:only-of-type {\n",
       "        vertical-align: middle;\n",
       "    }\n",
       "\n",
       "    .dataframe tbody tr th {\n",
       "        vertical-align: top;\n",
       "    }\n",
       "\n",
       "    .dataframe thead th {\n",
       "        text-align: right;\n",
       "    }\n",
       "</style>\n",
       "<table border=\"1\" class=\"dataframe\">\n",
       "  <thead>\n",
       "    <tr style=\"text-align: right;\">\n",
       "      <th></th>\n",
       "      <th>id_musica</th>\n",
       "      <th>data_reproducao</th>\n",
       "      <th>duracao_reproducao</th>\n",
       "    </tr>\n",
       "    <tr>\n",
       "      <th>id_reproducao</th>\n",
       "      <th></th>\n",
       "      <th></th>\n",
       "      <th></th>\n",
       "    </tr>\n",
       "  </thead>\n",
       "  <tbody>\n",
       "    <tr>\n",
       "      <th>0</th>\n",
       "      <td>2</td>\n",
       "      <td>09/09/2024</td>\n",
       "      <td>120</td>\n",
       "    </tr>\n",
       "    <tr>\n",
       "      <th>1</th>\n",
       "      <td>3</td>\n",
       "      <td>11/09/2024</td>\n",
       "      <td>68</td>\n",
       "    </tr>\n",
       "    <tr>\n",
       "      <th>2</th>\n",
       "      <td>1</td>\n",
       "      <td>13/09/2024</td>\n",
       "      <td>200</td>\n",
       "    </tr>\n",
       "    <tr>\n",
       "      <th>3</th>\n",
       "      <td>4</td>\n",
       "      <td>27/09/2024</td>\n",
       "      <td>185</td>\n",
       "    </tr>\n",
       "    <tr>\n",
       "      <th>4</th>\n",
       "      <td>0</td>\n",
       "      <td>30/09/2024</td>\n",
       "      <td>163</td>\n",
       "    </tr>\n",
       "  </tbody>\n",
       "</table>\n",
       "</div>"
      ],
      "text/plain": [
       "               id_musica data_reproducao  duracao_reproducao\n",
       "id_reproducao                                               \n",
       "0                      2      09/09/2024                 120\n",
       "1                      3      11/09/2024                  68\n",
       "2                      1      13/09/2024                 200\n",
       "3                      4      27/09/2024                 185\n",
       "4                      0      30/09/2024                 163"
      ]
     },
     "execution_count": 13,
     "metadata": {},
     "output_type": "execute_result"
    }
   ],
   "source": [
    "# Simulando 5 reproduções de músicas\n",
    "df_reproducoes.loc[len(df_reproducoes)] = [2, '09/09/2024', 120]\n",
    "df_reproducoes.loc[len(df_reproducoes)] = [3, '11/09/2024', 68]\n",
    "df_reproducoes.loc[len(df_reproducoes)] = [1, '13/09/2024', 200]\n",
    "df_reproducoes.loc[len(df_reproducoes)] = [4, '27/09/2024', 185]\n",
    "df_reproducoes.loc[len(df_reproducoes)] = [0, '30/09/2024', 163]\n",
    "\n",
    "df_reproducoes"
   ]
  },
  {
   "cell_type": "code",
   "execution_count": 14,
   "id": "c1c1b362",
   "metadata": {},
   "outputs": [
    {
     "data": {
      "text/html": [
       "<div>\n",
       "<style scoped>\n",
       "    .dataframe tbody tr th:only-of-type {\n",
       "        vertical-align: middle;\n",
       "    }\n",
       "\n",
       "    .dataframe tbody tr th {\n",
       "        vertical-align: top;\n",
       "    }\n",
       "\n",
       "    .dataframe thead th {\n",
       "        text-align: right;\n",
       "    }\n",
       "</style>\n",
       "<table border=\"1\" class=\"dataframe\">\n",
       "  <thead>\n",
       "    <tr style=\"text-align: right;\">\n",
       "      <th></th>\n",
       "      <th>nome_musica</th>\n",
       "      <th>artista</th>\n",
       "      <th>duracao_reproducao</th>\n",
       "    </tr>\n",
       "  </thead>\n",
       "  <tbody>\n",
       "    <tr>\n",
       "      <th>0</th>\n",
       "      <td>Clarão</td>\n",
       "      <td>Jão</td>\n",
       "      <td>163</td>\n",
       "    </tr>\n",
       "    <tr>\n",
       "      <th>1</th>\n",
       "      <td>Take Me to Church</td>\n",
       "      <td>Hozier</td>\n",
       "      <td>200</td>\n",
       "    </tr>\n",
       "    <tr>\n",
       "      <th>2</th>\n",
       "      <td>Declare guerra</td>\n",
       "      <td>Barão Vermelho</td>\n",
       "      <td>120</td>\n",
       "    </tr>\n",
       "    <tr>\n",
       "      <th>3</th>\n",
       "      <td>Lovely</td>\n",
       "      <td>Billie Eilish</td>\n",
       "      <td>68</td>\n",
       "    </tr>\n",
       "    <tr>\n",
       "      <th>4</th>\n",
       "      <td>Treat You Better</td>\n",
       "      <td>Shawn Mendes</td>\n",
       "      <td>185</td>\n",
       "    </tr>\n",
       "  </tbody>\n",
       "</table>\n",
       "</div>"
      ],
      "text/plain": [
       "         nome_musica         artista  duracao_reproducao\n",
       "0             Clarão             Jão                 163\n",
       "1  Take Me to Church          Hozier                 200\n",
       "2     Declare guerra  Barão Vermelho                 120\n",
       "3             Lovely   Billie Eilish                  68\n",
       "4   Treat You Better    Shawn Mendes                 185"
      ]
     },
     "execution_count": 14,
     "metadata": {},
     "output_type": "execute_result"
    }
   ],
   "source": [
    "df_combinado = df_musicas.merge(df_reproducoes, on='id_musica', how='left')\n",
    "df_combinado[['nome_musica', 'artista', 'duracao_reproducao']]"
   ]
  },
  {
   "cell_type": "code",
   "execution_count": 15,
   "id": "8ff7148f-c0f4-4e73-b521-00241ad4e0a8",
   "metadata": {},
   "outputs": [],
   "source": [
    "df_reproducoes = df_reproducoes.drop(2)"
   ]
  },
  {
   "cell_type": "code",
   "execution_count": 16,
   "id": "fc37a77c-d7ce-4f3e-9dd7-3d3aac3a3279",
   "metadata": {},
   "outputs": [
    {
     "data": {
      "text/html": [
       "<div>\n",
       "<style scoped>\n",
       "    .dataframe tbody tr th:only-of-type {\n",
       "        vertical-align: middle;\n",
       "    }\n",
       "\n",
       "    .dataframe tbody tr th {\n",
       "        vertical-align: top;\n",
       "    }\n",
       "\n",
       "    .dataframe thead th {\n",
       "        text-align: right;\n",
       "    }\n",
       "</style>\n",
       "<table border=\"1\" class=\"dataframe\">\n",
       "  <thead>\n",
       "    <tr style=\"text-align: right;\">\n",
       "      <th></th>\n",
       "      <th>nome_musica</th>\n",
       "      <th>artista</th>\n",
       "      <th>duracao_reproducao</th>\n",
       "    </tr>\n",
       "  </thead>\n",
       "  <tbody>\n",
       "    <tr>\n",
       "      <th>0</th>\n",
       "      <td>Clarão</td>\n",
       "      <td>Jão</td>\n",
       "      <td>163.0</td>\n",
       "    </tr>\n",
       "    <tr>\n",
       "      <th>1</th>\n",
       "      <td>Take Me to Church</td>\n",
       "      <td>Hozier</td>\n",
       "      <td>NaN</td>\n",
       "    </tr>\n",
       "    <tr>\n",
       "      <th>2</th>\n",
       "      <td>Declare guerra</td>\n",
       "      <td>Barão Vermelho</td>\n",
       "      <td>120.0</td>\n",
       "    </tr>\n",
       "    <tr>\n",
       "      <th>3</th>\n",
       "      <td>Lovely</td>\n",
       "      <td>Billie Eilish</td>\n",
       "      <td>68.0</td>\n",
       "    </tr>\n",
       "    <tr>\n",
       "      <th>4</th>\n",
       "      <td>Treat You Better</td>\n",
       "      <td>Shawn Mendes</td>\n",
       "      <td>185.0</td>\n",
       "    </tr>\n",
       "  </tbody>\n",
       "</table>\n",
       "</div>"
      ],
      "text/plain": [
       "         nome_musica         artista  duracao_reproducao\n",
       "0             Clarão             Jão               163.0\n",
       "1  Take Me to Church          Hozier                 NaN\n",
       "2     Declare guerra  Barão Vermelho               120.0\n",
       "3             Lovely   Billie Eilish                68.0\n",
       "4   Treat You Better    Shawn Mendes               185.0"
      ]
     },
     "execution_count": 16,
     "metadata": {},
     "output_type": "execute_result"
    }
   ],
   "source": [
    "df_combinado = df_musicas.merge(df_reproducoes, on='id_musica', how='left')\n",
    "df_combinado[['nome_musica', 'artista', 'duracao_reproducao']]"
   ]
  },
  {
   "cell_type": "code",
   "execution_count": 17,
   "id": "c6baa5fb-5ffa-4b3e-b3ca-309caa160792",
   "metadata": {},
   "outputs": [],
   "source": [
    "df_combinado = df_combinado.fillna('Não Reproduzida')"
   ]
  },
  {
   "cell_type": "code",
   "execution_count": 18,
   "id": "a02b6fbb-5843-4ccc-93fc-eba6d70886cd",
   "metadata": {},
   "outputs": [
    {
     "data": {
      "text/html": [
       "<div>\n",
       "<style scoped>\n",
       "    .dataframe tbody tr th:only-of-type {\n",
       "        vertical-align: middle;\n",
       "    }\n",
       "\n",
       "    .dataframe tbody tr th {\n",
       "        vertical-align: top;\n",
       "    }\n",
       "\n",
       "    .dataframe thead th {\n",
       "        text-align: right;\n",
       "    }\n",
       "</style>\n",
       "<table border=\"1\" class=\"dataframe\">\n",
       "  <thead>\n",
       "    <tr style=\"text-align: right;\">\n",
       "      <th></th>\n",
       "      <th>nome_musica</th>\n",
       "      <th>artista</th>\n",
       "      <th>duracao_reproducao</th>\n",
       "    </tr>\n",
       "  </thead>\n",
       "  <tbody>\n",
       "    <tr>\n",
       "      <th>0</th>\n",
       "      <td>Clarão</td>\n",
       "      <td>Jão</td>\n",
       "      <td>163.0</td>\n",
       "    </tr>\n",
       "    <tr>\n",
       "      <th>1</th>\n",
       "      <td>Take Me to Church</td>\n",
       "      <td>Hozier</td>\n",
       "      <td>Não Reproduzida</td>\n",
       "    </tr>\n",
       "    <tr>\n",
       "      <th>2</th>\n",
       "      <td>Declare guerra</td>\n",
       "      <td>Barão Vermelho</td>\n",
       "      <td>120.0</td>\n",
       "    </tr>\n",
       "    <tr>\n",
       "      <th>3</th>\n",
       "      <td>Lovely</td>\n",
       "      <td>Billie Eilish</td>\n",
       "      <td>68.0</td>\n",
       "    </tr>\n",
       "    <tr>\n",
       "      <th>4</th>\n",
       "      <td>Treat You Better</td>\n",
       "      <td>Shawn Mendes</td>\n",
       "      <td>185.0</td>\n",
       "    </tr>\n",
       "  </tbody>\n",
       "</table>\n",
       "</div>"
      ],
      "text/plain": [
       "         nome_musica         artista duracao_reproducao\n",
       "0             Clarão             Jão              163.0\n",
       "1  Take Me to Church          Hozier    Não Reproduzida\n",
       "2     Declare guerra  Barão Vermelho              120.0\n",
       "3             Lovely   Billie Eilish               68.0\n",
       "4   Treat You Better    Shawn Mendes              185.0"
      ]
     },
     "execution_count": 18,
     "metadata": {},
     "output_type": "execute_result"
    }
   ],
   "source": [
    "df_combinado[['nome_musica', 'artista', 'duracao_reproducao']]"
   ]
  },
  {
   "cell_type": "markdown",
   "id": "5790ab67-fbca-4f9a-9a1a-5bccc941c6d7",
   "metadata": {},
   "source": [
    "Análise os dados\n",
    "✦ Qual o gênero de música mais reproduzido? Use \n",
    "agrupamento para calcular isso.\n",
    "✦ Qual o total de minutos de música reproduzidos?\n",
    "✦ Crie uma nova coluna chamada avaliacao e atribua \n",
    "uma classificação de 1 a 5 para cada música com base \n",
    "em quanto você gosta dela"
   ]
  },
  {
   "cell_type": "code",
   "execution_count": 45,
   "id": "aa33fd7e-11a0-47da-b229-e2d4cda5a2e6",
   "metadata": {},
   "outputs": [
    {
     "data": {
      "text/plain": [
       "genero\n",
       "POP     3\n",
       "Rock    2\n",
       "Name: genero, dtype: int64"
      ]
     },
     "execution_count": 45,
     "metadata": {},
     "output_type": "execute_result"
    }
   ],
   "source": [
    "df_combinado.groupby('genero')['genero'].count()"
   ]
  },
  {
   "cell_type": "markdown",
   "id": "f2f7befd-7162-4cc9-b8fd-b3e856cff002",
   "metadata": {},
   "source": [
    "O Genero mais ouvido é o POP com 3 Reproduções"
   ]
  },
  {
   "cell_type": "code",
   "execution_count": 57,
   "id": "1569d331-855f-4001-b3d1-87fe14a862b6",
   "metadata": {},
   "outputs": [],
   "source": [
    "tempo_reproduzido = round(float(df_combinado['duracao'].sum() / 60), 2)"
   ]
  },
  {
   "cell_type": "code",
   "execution_count": 58,
   "id": "162aa417-7f23-408e-93e4-2cc32455c0bd",
   "metadata": {},
   "outputs": [
    {
     "data": {
      "text/plain": [
       "17.23"
      ]
     },
     "execution_count": 58,
     "metadata": {},
     "output_type": "execute_result"
    }
   ],
   "source": [
    "tempo_reproduzido"
   ]
  },
  {
   "cell_type": "markdown",
   "id": "ba091685-d269-453b-a604-6988a80bdf5a",
   "metadata": {},
   "source": [
    "O total em minutos reproduzidos é de 17,23 minutos"
   ]
  },
  {
   "cell_type": "code",
   "execution_count": 59,
   "id": "e37af629-6943-46e9-94b0-1d2c067281ef",
   "metadata": {},
   "outputs": [],
   "source": [
    "df_musicas['avaliacao'] = [5,3,2,4,5]"
   ]
  },
  {
   "cell_type": "code",
   "execution_count": 62,
   "id": "e61503c1-115b-4b49-9998-3383dfff94f1",
   "metadata": {},
   "outputs": [
    {
     "data": {
      "text/html": [
       "<div>\n",
       "<style scoped>\n",
       "    .dataframe tbody tr th:only-of-type {\n",
       "        vertical-align: middle;\n",
       "    }\n",
       "\n",
       "    .dataframe tbody tr th {\n",
       "        vertical-align: top;\n",
       "    }\n",
       "\n",
       "    .dataframe thead th {\n",
       "        text-align: right;\n",
       "    }\n",
       "</style>\n",
       "<table border=\"1\" class=\"dataframe\">\n",
       "  <thead>\n",
       "    <tr style=\"text-align: right;\">\n",
       "      <th></th>\n",
       "      <th>nome_musica</th>\n",
       "      <th>artista</th>\n",
       "      <th>genero</th>\n",
       "      <th>duracao</th>\n",
       "      <th>avaliacao</th>\n",
       "    </tr>\n",
       "    <tr>\n",
       "      <th>id_musica</th>\n",
       "      <th></th>\n",
       "      <th></th>\n",
       "      <th></th>\n",
       "      <th></th>\n",
       "      <th></th>\n",
       "    </tr>\n",
       "  </thead>\n",
       "  <tbody>\n",
       "    <tr>\n",
       "      <th>0</th>\n",
       "      <td>Clarão</td>\n",
       "      <td>Jão</td>\n",
       "      <td>POP</td>\n",
       "      <td>189</td>\n",
       "      <td>5</td>\n",
       "    </tr>\n",
       "    <tr>\n",
       "      <th>1</th>\n",
       "      <td>Take Me to Church</td>\n",
       "      <td>Hozier</td>\n",
       "      <td>Rock</td>\n",
       "      <td>257</td>\n",
       "      <td>3</td>\n",
       "    </tr>\n",
       "    <tr>\n",
       "      <th>2</th>\n",
       "      <td>Declare guerra</td>\n",
       "      <td>Barão Vermelho</td>\n",
       "      <td>Rock</td>\n",
       "      <td>201</td>\n",
       "      <td>2</td>\n",
       "    </tr>\n",
       "    <tr>\n",
       "      <th>3</th>\n",
       "      <td>Lovely</td>\n",
       "      <td>Billie Eilish</td>\n",
       "      <td>POP</td>\n",
       "      <td>200</td>\n",
       "      <td>4</td>\n",
       "    </tr>\n",
       "    <tr>\n",
       "      <th>4</th>\n",
       "      <td>Treat You Better</td>\n",
       "      <td>Shawn Mendes</td>\n",
       "      <td>POP</td>\n",
       "      <td>187</td>\n",
       "      <td>5</td>\n",
       "    </tr>\n",
       "  </tbody>\n",
       "</table>\n",
       "</div>"
      ],
      "text/plain": [
       "                 nome_musica         artista genero  duracao  avaliacao\n",
       "id_musica                                                              \n",
       "0                     Clarão             Jão    POP      189          5\n",
       "1          Take Me to Church          Hozier   Rock      257          3\n",
       "2             Declare guerra  Barão Vermelho   Rock      201          2\n",
       "3                     Lovely   Billie Eilish    POP      200          4\n",
       "4           Treat You Better    Shawn Mendes    POP      187          5"
      ]
     },
     "execution_count": 62,
     "metadata": {},
     "output_type": "execute_result"
    }
   ],
   "source": [
    "df_musicas"
   ]
  },
  {
   "cell_type": "code",
   "execution_count": null,
   "id": "0dc61ed6-457d-452c-9524-deb154337189",
   "metadata": {},
   "outputs": [],
   "source": []
  }
 ],
 "metadata": {
  "kernelspec": {
   "display_name": "Python 3 (ipykernel)",
   "language": "python",
   "name": "python3"
  },
  "language_info": {
   "codemirror_mode": {
    "name": "ipython",
    "version": 3
   },
   "file_extension": ".py",
   "mimetype": "text/x-python",
   "name": "python",
   "nbconvert_exporter": "python",
   "pygments_lexer": "ipython3",
   "version": "3.12.3"
  }
 },
 "nbformat": 4,
 "nbformat_minor": 5
}
