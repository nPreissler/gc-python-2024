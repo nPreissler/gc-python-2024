{
 "cells": [
  {
   "cell_type": "code",
   "execution_count": null,
   "id": "0115982d-7299-4035-9bf6-f23b6fa350bc",
   "metadata": {},
   "outputs": [],
   "source": [
    "import pandas as pd\n",
    "import plotly.express as px\n",
    "import numpy as np"
   ]
  },
  {
   "cell_type": "code",
   "execution_count": 2,
   "id": "29f215f3",
   "metadata": {},
   "outputs": [
    {
     "data": {
      "text/html": [
       "<div>\n",
       "<style scoped>\n",
       "    .dataframe tbody tr th:only-of-type {\n",
       "        vertical-align: middle;\n",
       "    }\n",
       "\n",
       "    .dataframe tbody tr th {\n",
       "        vertical-align: top;\n",
       "    }\n",
       "\n",
       "    .dataframe thead th {\n",
       "        text-align: right;\n",
       "    }\n",
       "</style>\n",
       "<table border=\"1\" class=\"dataframe\">\n",
       "  <thead>\n",
       "    <tr style=\"text-align: right;\">\n",
       "      <th></th>\n",
       "      <th>pokedex_number</th>\n",
       "      <th>name</th>\n",
       "      <th>generation</th>\n",
       "      <th>is_sub_legendary</th>\n",
       "      <th>is_legendary</th>\n",
       "      <th>is_mythical</th>\n",
       "      <th>species</th>\n",
       "      <th>type_1</th>\n",
       "      <th>type_2</th>\n",
       "      <th>height_m</th>\n",
       "      <th>...</th>\n",
       "      <th>against_ground</th>\n",
       "      <th>against_flying</th>\n",
       "      <th>against_psychic</th>\n",
       "      <th>against_bug</th>\n",
       "      <th>against_rock</th>\n",
       "      <th>against_ghost</th>\n",
       "      <th>against_dragon</th>\n",
       "      <th>against_dark</th>\n",
       "      <th>against_steel</th>\n",
       "      <th>against_fairy</th>\n",
       "    </tr>\n",
       "  </thead>\n",
       "  <tbody>\n",
       "    <tr>\n",
       "      <th>45</th>\n",
       "      <td>34</td>\n",
       "      <td>Nidoking</td>\n",
       "      <td>1</td>\n",
       "      <td>0</td>\n",
       "      <td>0</td>\n",
       "      <td>0</td>\n",
       "      <td>Drill Pokémon</td>\n",
       "      <td>Poison</td>\n",
       "      <td>Ground</td>\n",
       "      <td>1.4</td>\n",
       "      <td>...</td>\n",
       "      <td>2.00</td>\n",
       "      <td>1.00</td>\n",
       "      <td>2.0</td>\n",
       "      <td>0.5</td>\n",
       "      <td>0.5</td>\n",
       "      <td>1.0</td>\n",
       "      <td>1.0</td>\n",
       "      <td>1.0</td>\n",
       "      <td>1.00</td>\n",
       "      <td>0.5</td>\n",
       "    </tr>\n",
       "    <tr>\n",
       "      <th>59</th>\n",
       "      <td>46</td>\n",
       "      <td>Paras</td>\n",
       "      <td>1</td>\n",
       "      <td>0</td>\n",
       "      <td>0</td>\n",
       "      <td>0</td>\n",
       "      <td>Mushroom Pokémon</td>\n",
       "      <td>Bug</td>\n",
       "      <td>Grass</td>\n",
       "      <td>0.3</td>\n",
       "      <td>...</td>\n",
       "      <td>0.25</td>\n",
       "      <td>4.00</td>\n",
       "      <td>1.0</td>\n",
       "      <td>2.0</td>\n",
       "      <td>2.0</td>\n",
       "      <td>1.0</td>\n",
       "      <td>1.0</td>\n",
       "      <td>1.0</td>\n",
       "      <td>1.00</td>\n",
       "      <td>1.0</td>\n",
       "    </tr>\n",
       "    <tr>\n",
       "      <th>60</th>\n",
       "      <td>47</td>\n",
       "      <td>Parasect</td>\n",
       "      <td>1</td>\n",
       "      <td>0</td>\n",
       "      <td>0</td>\n",
       "      <td>0</td>\n",
       "      <td>Mushroom Pokémon</td>\n",
       "      <td>Bug</td>\n",
       "      <td>Grass</td>\n",
       "      <td>1.0</td>\n",
       "      <td>...</td>\n",
       "      <td>0.25</td>\n",
       "      <td>4.00</td>\n",
       "      <td>1.0</td>\n",
       "      <td>2.0</td>\n",
       "      <td>2.0</td>\n",
       "      <td>1.0</td>\n",
       "      <td>1.0</td>\n",
       "      <td>1.0</td>\n",
       "      <td>1.00</td>\n",
       "      <td>1.0</td>\n",
       "    </tr>\n",
       "    <tr>\n",
       "      <th>103</th>\n",
       "      <td>79</td>\n",
       "      <td>Slowpoke</td>\n",
       "      <td>1</td>\n",
       "      <td>0</td>\n",
       "      <td>0</td>\n",
       "      <td>0</td>\n",
       "      <td>Dopey Pokémon</td>\n",
       "      <td>Water</td>\n",
       "      <td>Psychic</td>\n",
       "      <td>1.2</td>\n",
       "      <td>...</td>\n",
       "      <td>1.00</td>\n",
       "      <td>1.00</td>\n",
       "      <td>0.5</td>\n",
       "      <td>2.0</td>\n",
       "      <td>1.0</td>\n",
       "      <td>2.0</td>\n",
       "      <td>1.0</td>\n",
       "      <td>2.0</td>\n",
       "      <td>0.50</td>\n",
       "      <td>1.0</td>\n",
       "    </tr>\n",
       "    <tr>\n",
       "      <th>104</th>\n",
       "      <td>80</td>\n",
       "      <td>Slowbro</td>\n",
       "      <td>1</td>\n",
       "      <td>0</td>\n",
       "      <td>0</td>\n",
       "      <td>0</td>\n",
       "      <td>Hermit Crab Pokémon</td>\n",
       "      <td>Water</td>\n",
       "      <td>Psychic</td>\n",
       "      <td>1.6</td>\n",
       "      <td>...</td>\n",
       "      <td>1.00</td>\n",
       "      <td>1.00</td>\n",
       "      <td>0.5</td>\n",
       "      <td>2.0</td>\n",
       "      <td>1.0</td>\n",
       "      <td>2.0</td>\n",
       "      <td>1.0</td>\n",
       "      <td>2.0</td>\n",
       "      <td>0.50</td>\n",
       "      <td>1.0</td>\n",
       "    </tr>\n",
       "    <tr>\n",
       "      <th>...</th>\n",
       "      <td>...</td>\n",
       "      <td>...</td>\n",
       "      <td>...</td>\n",
       "      <td>...</td>\n",
       "      <td>...</td>\n",
       "      <td>...</td>\n",
       "      <td>...</td>\n",
       "      <td>...</td>\n",
       "      <td>...</td>\n",
       "      <td>...</td>\n",
       "      <td>...</td>\n",
       "      <td>...</td>\n",
       "      <td>...</td>\n",
       "      <td>...</td>\n",
       "      <td>...</td>\n",
       "      <td>...</td>\n",
       "      <td>...</td>\n",
       "      <td>...</td>\n",
       "      <td>...</td>\n",
       "      <td>...</td>\n",
       "      <td>...</td>\n",
       "    </tr>\n",
       "    <tr>\n",
       "      <th>830</th>\n",
       "      <td>715</td>\n",
       "      <td>Noivern</td>\n",
       "      <td>6</td>\n",
       "      <td>0</td>\n",
       "      <td>0</td>\n",
       "      <td>0</td>\n",
       "      <td>Sound Wave Pokémon</td>\n",
       "      <td>Flying</td>\n",
       "      <td>Dragon</td>\n",
       "      <td>1.5</td>\n",
       "      <td>...</td>\n",
       "      <td>0.00</td>\n",
       "      <td>1.00</td>\n",
       "      <td>1.0</td>\n",
       "      <td>0.5</td>\n",
       "      <td>2.0</td>\n",
       "      <td>1.0</td>\n",
       "      <td>2.0</td>\n",
       "      <td>1.0</td>\n",
       "      <td>1.00</td>\n",
       "      <td>2.0</td>\n",
       "    </tr>\n",
       "    <tr>\n",
       "      <th>864</th>\n",
       "      <td>742</td>\n",
       "      <td>Cutiefly</td>\n",
       "      <td>7</td>\n",
       "      <td>0</td>\n",
       "      <td>0</td>\n",
       "      <td>0</td>\n",
       "      <td>Bee Fly Pokémon</td>\n",
       "      <td>Bug</td>\n",
       "      <td>Fairy</td>\n",
       "      <td>0.1</td>\n",
       "      <td>...</td>\n",
       "      <td>0.50</td>\n",
       "      <td>2.00</td>\n",
       "      <td>1.0</td>\n",
       "      <td>0.5</td>\n",
       "      <td>2.0</td>\n",
       "      <td>1.0</td>\n",
       "      <td>0.0</td>\n",
       "      <td>0.5</td>\n",
       "      <td>2.00</td>\n",
       "      <td>1.0</td>\n",
       "    </tr>\n",
       "    <tr>\n",
       "      <th>865</th>\n",
       "      <td>743</td>\n",
       "      <td>Ribombee</td>\n",
       "      <td>7</td>\n",
       "      <td>0</td>\n",
       "      <td>0</td>\n",
       "      <td>0</td>\n",
       "      <td>Bee Fly Pokémon</td>\n",
       "      <td>Bug</td>\n",
       "      <td>Fairy</td>\n",
       "      <td>0.2</td>\n",
       "      <td>...</td>\n",
       "      <td>0.50</td>\n",
       "      <td>2.00</td>\n",
       "      <td>1.0</td>\n",
       "      <td>0.5</td>\n",
       "      <td>2.0</td>\n",
       "      <td>1.0</td>\n",
       "      <td>0.0</td>\n",
       "      <td>0.5</td>\n",
       "      <td>2.00</td>\n",
       "      <td>1.0</td>\n",
       "    </tr>\n",
       "    <tr>\n",
       "      <th>904</th>\n",
       "      <td>777</td>\n",
       "      <td>Togedemaru</td>\n",
       "      <td>7</td>\n",
       "      <td>0</td>\n",
       "      <td>0</td>\n",
       "      <td>0</td>\n",
       "      <td>Roly-Poly Pokémon</td>\n",
       "      <td>Electric</td>\n",
       "      <td>Steel</td>\n",
       "      <td>0.3</td>\n",
       "      <td>...</td>\n",
       "      <td>4.00</td>\n",
       "      <td>0.25</td>\n",
       "      <td>0.5</td>\n",
       "      <td>0.5</td>\n",
       "      <td>0.5</td>\n",
       "      <td>1.0</td>\n",
       "      <td>0.5</td>\n",
       "      <td>1.0</td>\n",
       "      <td>0.25</td>\n",
       "      <td>0.5</td>\n",
       "    </tr>\n",
       "    <tr>\n",
       "      <th>907</th>\n",
       "      <td>780</td>\n",
       "      <td>Drampa</td>\n",
       "      <td>7</td>\n",
       "      <td>0</td>\n",
       "      <td>0</td>\n",
       "      <td>0</td>\n",
       "      <td>Placid Pokémon</td>\n",
       "      <td>Normal</td>\n",
       "      <td>Dragon</td>\n",
       "      <td>3.0</td>\n",
       "      <td>...</td>\n",
       "      <td>1.00</td>\n",
       "      <td>1.00</td>\n",
       "      <td>1.0</td>\n",
       "      <td>1.0</td>\n",
       "      <td>1.0</td>\n",
       "      <td>0.0</td>\n",
       "      <td>2.0</td>\n",
       "      <td>1.0</td>\n",
       "      <td>1.00</td>\n",
       "      <td>2.0</td>\n",
       "    </tr>\n",
       "  </tbody>\n",
       "</table>\n",
       "<p>83 rows × 44 columns</p>\n",
       "</div>"
      ],
      "text/plain": [
       "     pokedex_number        name  generation  is_sub_legendary  is_legendary  \\\n",
       "45               34    Nidoking           1                 0             0   \n",
       "59               46       Paras           1                 0             0   \n",
       "60               47    Parasect           1                 0             0   \n",
       "103              79    Slowpoke           1                 0             0   \n",
       "104              80     Slowbro           1                 0             0   \n",
       "..              ...         ...         ...               ...           ...   \n",
       "830             715     Noivern           6                 0             0   \n",
       "864             742    Cutiefly           7                 0             0   \n",
       "865             743    Ribombee           7                 0             0   \n",
       "904             777  Togedemaru           7                 0             0   \n",
       "907             780      Drampa           7                 0             0   \n",
       "\n",
       "     is_mythical              species    type_1   type_2  height_m  ...  \\\n",
       "45             0        Drill Pokémon    Poison   Ground       1.4  ...   \n",
       "59             0     Mushroom Pokémon       Bug    Grass       0.3  ...   \n",
       "60             0     Mushroom Pokémon       Bug    Grass       1.0  ...   \n",
       "103            0        Dopey Pokémon     Water  Psychic       1.2  ...   \n",
       "104            0  Hermit Crab Pokémon     Water  Psychic       1.6  ...   \n",
       "..           ...                  ...       ...      ...       ...  ...   \n",
       "830            0   Sound Wave Pokémon    Flying   Dragon       1.5  ...   \n",
       "864            0      Bee Fly Pokémon       Bug    Fairy       0.1  ...   \n",
       "865            0      Bee Fly Pokémon       Bug    Fairy       0.2  ...   \n",
       "904            0    Roly-Poly Pokémon  Electric    Steel       0.3  ...   \n",
       "907            0       Placid Pokémon    Normal   Dragon       3.0  ...   \n",
       "\n",
       "     against_ground against_flying against_psychic against_bug  against_rock  \\\n",
       "45             2.00           1.00             2.0         0.5           0.5   \n",
       "59             0.25           4.00             1.0         2.0           2.0   \n",
       "60             0.25           4.00             1.0         2.0           2.0   \n",
       "103            1.00           1.00             0.5         2.0           1.0   \n",
       "104            1.00           1.00             0.5         2.0           1.0   \n",
       "..              ...            ...             ...         ...           ...   \n",
       "830            0.00           1.00             1.0         0.5           2.0   \n",
       "864            0.50           2.00             1.0         0.5           2.0   \n",
       "865            0.50           2.00             1.0         0.5           2.0   \n",
       "904            4.00           0.25             0.5         0.5           0.5   \n",
       "907            1.00           1.00             1.0         1.0           1.0   \n",
       "\n",
       "     against_ghost  against_dragon  against_dark  against_steel  against_fairy  \n",
       "45             1.0             1.0           1.0           1.00            0.5  \n",
       "59             1.0             1.0           1.0           1.00            1.0  \n",
       "60             1.0             1.0           1.0           1.00            1.0  \n",
       "103            2.0             1.0           2.0           0.50            1.0  \n",
       "104            2.0             1.0           2.0           0.50            1.0  \n",
       "..             ...             ...           ...            ...            ...  \n",
       "830            1.0             2.0           1.0           1.00            2.0  \n",
       "864            1.0             0.0           0.5           2.00            1.0  \n",
       "865            1.0             0.0           0.5           2.00            1.0  \n",
       "904            1.0             0.5           1.0           0.25            0.5  \n",
       "907            0.0             2.0           1.0           1.00            2.0  \n",
       "\n",
       "[83 rows x 44 columns]"
      ]
     },
     "execution_count": 2,
     "metadata": {},
     "output_type": "execute_result"
    }
   ],
   "source": [
    "pokedex = pd.read_csv('../../boss1/notebooks/cleaned_df.csv', index_col='Unnamed: 0.1')\n",
    "pokedex = pokedex.drop(columns='Unnamed: 0')\n",
    "pokedex"
   ]
  },
  {
   "cell_type": "markdown",
   "id": "ee06d6cd-1a20-406a-ba54-91fd9ce33279",
   "metadata": {},
   "source": [
    "# Número de Pokémon por geração\n",
    "### Crie uma visualização que mostre o número de Pokémon por geração, mas vá além de um gráfico simples de barras. Experimente combinar um gráfico de barras com uma linha que exiba a média de 'attack', 'defense' e 'speed' por geração. Utilize o Plotly para criar uma visualização interativa."
   ]
  },
  {
   "cell_type": "code",
   "execution_count": 3,
   "id": "216f9370-9134-4ed9-8889-990b2c1aa232",
   "metadata": {},
   "outputs": [
    {
     "data": {
      "application/vnd.plotly.v1+json": {
       "config": {
        "plotlyServerURL": "https://plot.ly"
       },
       "data": [
        {
         "alignmentgroup": "True",
         "hovertemplate": "generation=%{x}<br>count=%{text}<extra></extra>",
         "legendgroup": "",
         "marker": {
          "color": "grey",
          "pattern": {
           "shape": ""
          }
         },
         "name": "",
         "offsetgroup": "",
         "orientation": "v",
         "showlegend": false,
         "text": [
          14,
          12,
          19,
          8,
          13,
          13,
          4
         ],
         "textposition": "outside",
         "type": "bar",
         "x": [
          1,
          2,
          3,
          4,
          5,
          6,
          7
         ],
         "xaxis": "x",
         "y": [
          14,
          12,
          19,
          8,
          13,
          13,
          4
         ],
         "yaxis": "y"
        },
        {
         "line": {
          "color": "red",
          "width": 2
         },
         "mode": "lines+markers",
         "name": "Média de Ataque",
         "type": "scatter",
         "x": [
          1,
          2,
          3,
          4,
          5,
          6,
          7
         ],
         "y": [
          83,
          54.583333333333336,
          66.21052631578948,
          84.75,
          70.3076923076923,
          71.38461538461539,
          64.5
         ],
         "yaxis": "y2"
        },
        {
         "line": {
          "color": "lime",
          "width": 2
         },
         "mode": "lines+markers",
         "name": "Média de Defesa",
         "type": "scatter",
         "x": [
          1,
          2,
          3,
          4,
          5,
          6,
          7
         ],
         "y": [
          88.35714285714286,
          68.33333333333333,
          64.36842105263158,
          86,
          82.38461538461539,
          63.46153846153846,
          62
         ],
         "yaxis": "y2"
        },
        {
         "line": {
          "color": "cyan",
          "width": 2
         },
         "mode": "lines+markers",
         "name": "Média de Velocidade",
         "type": "scatter",
         "x": [
          1,
          2,
          3,
          4,
          5,
          6,
          7
         ],
         "y": [
          47.5,
          53.75,
          57.421052631578945,
          71.25,
          62.53846153846154,
          70.76923076923077,
          85
         ],
         "yaxis": "y2"
        }
       ],
       "layout": {
        "barmode": "relative",
        "height": 500,
        "legend": {
         "tracegroupgap": 0
        },
        "template": {
         "data": {
          "bar": [
           {
            "error_x": {
             "color": "#2a3f5f"
            },
            "error_y": {
             "color": "#2a3f5f"
            },
            "marker": {
             "line": {
              "color": "#E5ECF6",
              "width": 0.5
             },
             "pattern": {
              "fillmode": "overlay",
              "size": 10,
              "solidity": 0.2
             }
            },
            "type": "bar"
           }
          ],
          "barpolar": [
           {
            "marker": {
             "line": {
              "color": "#E5ECF6",
              "width": 0.5
             },
             "pattern": {
              "fillmode": "overlay",
              "size": 10,
              "solidity": 0.2
             }
            },
            "type": "barpolar"
           }
          ],
          "carpet": [
           {
            "aaxis": {
             "endlinecolor": "#2a3f5f",
             "gridcolor": "white",
             "linecolor": "white",
             "minorgridcolor": "white",
             "startlinecolor": "#2a3f5f"
            },
            "baxis": {
             "endlinecolor": "#2a3f5f",
             "gridcolor": "white",
             "linecolor": "white",
             "minorgridcolor": "white",
             "startlinecolor": "#2a3f5f"
            },
            "type": "carpet"
           }
          ],
          "choropleth": [
           {
            "colorbar": {
             "outlinewidth": 0,
             "ticks": ""
            },
            "type": "choropleth"
           }
          ],
          "contour": [
           {
            "colorbar": {
             "outlinewidth": 0,
             "ticks": ""
            },
            "colorscale": [
             [
              0,
              "#0d0887"
             ],
             [
              0.1111111111111111,
              "#46039f"
             ],
             [
              0.2222222222222222,
              "#7201a8"
             ],
             [
              0.3333333333333333,
              "#9c179e"
             ],
             [
              0.4444444444444444,
              "#bd3786"
             ],
             [
              0.5555555555555556,
              "#d8576b"
             ],
             [
              0.6666666666666666,
              "#ed7953"
             ],
             [
              0.7777777777777778,
              "#fb9f3a"
             ],
             [
              0.8888888888888888,
              "#fdca26"
             ],
             [
              1,
              "#f0f921"
             ]
            ],
            "type": "contour"
           }
          ],
          "contourcarpet": [
           {
            "colorbar": {
             "outlinewidth": 0,
             "ticks": ""
            },
            "type": "contourcarpet"
           }
          ],
          "heatmap": [
           {
            "colorbar": {
             "outlinewidth": 0,
             "ticks": ""
            },
            "colorscale": [
             [
              0,
              "#0d0887"
             ],
             [
              0.1111111111111111,
              "#46039f"
             ],
             [
              0.2222222222222222,
              "#7201a8"
             ],
             [
              0.3333333333333333,
              "#9c179e"
             ],
             [
              0.4444444444444444,
              "#bd3786"
             ],
             [
              0.5555555555555556,
              "#d8576b"
             ],
             [
              0.6666666666666666,
              "#ed7953"
             ],
             [
              0.7777777777777778,
              "#fb9f3a"
             ],
             [
              0.8888888888888888,
              "#fdca26"
             ],
             [
              1,
              "#f0f921"
             ]
            ],
            "type": "heatmap"
           }
          ],
          "heatmapgl": [
           {
            "colorbar": {
             "outlinewidth": 0,
             "ticks": ""
            },
            "colorscale": [
             [
              0,
              "#0d0887"
             ],
             [
              0.1111111111111111,
              "#46039f"
             ],
             [
              0.2222222222222222,
              "#7201a8"
             ],
             [
              0.3333333333333333,
              "#9c179e"
             ],
             [
              0.4444444444444444,
              "#bd3786"
             ],
             [
              0.5555555555555556,
              "#d8576b"
             ],
             [
              0.6666666666666666,
              "#ed7953"
             ],
             [
              0.7777777777777778,
              "#fb9f3a"
             ],
             [
              0.8888888888888888,
              "#fdca26"
             ],
             [
              1,
              "#f0f921"
             ]
            ],
            "type": "heatmapgl"
           }
          ],
          "histogram": [
           {
            "marker": {
             "pattern": {
              "fillmode": "overlay",
              "size": 10,
              "solidity": 0.2
             }
            },
            "type": "histogram"
           }
          ],
          "histogram2d": [
           {
            "colorbar": {
             "outlinewidth": 0,
             "ticks": ""
            },
            "colorscale": [
             [
              0,
              "#0d0887"
             ],
             [
              0.1111111111111111,
              "#46039f"
             ],
             [
              0.2222222222222222,
              "#7201a8"
             ],
             [
              0.3333333333333333,
              "#9c179e"
             ],
             [
              0.4444444444444444,
              "#bd3786"
             ],
             [
              0.5555555555555556,
              "#d8576b"
             ],
             [
              0.6666666666666666,
              "#ed7953"
             ],
             [
              0.7777777777777778,
              "#fb9f3a"
             ],
             [
              0.8888888888888888,
              "#fdca26"
             ],
             [
              1,
              "#f0f921"
             ]
            ],
            "type": "histogram2d"
           }
          ],
          "histogram2dcontour": [
           {
            "colorbar": {
             "outlinewidth": 0,
             "ticks": ""
            },
            "colorscale": [
             [
              0,
              "#0d0887"
             ],
             [
              0.1111111111111111,
              "#46039f"
             ],
             [
              0.2222222222222222,
              "#7201a8"
             ],
             [
              0.3333333333333333,
              "#9c179e"
             ],
             [
              0.4444444444444444,
              "#bd3786"
             ],
             [
              0.5555555555555556,
              "#d8576b"
             ],
             [
              0.6666666666666666,
              "#ed7953"
             ],
             [
              0.7777777777777778,
              "#fb9f3a"
             ],
             [
              0.8888888888888888,
              "#fdca26"
             ],
             [
              1,
              "#f0f921"
             ]
            ],
            "type": "histogram2dcontour"
           }
          ],
          "mesh3d": [
           {
            "colorbar": {
             "outlinewidth": 0,
             "ticks": ""
            },
            "type": "mesh3d"
           }
          ],
          "parcoords": [
           {
            "line": {
             "colorbar": {
              "outlinewidth": 0,
              "ticks": ""
             }
            },
            "type": "parcoords"
           }
          ],
          "pie": [
           {
            "automargin": true,
            "type": "pie"
           }
          ],
          "scatter": [
           {
            "fillpattern": {
             "fillmode": "overlay",
             "size": 10,
             "solidity": 0.2
            },
            "type": "scatter"
           }
          ],
          "scatter3d": [
           {
            "line": {
             "colorbar": {
              "outlinewidth": 0,
              "ticks": ""
             }
            },
            "marker": {
             "colorbar": {
              "outlinewidth": 0,
              "ticks": ""
             }
            },
            "type": "scatter3d"
           }
          ],
          "scattercarpet": [
           {
            "marker": {
             "colorbar": {
              "outlinewidth": 0,
              "ticks": ""
             }
            },
            "type": "scattercarpet"
           }
          ],
          "scattergeo": [
           {
            "marker": {
             "colorbar": {
              "outlinewidth": 0,
              "ticks": ""
             }
            },
            "type": "scattergeo"
           }
          ],
          "scattergl": [
           {
            "marker": {
             "colorbar": {
              "outlinewidth": 0,
              "ticks": ""
             }
            },
            "type": "scattergl"
           }
          ],
          "scattermapbox": [
           {
            "marker": {
             "colorbar": {
              "outlinewidth": 0,
              "ticks": ""
             }
            },
            "type": "scattermapbox"
           }
          ],
          "scatterpolar": [
           {
            "marker": {
             "colorbar": {
              "outlinewidth": 0,
              "ticks": ""
             }
            },
            "type": "scatterpolar"
           }
          ],
          "scatterpolargl": [
           {
            "marker": {
             "colorbar": {
              "outlinewidth": 0,
              "ticks": ""
             }
            },
            "type": "scatterpolargl"
           }
          ],
          "scatterternary": [
           {
            "marker": {
             "colorbar": {
              "outlinewidth": 0,
              "ticks": ""
             }
            },
            "type": "scatterternary"
           }
          ],
          "surface": [
           {
            "colorbar": {
             "outlinewidth": 0,
             "ticks": ""
            },
            "colorscale": [
             [
              0,
              "#0d0887"
             ],
             [
              0.1111111111111111,
              "#46039f"
             ],
             [
              0.2222222222222222,
              "#7201a8"
             ],
             [
              0.3333333333333333,
              "#9c179e"
             ],
             [
              0.4444444444444444,
              "#bd3786"
             ],
             [
              0.5555555555555556,
              "#d8576b"
             ],
             [
              0.6666666666666666,
              "#ed7953"
             ],
             [
              0.7777777777777778,
              "#fb9f3a"
             ],
             [
              0.8888888888888888,
              "#fdca26"
             ],
             [
              1,
              "#f0f921"
             ]
            ],
            "type": "surface"
           }
          ],
          "table": [
           {
            "cells": {
             "fill": {
              "color": "#EBF0F8"
             },
             "line": {
              "color": "white"
             }
            },
            "header": {
             "fill": {
              "color": "#C8D4E3"
             },
             "line": {
              "color": "white"
             }
            },
            "type": "table"
           }
          ]
         },
         "layout": {
          "annotationdefaults": {
           "arrowcolor": "#2a3f5f",
           "arrowhead": 0,
           "arrowwidth": 1
          },
          "autotypenumbers": "strict",
          "coloraxis": {
           "colorbar": {
            "outlinewidth": 0,
            "ticks": ""
           }
          },
          "colorscale": {
           "diverging": [
            [
             0,
             "#8e0152"
            ],
            [
             0.1,
             "#c51b7d"
            ],
            [
             0.2,
             "#de77ae"
            ],
            [
             0.3,
             "#f1b6da"
            ],
            [
             0.4,
             "#fde0ef"
            ],
            [
             0.5,
             "#f7f7f7"
            ],
            [
             0.6,
             "#e6f5d0"
            ],
            [
             0.7,
             "#b8e186"
            ],
            [
             0.8,
             "#7fbc41"
            ],
            [
             0.9,
             "#4d9221"
            ],
            [
             1,
             "#276419"
            ]
           ],
           "sequential": [
            [
             0,
             "#0d0887"
            ],
            [
             0.1111111111111111,
             "#46039f"
            ],
            [
             0.2222222222222222,
             "#7201a8"
            ],
            [
             0.3333333333333333,
             "#9c179e"
            ],
            [
             0.4444444444444444,
             "#bd3786"
            ],
            [
             0.5555555555555556,
             "#d8576b"
            ],
            [
             0.6666666666666666,
             "#ed7953"
            ],
            [
             0.7777777777777778,
             "#fb9f3a"
            ],
            [
             0.8888888888888888,
             "#fdca26"
            ],
            [
             1,
             "#f0f921"
            ]
           ],
           "sequentialminus": [
            [
             0,
             "#0d0887"
            ],
            [
             0.1111111111111111,
             "#46039f"
            ],
            [
             0.2222222222222222,
             "#7201a8"
            ],
            [
             0.3333333333333333,
             "#9c179e"
            ],
            [
             0.4444444444444444,
             "#bd3786"
            ],
            [
             0.5555555555555556,
             "#d8576b"
            ],
            [
             0.6666666666666666,
             "#ed7953"
            ],
            [
             0.7777777777777778,
             "#fb9f3a"
            ],
            [
             0.8888888888888888,
             "#fdca26"
            ],
            [
             1,
             "#f0f921"
            ]
           ]
          },
          "colorway": [
           "#636efa",
           "#EF553B",
           "#00cc96",
           "#ab63fa",
           "#FFA15A",
           "#19d3f3",
           "#FF6692",
           "#B6E880",
           "#FF97FF",
           "#FECB52"
          ],
          "font": {
           "color": "#2a3f5f"
          },
          "geo": {
           "bgcolor": "white",
           "lakecolor": "white",
           "landcolor": "#E5ECF6",
           "showlakes": true,
           "showland": true,
           "subunitcolor": "white"
          },
          "hoverlabel": {
           "align": "left"
          },
          "hovermode": "closest",
          "mapbox": {
           "style": "light"
          },
          "paper_bgcolor": "white",
          "plot_bgcolor": "#E5ECF6",
          "polar": {
           "angularaxis": {
            "gridcolor": "white",
            "linecolor": "white",
            "ticks": ""
           },
           "bgcolor": "#E5ECF6",
           "radialaxis": {
            "gridcolor": "white",
            "linecolor": "white",
            "ticks": ""
           }
          },
          "scene": {
           "xaxis": {
            "backgroundcolor": "#E5ECF6",
            "gridcolor": "white",
            "gridwidth": 2,
            "linecolor": "white",
            "showbackground": true,
            "ticks": "",
            "zerolinecolor": "white"
           },
           "yaxis": {
            "backgroundcolor": "#E5ECF6",
            "gridcolor": "white",
            "gridwidth": 2,
            "linecolor": "white",
            "showbackground": true,
            "ticks": "",
            "zerolinecolor": "white"
           },
           "zaxis": {
            "backgroundcolor": "#E5ECF6",
            "gridcolor": "white",
            "gridwidth": 2,
            "linecolor": "white",
            "showbackground": true,
            "ticks": "",
            "zerolinecolor": "white"
           }
          },
          "shapedefaults": {
           "line": {
            "color": "#2a3f5f"
           }
          },
          "ternary": {
           "aaxis": {
            "gridcolor": "white",
            "linecolor": "white",
            "ticks": ""
           },
           "baxis": {
            "gridcolor": "white",
            "linecolor": "white",
            "ticks": ""
           },
           "bgcolor": "#E5ECF6",
           "caxis": {
            "gridcolor": "white",
            "linecolor": "white",
            "ticks": ""
           }
          },
          "title": {
           "x": 0.05
          },
          "xaxis": {
           "automargin": true,
           "gridcolor": "white",
           "linecolor": "white",
           "ticks": "",
           "title": {
            "standoff": 15
           },
           "zerolinecolor": "white",
           "zerolinewidth": 2
          },
          "yaxis": {
           "automargin": true,
           "gridcolor": "white",
           "linecolor": "white",
           "ticks": "",
           "title": {
            "standoff": 15
           },
           "zerolinecolor": "white",
           "zerolinewidth": 2
          }
         }
        },
        "title": {
         "text": "Contagem de Pokémon por Geração e Média de Atributos"
        },
        "xaxis": {
         "anchor": "y",
         "domain": [
          0,
          1
         ],
         "title": {
          "text": "Geração"
         }
        },
        "yaxis": {
         "anchor": "x",
         "domain": [
          0,
          1
         ],
         "title": {
          "text": "Contagem de Pokémon"
         }
        },
        "yaxis2": {
         "overlaying": "y",
         "side": "right",
         "title": {
          "text": "Média de Atributos"
         }
        }
       }
      }
     },
     "metadata": {},
     "output_type": "display_data"
    }
   ],
   "source": [
    "# Calculando as medidas para plotar o gráfico\n",
    "generation_count = pokedex['generation'].value_counts().sort_index()\n",
    "attack_mean = pokedex.groupby('generation')['attack'].mean()\n",
    "defense_mean = pokedex.groupby('generation')['defense'].mean()\n",
    "speed_mean = pokedex.groupby('generation')['speed'].mean()\n",
    "\n",
    "# Criando dataframe de base\n",
    "data = pd.DataFrame({\n",
    "    'generation': generation_count.index,\n",
    "    'count': generation_count.values,\n",
    "    'attack_mean': attack_mean.values,\n",
    "    'defense_mean': defense_mean.values,\n",
    "    'speed_mean': speed_mean.values\n",
    "})\n",
    "\n",
    "# Criando o gráfico de barras\n",
    "fig = px.bar(data, x='generation', y='count', title='Contagem de Pokémon por Geração e Média de Atributos', color_discrete_sequence=['grey'], text='count')\n",
    "fig.update_traces(textposition='outside')\n",
    "\n",
    "# Adicionando as linhas com médias dos atributos\n",
    "fig.add_scatter(x=data['generation'], y=data['attack_mean'], mode='lines+markers', line=dict(color='red', width=2), name='Média de Ataque', yaxis='y2')\n",
    "fig.add_scatter(x=data['generation'], y=data['defense_mean'], mode='lines+markers', line=dict(color='lime', width=2), name='Média de Defesa', yaxis='y2')\n",
    "fig.add_scatter(x=data['generation'], y=data['speed_mean'], mode='lines+markers', line=dict(color='cyan', width=2), name='Média de Velocidade', yaxis='y2')\n",
    "\n",
    "fig.update_layout(\n",
    "    yaxis=dict(title='Contagem de Pokémon'),\n",
    "    xaxis=dict(title='Geração'),\n",
    "    yaxis2=dict(title='Média de Atributos', overlaying='y', side='right'),\n",
    "    height=500\n",
    ")\n",
    "\n",
    "# Exibindo o gráfico\n",
    "fig.show()\n"
   ]
  },
  {
   "cell_type": "markdown",
   "id": "cf540543-9174-4929-926c-549a7d3680bc",
   "metadata": {},
   "source": [
    "### Analise a distribuição de Pokémon ao longo das gerações. Há tendências ou mudanças  significativas na força dos Pokémon entre as gerações? Como isso pode estar relacionado à história ou ao design do jogo em cada geração?\n",
    "\n",
    "Identificamos que ao longo das primeiras gerações, houve uma tendência de crescimento em todos os atributos analisados (ataque, defesa e velocidade). Acreditamos que ao longo dos lançamentos de novas gerações, foi necessária a criação de pokémons mais fortes para que a evolução da história fizesse sentido."
   ]
  },
  {
   "cell_type": "markdown",
   "id": "5ba1c6a2",
   "metadata": {},
   "source": [
    "# Distribuição por Atributo\n",
    "### Utilize um boxplot para visualizar a distribuição de 'attack', 'defense' e 'speed'para cada tipo de Pokémon. Considere criar gráficos separados para cada atributo."
   ]
  },
  {
   "cell_type": "code",
   "execution_count": 4,
   "id": "7e681b5b",
   "metadata": {},
   "outputs": [
    {
     "data": {
      "application/vnd.plotly.v1+json": {
       "config": {
        "plotlyServerURL": "https://plot.ly"
       },
       "data": [
        {
         "alignmentgroup": "True",
         "hovertemplate": "type_1=%{x}<br>attack=%{y}<extra></extra>",
         "legendgroup": "Poison",
         "marker": {
          "color": "#636efa"
         },
         "name": "Poison",
         "notched": false,
         "offsetgroup": "Poison",
         "orientation": "v",
         "showlegend": true,
         "type": "box",
         "x": [
          "Poison",
          "Poison",
          "Poison",
          "Poison",
          "Poison"
         ],
         "x0": " ",
         "xaxis": "x",
         "y": [
          102,
          50,
          90,
          60,
          75
         ],
         "y0": " ",
         "yaxis": "y"
        },
        {
         "alignmentgroup": "True",
         "hovertemplate": "type_1=%{x}<br>attack=%{y}<extra></extra>",
         "legendgroup": "Bug",
         "marker": {
          "color": "#EF553B"
         },
         "name": "Bug",
         "notched": false,
         "offsetgroup": "Bug",
         "orientation": "v",
         "showlegend": true,
         "type": "box",
         "x": [
          "Bug",
          "Bug",
          "Bug",
          "Bug",
          "Bug",
          "Bug"
         ],
         "x0": " ",
         "xaxis": "x",
         "y": [
          70,
          95,
          65,
          105,
          45,
          55
         ],
         "y0": " ",
         "yaxis": "y"
        },
        {
         "alignmentgroup": "True",
         "hovertemplate": "type_1=%{x}<br>attack=%{y}<extra></extra>",
         "legendgroup": "Water",
         "marker": {
          "color": "#00cc96"
         },
         "name": "Water",
         "notched": false,
         "offsetgroup": "Water",
         "orientation": "v",
         "showlegend": true,
         "type": "box",
         "x": [
          "Water",
          "Water",
          "Water",
          "Water",
          "Water",
          "Water",
          "Water",
          "Water",
          "Water",
          "Water",
          "Water",
          "Water",
          "Water",
          "Water",
          "Water",
          "Water",
          "Water",
          "Water",
          "Water",
          "Water",
          "Water",
          "Water",
          "Water"
         ],
         "x0": " ",
         "xaxis": "x",
         "y": [
          65,
          75,
          70,
          85,
          20,
          50,
          45,
          85,
          75,
          55,
          95,
          30,
          50,
          70,
          30,
          50,
          120,
          90,
          83,
          78,
          108,
          44,
          87
         ],
         "y0": " ",
         "yaxis": "y"
        },
        {
         "alignmentgroup": "True",
         "hovertemplate": "type_1=%{x}<br>attack=%{y}<extra></extra>",
         "legendgroup": "Normal",
         "marker": {
          "color": "#ab63fa"
         },
         "name": "Normal",
         "notched": false,
         "offsetgroup": "Normal",
         "orientation": "v",
         "showlegend": true,
         "type": "box",
         "x": [
          "Normal",
          "Normal",
          "Normal"
         ],
         "x0": " ",
         "xaxis": "x",
         "y": [
          90,
          85,
          60
         ],
         "y0": " ",
         "yaxis": "y"
        },
        {
         "alignmentgroup": "True",
         "hovertemplate": "type_1=%{x}<br>attack=%{y}<extra></extra>",
         "legendgroup": "Ground",
         "marker": {
          "color": "#FFA15A"
         },
         "name": "Ground",
         "notched": false,
         "offsetgroup": "Ground",
         "orientation": "v",
         "showlegend": true,
         "type": "box",
         "x": [
          "Ground",
          "Ground",
          "Ground",
          "Ground"
         ],
         "x0": " ",
         "xaxis": "x",
         "y": [
          85,
          130,
          140,
          66
         ],
         "y0": " ",
         "yaxis": "y"
        },
        {
         "alignmentgroup": "True",
         "hovertemplate": "type_1=%{x}<br>attack=%{y}<extra></extra>",
         "legendgroup": "Rock",
         "marker": {
          "color": "#19d3f3"
         },
         "name": "Rock",
         "notched": false,
         "offsetgroup": "Rock",
         "orientation": "v",
         "showlegend": true,
         "type": "box",
         "x": [
          "Rock",
          "Rock",
          "Rock",
          "Rock"
         ],
         "x0": " ",
         "xaxis": "x",
         "y": [
          40,
          60,
          80,
          115
         ],
         "y0": " ",
         "yaxis": "y"
        },
        {
         "alignmentgroup": "True",
         "hovertemplate": "type_1=%{x}<br>attack=%{y}<extra></extra>",
         "legendgroup": "Fairy",
         "marker": {
          "color": "#FF6692"
         },
         "name": "Fairy",
         "notched": false,
         "offsetgroup": "Fairy",
         "orientation": "v",
         "showlegend": true,
         "type": "box",
         "x": [
          "Fairy",
          "Fairy"
         ],
         "x0": " ",
         "xaxis": "x",
         "y": [
          40,
          50
         ],
         "y0": " ",
         "yaxis": "y"
        },
        {
         "alignmentgroup": "True",
         "hovertemplate": "type_1=%{x}<br>attack=%{y}<extra></extra>",
         "legendgroup": "Grass",
         "marker": {
          "color": "#B6E880"
         },
         "name": "Grass",
         "notched": false,
         "offsetgroup": "Grass",
         "orientation": "v",
         "showlegend": true,
         "type": "box",
         "x": [
          "Grass",
          "Grass",
          "Grass",
          "Grass",
          "Grass",
          "Grass",
          "Grass",
          "Grass",
          "Grass",
          "Grass",
          "Grass"
         ],
         "x0": " ",
         "xaxis": "x",
         "y": [
          35,
          45,
          55,
          70,
          100,
          130,
          60,
          68,
          70,
          27,
          67
         ],
         "y0": " ",
         "yaxis": "y"
        },
        {
         "alignmentgroup": "True",
         "hovertemplate": "type_1=%{x}<br>attack=%{y}<extra></extra>",
         "legendgroup": "Ice",
         "marker": {
          "color": "#FF97FF"
         },
         "name": "Ice",
         "notched": false,
         "offsetgroup": "Ice",
         "orientation": "v",
         "showlegend": true,
         "type": "box",
         "x": [
          "Ice",
          "Ice",
          "Ice",
          "Ice"
         ],
         "x0": " ",
         "xaxis": "x",
         "y": [
          55,
          40,
          60,
          80
         ],
         "y0": " ",
         "yaxis": "y"
        },
        {
         "alignmentgroup": "True",
         "hovertemplate": "type_1=%{x}<br>attack=%{y}<extra></extra>",
         "legendgroup": "Psychic",
         "marker": {
          "color": "#FECB52"
         },
         "name": "Psychic",
         "notched": false,
         "offsetgroup": "Psychic",
         "orientation": "v",
         "showlegend": true,
         "type": "box",
         "x": [
          "Psychic",
          "Psychic",
          "Psychic",
          "Psychic",
          "Psychic"
         ],
         "x0": " ",
         "xaxis": "x",
         "y": [
          25,
          35,
          65,
          45,
          57
         ],
         "y0": " ",
         "yaxis": "y"
        },
        {
         "alignmentgroup": "True",
         "hovertemplate": "type_1=%{x}<br>attack=%{y}<extra></extra>",
         "legendgroup": "Steel",
         "marker": {
          "color": "#636efa"
         },
         "name": "Steel",
         "notched": false,
         "offsetgroup": "Steel",
         "orientation": "v",
         "showlegend": true,
         "type": "box",
         "x": [
          "Steel"
         ],
         "x0": " ",
         "xaxis": "x",
         "y": [
          85
         ],
         "y0": " ",
         "yaxis": "y"
        },
        {
         "alignmentgroup": "True",
         "hovertemplate": "type_1=%{x}<br>attack=%{y}<extra></extra>",
         "legendgroup": "Fighting",
         "marker": {
          "color": "#EF553B"
         },
         "name": "Fighting",
         "notched": false,
         "offsetgroup": "Fighting",
         "orientation": "v",
         "showlegend": true,
         "type": "box",
         "x": [
          "Fighting",
          "Fighting",
          "Fighting"
         ],
         "x0": " ",
         "xaxis": "x",
         "y": [
          110,
          124,
          92
         ],
         "y0": " ",
         "yaxis": "y"
        },
        {
         "alignmentgroup": "True",
         "hovertemplate": "type_1=%{x}<br>attack=%{y}<extra></extra>",
         "legendgroup": "Dark",
         "marker": {
          "color": "#00cc96"
         },
         "name": "Dark",
         "notched": false,
         "offsetgroup": "Dark",
         "orientation": "v",
         "showlegend": true,
         "type": "box",
         "x": [
          "Dark",
          "Dark",
          "Dark",
          "Dark"
         ],
         "x0": " ",
         "xaxis": "x",
         "y": [
          75,
          90,
          54,
          92
         ],
         "y0": " ",
         "yaxis": "y"
        },
        {
         "alignmentgroup": "True",
         "hovertemplate": "type_1=%{x}<br>attack=%{y}<extra></extra>",
         "legendgroup": "Electric",
         "marker": {
          "color": "#ab63fa"
         },
         "name": "Electric",
         "notched": false,
         "offsetgroup": "Electric",
         "orientation": "v",
         "showlegend": true,
         "type": "box",
         "x": [
          "Electric",
          "Electric",
          "Electric",
          "Electric"
         ],
         "x0": " ",
         "xaxis": "x",
         "y": [
          38,
          55,
          58,
          98
         ],
         "y0": " ",
         "yaxis": "y"
        },
        {
         "alignmentgroup": "True",
         "hovertemplate": "type_1=%{x}<br>attack=%{y}<extra></extra>",
         "legendgroup": "Ghost",
         "marker": {
          "color": "#FFA15A"
         },
         "name": "Ghost",
         "notched": false,
         "offsetgroup": "Ghost",
         "orientation": "v",
         "showlegend": true,
         "type": "box",
         "x": [
          "Ghost",
          "Ghost"
         ],
         "x0": " ",
         "xaxis": "x",
         "y": [
          70,
          110
         ],
         "y0": " ",
         "yaxis": "y"
        },
        {
         "alignmentgroup": "True",
         "hovertemplate": "type_1=%{x}<br>attack=%{y}<extra></extra>",
         "legendgroup": "Flying",
         "marker": {
          "color": "#19d3f3"
         },
         "name": "Flying",
         "notched": false,
         "offsetgroup": "Flying",
         "orientation": "v",
         "showlegend": true,
         "type": "box",
         "x": [
          "Flying",
          "Flying"
         ],
         "x0": " ",
         "xaxis": "x",
         "y": [
          30,
          70
         ],
         "y0": " ",
         "yaxis": "y"
        }
       ],
       "layout": {
        "boxmode": "overlay",
        "legend": {
         "title": {
          "text": "Tipo de Pokémon"
         },
         "tracegroupgap": 0
        },
        "template": {
         "data": {
          "bar": [
           {
            "error_x": {
             "color": "#2a3f5f"
            },
            "error_y": {
             "color": "#2a3f5f"
            },
            "marker": {
             "line": {
              "color": "#E5ECF6",
              "width": 0.5
             },
             "pattern": {
              "fillmode": "overlay",
              "size": 10,
              "solidity": 0.2
             }
            },
            "type": "bar"
           }
          ],
          "barpolar": [
           {
            "marker": {
             "line": {
              "color": "#E5ECF6",
              "width": 0.5
             },
             "pattern": {
              "fillmode": "overlay",
              "size": 10,
              "solidity": 0.2
             }
            },
            "type": "barpolar"
           }
          ],
          "carpet": [
           {
            "aaxis": {
             "endlinecolor": "#2a3f5f",
             "gridcolor": "white",
             "linecolor": "white",
             "minorgridcolor": "white",
             "startlinecolor": "#2a3f5f"
            },
            "baxis": {
             "endlinecolor": "#2a3f5f",
             "gridcolor": "white",
             "linecolor": "white",
             "minorgridcolor": "white",
             "startlinecolor": "#2a3f5f"
            },
            "type": "carpet"
           }
          ],
          "choropleth": [
           {
            "colorbar": {
             "outlinewidth": 0,
             "ticks": ""
            },
            "type": "choropleth"
           }
          ],
          "contour": [
           {
            "colorbar": {
             "outlinewidth": 0,
             "ticks": ""
            },
            "colorscale": [
             [
              0,
              "#0d0887"
             ],
             [
              0.1111111111111111,
              "#46039f"
             ],
             [
              0.2222222222222222,
              "#7201a8"
             ],
             [
              0.3333333333333333,
              "#9c179e"
             ],
             [
              0.4444444444444444,
              "#bd3786"
             ],
             [
              0.5555555555555556,
              "#d8576b"
             ],
             [
              0.6666666666666666,
              "#ed7953"
             ],
             [
              0.7777777777777778,
              "#fb9f3a"
             ],
             [
              0.8888888888888888,
              "#fdca26"
             ],
             [
              1,
              "#f0f921"
             ]
            ],
            "type": "contour"
           }
          ],
          "contourcarpet": [
           {
            "colorbar": {
             "outlinewidth": 0,
             "ticks": ""
            },
            "type": "contourcarpet"
           }
          ],
          "heatmap": [
           {
            "colorbar": {
             "outlinewidth": 0,
             "ticks": ""
            },
            "colorscale": [
             [
              0,
              "#0d0887"
             ],
             [
              0.1111111111111111,
              "#46039f"
             ],
             [
              0.2222222222222222,
              "#7201a8"
             ],
             [
              0.3333333333333333,
              "#9c179e"
             ],
             [
              0.4444444444444444,
              "#bd3786"
             ],
             [
              0.5555555555555556,
              "#d8576b"
             ],
             [
              0.6666666666666666,
              "#ed7953"
             ],
             [
              0.7777777777777778,
              "#fb9f3a"
             ],
             [
              0.8888888888888888,
              "#fdca26"
             ],
             [
              1,
              "#f0f921"
             ]
            ],
            "type": "heatmap"
           }
          ],
          "heatmapgl": [
           {
            "colorbar": {
             "outlinewidth": 0,
             "ticks": ""
            },
            "colorscale": [
             [
              0,
              "#0d0887"
             ],
             [
              0.1111111111111111,
              "#46039f"
             ],
             [
              0.2222222222222222,
              "#7201a8"
             ],
             [
              0.3333333333333333,
              "#9c179e"
             ],
             [
              0.4444444444444444,
              "#bd3786"
             ],
             [
              0.5555555555555556,
              "#d8576b"
             ],
             [
              0.6666666666666666,
              "#ed7953"
             ],
             [
              0.7777777777777778,
              "#fb9f3a"
             ],
             [
              0.8888888888888888,
              "#fdca26"
             ],
             [
              1,
              "#f0f921"
             ]
            ],
            "type": "heatmapgl"
           }
          ],
          "histogram": [
           {
            "marker": {
             "pattern": {
              "fillmode": "overlay",
              "size": 10,
              "solidity": 0.2
             }
            },
            "type": "histogram"
           }
          ],
          "histogram2d": [
           {
            "colorbar": {
             "outlinewidth": 0,
             "ticks": ""
            },
            "colorscale": [
             [
              0,
              "#0d0887"
             ],
             [
              0.1111111111111111,
              "#46039f"
             ],
             [
              0.2222222222222222,
              "#7201a8"
             ],
             [
              0.3333333333333333,
              "#9c179e"
             ],
             [
              0.4444444444444444,
              "#bd3786"
             ],
             [
              0.5555555555555556,
              "#d8576b"
             ],
             [
              0.6666666666666666,
              "#ed7953"
             ],
             [
              0.7777777777777778,
              "#fb9f3a"
             ],
             [
              0.8888888888888888,
              "#fdca26"
             ],
             [
              1,
              "#f0f921"
             ]
            ],
            "type": "histogram2d"
           }
          ],
          "histogram2dcontour": [
           {
            "colorbar": {
             "outlinewidth": 0,
             "ticks": ""
            },
            "colorscale": [
             [
              0,
              "#0d0887"
             ],
             [
              0.1111111111111111,
              "#46039f"
             ],
             [
              0.2222222222222222,
              "#7201a8"
             ],
             [
              0.3333333333333333,
              "#9c179e"
             ],
             [
              0.4444444444444444,
              "#bd3786"
             ],
             [
              0.5555555555555556,
              "#d8576b"
             ],
             [
              0.6666666666666666,
              "#ed7953"
             ],
             [
              0.7777777777777778,
              "#fb9f3a"
             ],
             [
              0.8888888888888888,
              "#fdca26"
             ],
             [
              1,
              "#f0f921"
             ]
            ],
            "type": "histogram2dcontour"
           }
          ],
          "mesh3d": [
           {
            "colorbar": {
             "outlinewidth": 0,
             "ticks": ""
            },
            "type": "mesh3d"
           }
          ],
          "parcoords": [
           {
            "line": {
             "colorbar": {
              "outlinewidth": 0,
              "ticks": ""
             }
            },
            "type": "parcoords"
           }
          ],
          "pie": [
           {
            "automargin": true,
            "type": "pie"
           }
          ],
          "scatter": [
           {
            "fillpattern": {
             "fillmode": "overlay",
             "size": 10,
             "solidity": 0.2
            },
            "type": "scatter"
           }
          ],
          "scatter3d": [
           {
            "line": {
             "colorbar": {
              "outlinewidth": 0,
              "ticks": ""
             }
            },
            "marker": {
             "colorbar": {
              "outlinewidth": 0,
              "ticks": ""
             }
            },
            "type": "scatter3d"
           }
          ],
          "scattercarpet": [
           {
            "marker": {
             "colorbar": {
              "outlinewidth": 0,
              "ticks": ""
             }
            },
            "type": "scattercarpet"
           }
          ],
          "scattergeo": [
           {
            "marker": {
             "colorbar": {
              "outlinewidth": 0,
              "ticks": ""
             }
            },
            "type": "scattergeo"
           }
          ],
          "scattergl": [
           {
            "marker": {
             "colorbar": {
              "outlinewidth": 0,
              "ticks": ""
             }
            },
            "type": "scattergl"
           }
          ],
          "scattermapbox": [
           {
            "marker": {
             "colorbar": {
              "outlinewidth": 0,
              "ticks": ""
             }
            },
            "type": "scattermapbox"
           }
          ],
          "scatterpolar": [
           {
            "marker": {
             "colorbar": {
              "outlinewidth": 0,
              "ticks": ""
             }
            },
            "type": "scatterpolar"
           }
          ],
          "scatterpolargl": [
           {
            "marker": {
             "colorbar": {
              "outlinewidth": 0,
              "ticks": ""
             }
            },
            "type": "scatterpolargl"
           }
          ],
          "scatterternary": [
           {
            "marker": {
             "colorbar": {
              "outlinewidth": 0,
              "ticks": ""
             }
            },
            "type": "scatterternary"
           }
          ],
          "surface": [
           {
            "colorbar": {
             "outlinewidth": 0,
             "ticks": ""
            },
            "colorscale": [
             [
              0,
              "#0d0887"
             ],
             [
              0.1111111111111111,
              "#46039f"
             ],
             [
              0.2222222222222222,
              "#7201a8"
             ],
             [
              0.3333333333333333,
              "#9c179e"
             ],
             [
              0.4444444444444444,
              "#bd3786"
             ],
             [
              0.5555555555555556,
              "#d8576b"
             ],
             [
              0.6666666666666666,
              "#ed7953"
             ],
             [
              0.7777777777777778,
              "#fb9f3a"
             ],
             [
              0.8888888888888888,
              "#fdca26"
             ],
             [
              1,
              "#f0f921"
             ]
            ],
            "type": "surface"
           }
          ],
          "table": [
           {
            "cells": {
             "fill": {
              "color": "#EBF0F8"
             },
             "line": {
              "color": "white"
             }
            },
            "header": {
             "fill": {
              "color": "#C8D4E3"
             },
             "line": {
              "color": "white"
             }
            },
            "type": "table"
           }
          ]
         },
         "layout": {
          "annotationdefaults": {
           "arrowcolor": "#2a3f5f",
           "arrowhead": 0,
           "arrowwidth": 1
          },
          "autotypenumbers": "strict",
          "coloraxis": {
           "colorbar": {
            "outlinewidth": 0,
            "ticks": ""
           }
          },
          "colorscale": {
           "diverging": [
            [
             0,
             "#8e0152"
            ],
            [
             0.1,
             "#c51b7d"
            ],
            [
             0.2,
             "#de77ae"
            ],
            [
             0.3,
             "#f1b6da"
            ],
            [
             0.4,
             "#fde0ef"
            ],
            [
             0.5,
             "#f7f7f7"
            ],
            [
             0.6,
             "#e6f5d0"
            ],
            [
             0.7,
             "#b8e186"
            ],
            [
             0.8,
             "#7fbc41"
            ],
            [
             0.9,
             "#4d9221"
            ],
            [
             1,
             "#276419"
            ]
           ],
           "sequential": [
            [
             0,
             "#0d0887"
            ],
            [
             0.1111111111111111,
             "#46039f"
            ],
            [
             0.2222222222222222,
             "#7201a8"
            ],
            [
             0.3333333333333333,
             "#9c179e"
            ],
            [
             0.4444444444444444,
             "#bd3786"
            ],
            [
             0.5555555555555556,
             "#d8576b"
            ],
            [
             0.6666666666666666,
             "#ed7953"
            ],
            [
             0.7777777777777778,
             "#fb9f3a"
            ],
            [
             0.8888888888888888,
             "#fdca26"
            ],
            [
             1,
             "#f0f921"
            ]
           ],
           "sequentialminus": [
            [
             0,
             "#0d0887"
            ],
            [
             0.1111111111111111,
             "#46039f"
            ],
            [
             0.2222222222222222,
             "#7201a8"
            ],
            [
             0.3333333333333333,
             "#9c179e"
            ],
            [
             0.4444444444444444,
             "#bd3786"
            ],
            [
             0.5555555555555556,
             "#d8576b"
            ],
            [
             0.6666666666666666,
             "#ed7953"
            ],
            [
             0.7777777777777778,
             "#fb9f3a"
            ],
            [
             0.8888888888888888,
             "#fdca26"
            ],
            [
             1,
             "#f0f921"
            ]
           ]
          },
          "colorway": [
           "#636efa",
           "#EF553B",
           "#00cc96",
           "#ab63fa",
           "#FFA15A",
           "#19d3f3",
           "#FF6692",
           "#B6E880",
           "#FF97FF",
           "#FECB52"
          ],
          "font": {
           "color": "#2a3f5f"
          },
          "geo": {
           "bgcolor": "white",
           "lakecolor": "white",
           "landcolor": "#E5ECF6",
           "showlakes": true,
           "showland": true,
           "subunitcolor": "white"
          },
          "hoverlabel": {
           "align": "left"
          },
          "hovermode": "closest",
          "mapbox": {
           "style": "light"
          },
          "paper_bgcolor": "white",
          "plot_bgcolor": "#E5ECF6",
          "polar": {
           "angularaxis": {
            "gridcolor": "white",
            "linecolor": "white",
            "ticks": ""
           },
           "bgcolor": "#E5ECF6",
           "radialaxis": {
            "gridcolor": "white",
            "linecolor": "white",
            "ticks": ""
           }
          },
          "scene": {
           "xaxis": {
            "backgroundcolor": "#E5ECF6",
            "gridcolor": "white",
            "gridwidth": 2,
            "linecolor": "white",
            "showbackground": true,
            "ticks": "",
            "zerolinecolor": "white"
           },
           "yaxis": {
            "backgroundcolor": "#E5ECF6",
            "gridcolor": "white",
            "gridwidth": 2,
            "linecolor": "white",
            "showbackground": true,
            "ticks": "",
            "zerolinecolor": "white"
           },
           "zaxis": {
            "backgroundcolor": "#E5ECF6",
            "gridcolor": "white",
            "gridwidth": 2,
            "linecolor": "white",
            "showbackground": true,
            "ticks": "",
            "zerolinecolor": "white"
           }
          },
          "shapedefaults": {
           "line": {
            "color": "#2a3f5f"
           }
          },
          "ternary": {
           "aaxis": {
            "gridcolor": "white",
            "linecolor": "white",
            "ticks": ""
           },
           "baxis": {
            "gridcolor": "white",
            "linecolor": "white",
            "ticks": ""
           },
           "bgcolor": "#E5ECF6",
           "caxis": {
            "gridcolor": "white",
            "linecolor": "white",
            "ticks": ""
           }
          },
          "title": {
           "x": 0.05
          },
          "xaxis": {
           "automargin": true,
           "gridcolor": "white",
           "linecolor": "white",
           "ticks": "",
           "title": {
            "standoff": 15
           },
           "zerolinecolor": "white",
           "zerolinewidth": 2
          },
          "yaxis": {
           "automargin": true,
           "gridcolor": "white",
           "linecolor": "white",
           "ticks": "",
           "title": {
            "standoff": 15
           },
           "zerolinecolor": "white",
           "zerolinewidth": 2
          }
         }
        },
        "title": {
         "text": "Distribuição de pontos de ataque por tipo de Pokémon"
        },
        "xaxis": {
         "anchor": "y",
         "categoryarray": [
          "Poison",
          "Bug",
          "Water",
          "Normal",
          "Ground",
          "Rock",
          "Fairy",
          "Grass",
          "Ice",
          "Psychic",
          "Steel",
          "Fighting",
          "Dark",
          "Electric",
          "Ghost",
          "Flying"
         ],
         "categoryorder": "array",
         "domain": [
          0,
          1
         ],
         "title": {
          "text": "Tipos de Pokémon"
         }
        },
        "yaxis": {
         "anchor": "x",
         "domain": [
          0,
          1
         ],
         "title": {
          "text": "Pontuação"
         }
        }
       }
      }
     },
     "metadata": {},
     "output_type": "display_data"
    }
   ],
   "source": [
    "attack_graphic = px.box(pokedex, x='type_1', y='attack', color='type_1', title='Distribuição de pontos de ataque por tipo de Pokémon', )\n",
    "attack_graphic.update_layout(xaxis_title='Tipos de Pokémon', legend_title='Tipo de Pokémon', yaxis_title='Pontuação')\n",
    "\n",
    "attack_graphic.show()"
   ]
  },
  {
   "cell_type": "code",
   "execution_count": 5,
   "id": "8b1ce560",
   "metadata": {},
   "outputs": [
    {
     "data": {
      "application/vnd.plotly.v1+json": {
       "config": {
        "plotlyServerURL": "https://plot.ly"
       },
       "data": [
        {
         "alignmentgroup": "True",
         "hovertemplate": "type_1=%{x}<br>defense=%{y}<extra></extra>",
         "legendgroup": "Poison",
         "marker": {
          "color": "#636efa"
         },
         "name": "Poison",
         "notched": false,
         "offsetgroup": "Poison",
         "orientation": "v",
         "showlegend": true,
         "type": "box",
         "x": [
          "Poison",
          "Poison",
          "Poison",
          "Poison",
          "Poison"
         ],
         "x0": " ",
         "xaxis": "x",
         "y": [
          77,
          90,
          110,
          60,
          90
         ],
         "y0": " ",
         "yaxis": "y"
        },
        {
         "alignmentgroup": "True",
         "hovertemplate": "type_1=%{x}<br>defense=%{y}<extra></extra>",
         "legendgroup": "Bug",
         "marker": {
          "color": "#EF553B"
         },
         "name": "Bug",
         "notched": false,
         "offsetgroup": "Bug",
         "orientation": "v",
         "showlegend": true,
         "type": "box",
         "x": [
          "Bug",
          "Bug",
          "Bug",
          "Bug",
          "Bug",
          "Bug"
         ],
         "x0": " ",
         "xaxis": "x",
         "y": [
          55,
          80,
          85,
          125,
          40,
          60
         ],
         "y0": " ",
         "yaxis": "y"
        },
        {
         "alignmentgroup": "True",
         "hovertemplate": "type_1=%{x}<br>defense=%{y}<extra></extra>",
         "legendgroup": "Water",
         "marker": {
          "color": "#00cc96"
         },
         "name": "Water",
         "notched": false,
         "offsetgroup": "Water",
         "orientation": "v",
         "showlegend": true,
         "type": "box",
         "x": [
          "Water",
          "Water",
          "Water",
          "Water",
          "Water",
          "Water",
          "Water",
          "Water",
          "Water",
          "Water",
          "Water",
          "Water",
          "Water",
          "Water",
          "Water",
          "Water",
          "Water",
          "Water",
          "Water",
          "Water",
          "Water",
          "Water",
          "Water"
         ],
         "x0": " ",
         "xaxis": "x",
         "y": [
          65,
          110,
          80,
          80,
          50,
          80,
          45,
          85,
          80,
          95,
          95,
          30,
          50,
          70,
          30,
          100,
          85,
          130,
          68,
          103,
          133,
          50,
          63
         ],
         "y0": " ",
         "yaxis": "y"
        },
        {
         "alignmentgroup": "True",
         "hovertemplate": "type_1=%{x}<br>defense=%{y}<extra></extra>",
         "legendgroup": "Normal",
         "marker": {
          "color": "#ab63fa"
         },
         "name": "Normal",
         "notched": false,
         "offsetgroup": "Normal",
         "orientation": "v",
         "showlegend": true,
         "type": "box",
         "x": [
          "Normal",
          "Normal",
          "Normal"
         ],
         "x0": " ",
         "xaxis": "x",
         "y": [
          55,
          60,
          85
         ],
         "y0": " ",
         "yaxis": "y"
        },
        {
         "alignmentgroup": "True",
         "hovertemplate": "type_1=%{x}<br>defense=%{y}<extra></extra>",
         "legendgroup": "Ground",
         "marker": {
          "color": "#FFA15A"
         },
         "name": "Ground",
         "notched": false,
         "offsetgroup": "Ground",
         "orientation": "v",
         "showlegend": true,
         "type": "box",
         "x": [
          "Ground",
          "Ground",
          "Ground",
          "Ground"
         ],
         "x0": " ",
         "xaxis": "x",
         "y": [
          95,
          120,
          130,
          84
         ],
         "y0": " ",
         "yaxis": "y"
        },
        {
         "alignmentgroup": "True",
         "hovertemplate": "type_1=%{x}<br>defense=%{y}<extra></extra>",
         "legendgroup": "Rock",
         "marker": {
          "color": "#19d3f3"
         },
         "name": "Rock",
         "notched": false,
         "offsetgroup": "Rock",
         "orientation": "v",
         "showlegend": true,
         "type": "box",
         "x": [
          "Rock",
          "Rock",
          "Rock",
          "Rock"
         ],
         "x0": " ",
         "xaxis": "x",
         "y": [
          100,
          125,
          90,
          105
         ],
         "y0": " ",
         "yaxis": "y"
        },
        {
         "alignmentgroup": "True",
         "hovertemplate": "type_1=%{x}<br>defense=%{y}<extra></extra>",
         "legendgroup": "Fairy",
         "marker": {
          "color": "#FF6692"
         },
         "name": "Fairy",
         "notched": false,
         "offsetgroup": "Fairy",
         "orientation": "v",
         "showlegend": true,
         "type": "box",
         "x": [
          "Fairy",
          "Fairy"
         ],
         "x0": " ",
         "xaxis": "x",
         "y": [
          85,
          95
         ],
         "y0": " ",
         "yaxis": "y"
        },
        {
         "alignmentgroup": "True",
         "hovertemplate": "type_1=%{x}<br>defense=%{y}<extra></extra>",
         "legendgroup": "Grass",
         "marker": {
          "color": "#B6E880"
         },
         "name": "Grass",
         "notched": false,
         "offsetgroup": "Grass",
         "orientation": "v",
         "showlegend": true,
         "type": "box",
         "x": [
          "Grass",
          "Grass",
          "Grass",
          "Grass",
          "Grass",
          "Grass",
          "Grass",
          "Grass",
          "Grass",
          "Grass",
          "Grass"
         ],
         "x0": " ",
         "xaxis": "x",
         "y": [
          40,
          50,
          70,
          40,
          60,
          80,
          45,
          83,
          65,
          60,
          85
         ],
         "y0": " ",
         "yaxis": "y"
        },
        {
         "alignmentgroup": "True",
         "hovertemplate": "type_1=%{x}<br>defense=%{y}<extra></extra>",
         "legendgroup": "Ice",
         "marker": {
          "color": "#FF97FF"
         },
         "name": "Ice",
         "notched": false,
         "offsetgroup": "Ice",
         "orientation": "v",
         "showlegend": true,
         "type": "box",
         "x": [
          "Ice",
          "Ice",
          "Ice",
          "Ice"
         ],
         "x0": " ",
         "xaxis": "x",
         "y": [
          45,
          50,
          70,
          90
         ],
         "y0": " ",
         "yaxis": "y"
        },
        {
         "alignmentgroup": "True",
         "hovertemplate": "type_1=%{x}<br>defense=%{y}<extra></extra>",
         "legendgroup": "Psychic",
         "marker": {
          "color": "#FECB52"
         },
         "name": "Psychic",
         "notched": false,
         "offsetgroup": "Psychic",
         "orientation": "v",
         "showlegend": true,
         "type": "box",
         "x": [
          "Psychic",
          "Psychic",
          "Psychic",
          "Psychic",
          "Psychic"
         ],
         "x0": " ",
         "xaxis": "x",
         "y": [
          25,
          35,
          65,
          43,
          55
         ],
         "y0": " ",
         "yaxis": "y"
        },
        {
         "alignmentgroup": "True",
         "hovertemplate": "type_1=%{x}<br>defense=%{y}<extra></extra>",
         "legendgroup": "Steel",
         "marker": {
          "color": "#636efa"
         },
         "name": "Steel",
         "notched": false,
         "offsetgroup": "Steel",
         "orientation": "v",
         "showlegend": true,
         "type": "box",
         "x": [
          "Steel"
         ],
         "x0": " ",
         "xaxis": "x",
         "y": [
          85
         ],
         "y0": " ",
         "yaxis": "y"
        },
        {
         "alignmentgroup": "True",
         "hovertemplate": "type_1=%{x}<br>defense=%{y}<extra></extra>",
         "legendgroup": "Fighting",
         "marker": {
          "color": "#EF553B"
         },
         "name": "Fighting",
         "notched": false,
         "offsetgroup": "Fighting",
         "orientation": "v",
         "showlegend": true,
         "type": "box",
         "x": [
          "Fighting",
          "Fighting",
          "Fighting"
         ],
         "x0": " ",
         "xaxis": "x",
         "y": [
          70,
          78,
          75
         ],
         "y0": " ",
         "yaxis": "y"
        },
        {
         "alignmentgroup": "True",
         "hovertemplate": "type_1=%{x}<br>defense=%{y}<extra></extra>",
         "legendgroup": "Dark",
         "marker": {
          "color": "#00cc96"
         },
         "name": "Dark",
         "notched": false,
         "offsetgroup": "Dark",
         "orientation": "v",
         "showlegend": true,
         "type": "box",
         "x": [
          "Dark",
          "Dark",
          "Dark",
          "Dark"
         ],
         "x0": " ",
         "xaxis": "x",
         "y": [
          70,
          115,
          53,
          88
         ],
         "y0": " ",
         "yaxis": "y"
        },
        {
         "alignmentgroup": "True",
         "hovertemplate": "type_1=%{x}<br>defense=%{y}<extra></extra>",
         "legendgroup": "Electric",
         "marker": {
          "color": "#ab63fa"
         },
         "name": "Electric",
         "notched": false,
         "offsetgroup": "Electric",
         "orientation": "v",
         "showlegend": true,
         "type": "box",
         "x": [
          "Electric",
          "Electric",
          "Electric",
          "Electric"
         ],
         "x0": " ",
         "xaxis": "x",
         "y": [
          33,
          52,
          57,
          63
         ],
         "y0": " ",
         "yaxis": "y"
        },
        {
         "alignmentgroup": "True",
         "hovertemplate": "type_1=%{x}<br>defense=%{y}<extra></extra>",
         "legendgroup": "Ghost",
         "marker": {
          "color": "#FFA15A"
         },
         "name": "Ghost",
         "notched": false,
         "offsetgroup": "Ghost",
         "orientation": "v",
         "showlegend": true,
         "type": "box",
         "x": [
          "Ghost",
          "Ghost"
         ],
         "x0": " ",
         "xaxis": "x",
         "y": [
          48,
          76
         ],
         "y0": " ",
         "yaxis": "y"
        },
        {
         "alignmentgroup": "True",
         "hovertemplate": "type_1=%{x}<br>defense=%{y}<extra></extra>",
         "legendgroup": "Flying",
         "marker": {
          "color": "#19d3f3"
         },
         "name": "Flying",
         "notched": false,
         "offsetgroup": "Flying",
         "orientation": "v",
         "showlegend": true,
         "type": "box",
         "x": [
          "Flying",
          "Flying"
         ],
         "x0": " ",
         "xaxis": "x",
         "y": [
          35,
          80
         ],
         "y0": " ",
         "yaxis": "y"
        }
       ],
       "layout": {
        "boxmode": "overlay",
        "legend": {
         "title": {
          "text": "Tipo de Pokémon"
         },
         "tracegroupgap": 0
        },
        "template": {
         "data": {
          "bar": [
           {
            "error_x": {
             "color": "#2a3f5f"
            },
            "error_y": {
             "color": "#2a3f5f"
            },
            "marker": {
             "line": {
              "color": "#E5ECF6",
              "width": 0.5
             },
             "pattern": {
              "fillmode": "overlay",
              "size": 10,
              "solidity": 0.2
             }
            },
            "type": "bar"
           }
          ],
          "barpolar": [
           {
            "marker": {
             "line": {
              "color": "#E5ECF6",
              "width": 0.5
             },
             "pattern": {
              "fillmode": "overlay",
              "size": 10,
              "solidity": 0.2
             }
            },
            "type": "barpolar"
           }
          ],
          "carpet": [
           {
            "aaxis": {
             "endlinecolor": "#2a3f5f",
             "gridcolor": "white",
             "linecolor": "white",
             "minorgridcolor": "white",
             "startlinecolor": "#2a3f5f"
            },
            "baxis": {
             "endlinecolor": "#2a3f5f",
             "gridcolor": "white",
             "linecolor": "white",
             "minorgridcolor": "white",
             "startlinecolor": "#2a3f5f"
            },
            "type": "carpet"
           }
          ],
          "choropleth": [
           {
            "colorbar": {
             "outlinewidth": 0,
             "ticks": ""
            },
            "type": "choropleth"
           }
          ],
          "contour": [
           {
            "colorbar": {
             "outlinewidth": 0,
             "ticks": ""
            },
            "colorscale": [
             [
              0,
              "#0d0887"
             ],
             [
              0.1111111111111111,
              "#46039f"
             ],
             [
              0.2222222222222222,
              "#7201a8"
             ],
             [
              0.3333333333333333,
              "#9c179e"
             ],
             [
              0.4444444444444444,
              "#bd3786"
             ],
             [
              0.5555555555555556,
              "#d8576b"
             ],
             [
              0.6666666666666666,
              "#ed7953"
             ],
             [
              0.7777777777777778,
              "#fb9f3a"
             ],
             [
              0.8888888888888888,
              "#fdca26"
             ],
             [
              1,
              "#f0f921"
             ]
            ],
            "type": "contour"
           }
          ],
          "contourcarpet": [
           {
            "colorbar": {
             "outlinewidth": 0,
             "ticks": ""
            },
            "type": "contourcarpet"
           }
          ],
          "heatmap": [
           {
            "colorbar": {
             "outlinewidth": 0,
             "ticks": ""
            },
            "colorscale": [
             [
              0,
              "#0d0887"
             ],
             [
              0.1111111111111111,
              "#46039f"
             ],
             [
              0.2222222222222222,
              "#7201a8"
             ],
             [
              0.3333333333333333,
              "#9c179e"
             ],
             [
              0.4444444444444444,
              "#bd3786"
             ],
             [
              0.5555555555555556,
              "#d8576b"
             ],
             [
              0.6666666666666666,
              "#ed7953"
             ],
             [
              0.7777777777777778,
              "#fb9f3a"
             ],
             [
              0.8888888888888888,
              "#fdca26"
             ],
             [
              1,
              "#f0f921"
             ]
            ],
            "type": "heatmap"
           }
          ],
          "heatmapgl": [
           {
            "colorbar": {
             "outlinewidth": 0,
             "ticks": ""
            },
            "colorscale": [
             [
              0,
              "#0d0887"
             ],
             [
              0.1111111111111111,
              "#46039f"
             ],
             [
              0.2222222222222222,
              "#7201a8"
             ],
             [
              0.3333333333333333,
              "#9c179e"
             ],
             [
              0.4444444444444444,
              "#bd3786"
             ],
             [
              0.5555555555555556,
              "#d8576b"
             ],
             [
              0.6666666666666666,
              "#ed7953"
             ],
             [
              0.7777777777777778,
              "#fb9f3a"
             ],
             [
              0.8888888888888888,
              "#fdca26"
             ],
             [
              1,
              "#f0f921"
             ]
            ],
            "type": "heatmapgl"
           }
          ],
          "histogram": [
           {
            "marker": {
             "pattern": {
              "fillmode": "overlay",
              "size": 10,
              "solidity": 0.2
             }
            },
            "type": "histogram"
           }
          ],
          "histogram2d": [
           {
            "colorbar": {
             "outlinewidth": 0,
             "ticks": ""
            },
            "colorscale": [
             [
              0,
              "#0d0887"
             ],
             [
              0.1111111111111111,
              "#46039f"
             ],
             [
              0.2222222222222222,
              "#7201a8"
             ],
             [
              0.3333333333333333,
              "#9c179e"
             ],
             [
              0.4444444444444444,
              "#bd3786"
             ],
             [
              0.5555555555555556,
              "#d8576b"
             ],
             [
              0.6666666666666666,
              "#ed7953"
             ],
             [
              0.7777777777777778,
              "#fb9f3a"
             ],
             [
              0.8888888888888888,
              "#fdca26"
             ],
             [
              1,
              "#f0f921"
             ]
            ],
            "type": "histogram2d"
           }
          ],
          "histogram2dcontour": [
           {
            "colorbar": {
             "outlinewidth": 0,
             "ticks": ""
            },
            "colorscale": [
             [
              0,
              "#0d0887"
             ],
             [
              0.1111111111111111,
              "#46039f"
             ],
             [
              0.2222222222222222,
              "#7201a8"
             ],
             [
              0.3333333333333333,
              "#9c179e"
             ],
             [
              0.4444444444444444,
              "#bd3786"
             ],
             [
              0.5555555555555556,
              "#d8576b"
             ],
             [
              0.6666666666666666,
              "#ed7953"
             ],
             [
              0.7777777777777778,
              "#fb9f3a"
             ],
             [
              0.8888888888888888,
              "#fdca26"
             ],
             [
              1,
              "#f0f921"
             ]
            ],
            "type": "histogram2dcontour"
           }
          ],
          "mesh3d": [
           {
            "colorbar": {
             "outlinewidth": 0,
             "ticks": ""
            },
            "type": "mesh3d"
           }
          ],
          "parcoords": [
           {
            "line": {
             "colorbar": {
              "outlinewidth": 0,
              "ticks": ""
             }
            },
            "type": "parcoords"
           }
          ],
          "pie": [
           {
            "automargin": true,
            "type": "pie"
           }
          ],
          "scatter": [
           {
            "fillpattern": {
             "fillmode": "overlay",
             "size": 10,
             "solidity": 0.2
            },
            "type": "scatter"
           }
          ],
          "scatter3d": [
           {
            "line": {
             "colorbar": {
              "outlinewidth": 0,
              "ticks": ""
             }
            },
            "marker": {
             "colorbar": {
              "outlinewidth": 0,
              "ticks": ""
             }
            },
            "type": "scatter3d"
           }
          ],
          "scattercarpet": [
           {
            "marker": {
             "colorbar": {
              "outlinewidth": 0,
              "ticks": ""
             }
            },
            "type": "scattercarpet"
           }
          ],
          "scattergeo": [
           {
            "marker": {
             "colorbar": {
              "outlinewidth": 0,
              "ticks": ""
             }
            },
            "type": "scattergeo"
           }
          ],
          "scattergl": [
           {
            "marker": {
             "colorbar": {
              "outlinewidth": 0,
              "ticks": ""
             }
            },
            "type": "scattergl"
           }
          ],
          "scattermapbox": [
           {
            "marker": {
             "colorbar": {
              "outlinewidth": 0,
              "ticks": ""
             }
            },
            "type": "scattermapbox"
           }
          ],
          "scatterpolar": [
           {
            "marker": {
             "colorbar": {
              "outlinewidth": 0,
              "ticks": ""
             }
            },
            "type": "scatterpolar"
           }
          ],
          "scatterpolargl": [
           {
            "marker": {
             "colorbar": {
              "outlinewidth": 0,
              "ticks": ""
             }
            },
            "type": "scatterpolargl"
           }
          ],
          "scatterternary": [
           {
            "marker": {
             "colorbar": {
              "outlinewidth": 0,
              "ticks": ""
             }
            },
            "type": "scatterternary"
           }
          ],
          "surface": [
           {
            "colorbar": {
             "outlinewidth": 0,
             "ticks": ""
            },
            "colorscale": [
             [
              0,
              "#0d0887"
             ],
             [
              0.1111111111111111,
              "#46039f"
             ],
             [
              0.2222222222222222,
              "#7201a8"
             ],
             [
              0.3333333333333333,
              "#9c179e"
             ],
             [
              0.4444444444444444,
              "#bd3786"
             ],
             [
              0.5555555555555556,
              "#d8576b"
             ],
             [
              0.6666666666666666,
              "#ed7953"
             ],
             [
              0.7777777777777778,
              "#fb9f3a"
             ],
             [
              0.8888888888888888,
              "#fdca26"
             ],
             [
              1,
              "#f0f921"
             ]
            ],
            "type": "surface"
           }
          ],
          "table": [
           {
            "cells": {
             "fill": {
              "color": "#EBF0F8"
             },
             "line": {
              "color": "white"
             }
            },
            "header": {
             "fill": {
              "color": "#C8D4E3"
             },
             "line": {
              "color": "white"
             }
            },
            "type": "table"
           }
          ]
         },
         "layout": {
          "annotationdefaults": {
           "arrowcolor": "#2a3f5f",
           "arrowhead": 0,
           "arrowwidth": 1
          },
          "autotypenumbers": "strict",
          "coloraxis": {
           "colorbar": {
            "outlinewidth": 0,
            "ticks": ""
           }
          },
          "colorscale": {
           "diverging": [
            [
             0,
             "#8e0152"
            ],
            [
             0.1,
             "#c51b7d"
            ],
            [
             0.2,
             "#de77ae"
            ],
            [
             0.3,
             "#f1b6da"
            ],
            [
             0.4,
             "#fde0ef"
            ],
            [
             0.5,
             "#f7f7f7"
            ],
            [
             0.6,
             "#e6f5d0"
            ],
            [
             0.7,
             "#b8e186"
            ],
            [
             0.8,
             "#7fbc41"
            ],
            [
             0.9,
             "#4d9221"
            ],
            [
             1,
             "#276419"
            ]
           ],
           "sequential": [
            [
             0,
             "#0d0887"
            ],
            [
             0.1111111111111111,
             "#46039f"
            ],
            [
             0.2222222222222222,
             "#7201a8"
            ],
            [
             0.3333333333333333,
             "#9c179e"
            ],
            [
             0.4444444444444444,
             "#bd3786"
            ],
            [
             0.5555555555555556,
             "#d8576b"
            ],
            [
             0.6666666666666666,
             "#ed7953"
            ],
            [
             0.7777777777777778,
             "#fb9f3a"
            ],
            [
             0.8888888888888888,
             "#fdca26"
            ],
            [
             1,
             "#f0f921"
            ]
           ],
           "sequentialminus": [
            [
             0,
             "#0d0887"
            ],
            [
             0.1111111111111111,
             "#46039f"
            ],
            [
             0.2222222222222222,
             "#7201a8"
            ],
            [
             0.3333333333333333,
             "#9c179e"
            ],
            [
             0.4444444444444444,
             "#bd3786"
            ],
            [
             0.5555555555555556,
             "#d8576b"
            ],
            [
             0.6666666666666666,
             "#ed7953"
            ],
            [
             0.7777777777777778,
             "#fb9f3a"
            ],
            [
             0.8888888888888888,
             "#fdca26"
            ],
            [
             1,
             "#f0f921"
            ]
           ]
          },
          "colorway": [
           "#636efa",
           "#EF553B",
           "#00cc96",
           "#ab63fa",
           "#FFA15A",
           "#19d3f3",
           "#FF6692",
           "#B6E880",
           "#FF97FF",
           "#FECB52"
          ],
          "font": {
           "color": "#2a3f5f"
          },
          "geo": {
           "bgcolor": "white",
           "lakecolor": "white",
           "landcolor": "#E5ECF6",
           "showlakes": true,
           "showland": true,
           "subunitcolor": "white"
          },
          "hoverlabel": {
           "align": "left"
          },
          "hovermode": "closest",
          "mapbox": {
           "style": "light"
          },
          "paper_bgcolor": "white",
          "plot_bgcolor": "#E5ECF6",
          "polar": {
           "angularaxis": {
            "gridcolor": "white",
            "linecolor": "white",
            "ticks": ""
           },
           "bgcolor": "#E5ECF6",
           "radialaxis": {
            "gridcolor": "white",
            "linecolor": "white",
            "ticks": ""
           }
          },
          "scene": {
           "xaxis": {
            "backgroundcolor": "#E5ECF6",
            "gridcolor": "white",
            "gridwidth": 2,
            "linecolor": "white",
            "showbackground": true,
            "ticks": "",
            "zerolinecolor": "white"
           },
           "yaxis": {
            "backgroundcolor": "#E5ECF6",
            "gridcolor": "white",
            "gridwidth": 2,
            "linecolor": "white",
            "showbackground": true,
            "ticks": "",
            "zerolinecolor": "white"
           },
           "zaxis": {
            "backgroundcolor": "#E5ECF6",
            "gridcolor": "white",
            "gridwidth": 2,
            "linecolor": "white",
            "showbackground": true,
            "ticks": "",
            "zerolinecolor": "white"
           }
          },
          "shapedefaults": {
           "line": {
            "color": "#2a3f5f"
           }
          },
          "ternary": {
           "aaxis": {
            "gridcolor": "white",
            "linecolor": "white",
            "ticks": ""
           },
           "baxis": {
            "gridcolor": "white",
            "linecolor": "white",
            "ticks": ""
           },
           "bgcolor": "#E5ECF6",
           "caxis": {
            "gridcolor": "white",
            "linecolor": "white",
            "ticks": ""
           }
          },
          "title": {
           "x": 0.05
          },
          "xaxis": {
           "automargin": true,
           "gridcolor": "white",
           "linecolor": "white",
           "ticks": "",
           "title": {
            "standoff": 15
           },
           "zerolinecolor": "white",
           "zerolinewidth": 2
          },
          "yaxis": {
           "automargin": true,
           "gridcolor": "white",
           "linecolor": "white",
           "ticks": "",
           "title": {
            "standoff": 15
           },
           "zerolinecolor": "white",
           "zerolinewidth": 2
          }
         }
        },
        "title": {
         "text": "Distribuição de pontos de defesa por tipo de Pokémon"
        },
        "xaxis": {
         "anchor": "y",
         "categoryarray": [
          "Poison",
          "Bug",
          "Water",
          "Normal",
          "Ground",
          "Rock",
          "Fairy",
          "Grass",
          "Ice",
          "Psychic",
          "Steel",
          "Fighting",
          "Dark",
          "Electric",
          "Ghost",
          "Flying"
         ],
         "categoryorder": "array",
         "domain": [
          0,
          1
         ],
         "title": {
          "text": "Tipos de Pokémon"
         }
        },
        "yaxis": {
         "anchor": "x",
         "domain": [
          0,
          1
         ],
         "title": {
          "text": "Pontuação"
         }
        }
       }
      }
     },
     "metadata": {},
     "output_type": "display_data"
    }
   ],
   "source": [
    "defense_graphic = px.box(pokedex, x='type_1', y='defense', color='type_1', title='Distribuição de pontos de defesa por tipo de Pokémon')\n",
    "defense_graphic.update_layout(xaxis_title='Tipos de Pokémon', legend_title='Tipo de Pokémon', yaxis_title='Pontuação')\n",
    "\n",
    "defense_graphic.show()"
   ]
  },
  {
   "cell_type": "code",
   "execution_count": 6,
   "id": "62a541d7",
   "metadata": {},
   "outputs": [
    {
     "data": {
      "application/vnd.plotly.v1+json": {
       "config": {
        "plotlyServerURL": "https://plot.ly"
       },
       "data": [
        {
         "alignmentgroup": "True",
         "hovertemplate": "type_1=%{x}<br>speed=%{y}<extra></extra>",
         "legendgroup": "Poison",
         "marker": {
          "color": "#636efa"
         },
         "name": "Poison",
         "notched": false,
         "offsetgroup": "Poison",
         "orientation": "v",
         "showlegend": true,
         "type": "box",
         "x": [
          "Poison",
          "Poison",
          "Poison",
          "Poison",
          "Poison"
         ],
         "x0": " ",
         "xaxis": "x",
         "y": [
          85,
          65,
          95,
          30,
          44
         ],
         "y0": " ",
         "yaxis": "y"
        },
        {
         "alignmentgroup": "True",
         "hovertemplate": "type_1=%{x}<br>speed=%{y}<extra></extra>",
         "legendgroup": "Bug",
         "marker": {
          "color": "#EF553B"
         },
         "name": "Bug",
         "notched": false,
         "offsetgroup": "Bug",
         "orientation": "v",
         "showlegend": true,
         "type": "box",
         "x": [
          "Bug",
          "Bug",
          "Bug",
          "Bug",
          "Bug",
          "Bug"
         ],
         "x0": " ",
         "xaxis": "x",
         "y": [
          25,
          30,
          55,
          45,
          84,
          124
         ],
         "y0": " ",
         "yaxis": "y"
        },
        {
         "alignmentgroup": "True",
         "hovertemplate": "type_1=%{x}<br>speed=%{y}<extra></extra>",
         "legendgroup": "Water",
         "marker": {
          "color": "#00cc96"
         },
         "name": "Water",
         "notched": false,
         "offsetgroup": "Water",
         "orientation": "v",
         "showlegend": true,
         "type": "box",
         "x": [
          "Water",
          "Water",
          "Water",
          "Water",
          "Water",
          "Water",
          "Water",
          "Water",
          "Water",
          "Water",
          "Water",
          "Water",
          "Water",
          "Water",
          "Water",
          "Water",
          "Water",
          "Water",
          "Water",
          "Water",
          "Water",
          "Water",
          "Water"
         ],
         "x0": " ",
         "xaxis": "x",
         "y": [
          15,
          30,
          70,
          60,
          40,
          50,
          15,
          35,
          30,
          35,
          85,
          30,
          50,
          70,
          85,
          65,
          55,
          55,
          39,
          22,
          32,
          55,
          98
         ],
         "y0": " ",
         "yaxis": "y"
        },
        {
         "alignmentgroup": "True",
         "hovertemplate": "type_1=%{x}<br>speed=%{y}<extra></extra>",
         "legendgroup": "Normal",
         "marker": {
          "color": "#ab63fa"
         },
         "name": "Normal",
         "notched": false,
         "offsetgroup": "Normal",
         "orientation": "v",
         "showlegend": true,
         "type": "box",
         "x": [
          "Normal",
          "Normal",
          "Normal"
         ],
         "x0": " ",
         "xaxis": "x",
         "y": [
          60,
          71,
          36
         ],
         "y0": " ",
         "yaxis": "y"
        },
        {
         "alignmentgroup": "True",
         "hovertemplate": "type_1=%{x}<br>speed=%{y}<extra></extra>",
         "legendgroup": "Ground",
         "marker": {
          "color": "#FFA15A"
         },
         "name": "Ground",
         "notched": false,
         "offsetgroup": "Ground",
         "orientation": "v",
         "showlegend": true,
         "type": "box",
         "x": [
          "Ground",
          "Ground",
          "Ground",
          "Ground"
         ],
         "x0": " ",
         "xaxis": "x",
         "y": [
          25,
          40,
          40,
          32
         ],
         "y0": " ",
         "yaxis": "y"
        },
        {
         "alignmentgroup": "True",
         "hovertemplate": "type_1=%{x}<br>speed=%{y}<extra></extra>",
         "legendgroup": "Rock",
         "marker": {
          "color": "#19d3f3"
         },
         "name": "Rock",
         "notched": false,
         "offsetgroup": "Rock",
         "orientation": "v",
         "showlegend": true,
         "type": "box",
         "x": [
          "Rock",
          "Rock",
          "Rock",
          "Rock"
         ],
         "x0": " ",
         "xaxis": "x",
         "y": [
          35,
          55,
          55,
          80
         ],
         "y0": " ",
         "yaxis": "y"
        },
        {
         "alignmentgroup": "True",
         "hovertemplate": "type_1=%{x}<br>speed=%{y}<extra></extra>",
         "legendgroup": "Fairy",
         "marker": {
          "color": "#FF6692"
         },
         "name": "Fairy",
         "notched": false,
         "offsetgroup": "Fairy",
         "orientation": "v",
         "showlegend": true,
         "type": "box",
         "x": [
          "Fairy",
          "Fairy"
         ],
         "x0": " ",
         "xaxis": "x",
         "y": [
          40,
          80
         ],
         "y0": " ",
         "yaxis": "y"
        },
        {
         "alignmentgroup": "True",
         "hovertemplate": "type_1=%{x}<br>speed=%{y}<extra></extra>",
         "legendgroup": "Grass",
         "marker": {
          "color": "#B6E880"
         },
         "name": "Grass",
         "notched": false,
         "offsetgroup": "Grass",
         "orientation": "v",
         "showlegend": true,
         "type": "box",
         "x": [
          "Grass",
          "Grass",
          "Grass",
          "Grass",
          "Grass",
          "Grass",
          "Grass",
          "Grass",
          "Grass",
          "Grass",
          "Grass"
         ],
         "x0": " ",
         "xaxis": "x",
         "y": [
          50,
          80,
          110,
          60,
          80,
          70,
          65,
          51,
          90,
          66,
          116
         ],
         "y0": " ",
         "yaxis": "y"
        },
        {
         "alignmentgroup": "True",
         "hovertemplate": "type_1=%{x}<br>speed=%{y}<extra></extra>",
         "legendgroup": "Ice",
         "marker": {
          "color": "#FF97FF"
         },
         "name": "Ice",
         "notched": false,
         "offsetgroup": "Ice",
         "orientation": "v",
         "showlegend": true,
         "type": "box",
         "x": [
          "Ice",
          "Ice",
          "Ice",
          "Ice"
         ],
         "x0": " ",
         "xaxis": "x",
         "y": [
          75,
          25,
          45,
          65
         ],
         "y0": " ",
         "yaxis": "y"
        },
        {
         "alignmentgroup": "True",
         "hovertemplate": "type_1=%{x}<br>speed=%{y}<extra></extra>",
         "legendgroup": "Psychic",
         "marker": {
          "color": "#FECB52"
         },
         "name": "Psychic",
         "notched": false,
         "offsetgroup": "Psychic",
         "orientation": "v",
         "showlegend": true,
         "type": "box",
         "x": [
          "Psychic",
          "Psychic",
          "Psychic",
          "Psychic",
          "Psychic"
         ],
         "x0": " ",
         "xaxis": "x",
         "y": [
          40,
          50,
          80,
          72,
          114
         ],
         "y0": " ",
         "yaxis": "y"
        },
        {
         "alignmentgroup": "True",
         "hovertemplate": "type_1=%{x}<br>speed=%{y}<extra></extra>",
         "legendgroup": "Steel",
         "marker": {
          "color": "#636efa"
         },
         "name": "Steel",
         "notched": false,
         "offsetgroup": "Steel",
         "orientation": "v",
         "showlegend": true,
         "type": "box",
         "x": [
          "Steel"
         ],
         "x0": " ",
         "xaxis": "x",
         "y": [
          50
         ],
         "y0": " ",
         "yaxis": "y"
        },
        {
         "alignmentgroup": "True",
         "hovertemplate": "type_1=%{x}<br>speed=%{y}<extra></extra>",
         "legendgroup": "Fighting",
         "marker": {
          "color": "#EF553B"
         },
         "name": "Fighting",
         "notched": false,
         "offsetgroup": "Fighting",
         "orientation": "v",
         "showlegend": true,
         "type": "box",
         "x": [
          "Fighting",
          "Fighting",
          "Fighting"
         ],
         "x0": " ",
         "xaxis": "x",
         "y": [
          90,
          58,
          118
         ],
         "y0": " ",
         "yaxis": "y"
        },
        {
         "alignmentgroup": "True",
         "hovertemplate": "type_1=%{x}<br>speed=%{y}<extra></extra>",
         "legendgroup": "Dark",
         "marker": {
          "color": "#00cc96"
         },
         "name": "Dark",
         "notched": false,
         "offsetgroup": "Dark",
         "orientation": "v",
         "showlegend": true,
         "type": "box",
         "x": [
          "Dark",
          "Dark",
          "Dark",
          "Dark"
         ],
         "x0": " ",
         "xaxis": "x",
         "y": [
          48,
          58,
          45,
          73
         ],
         "y0": " ",
         "yaxis": "y"
        },
        {
         "alignmentgroup": "True",
         "hovertemplate": "type_1=%{x}<br>speed=%{y}<extra></extra>",
         "legendgroup": "Electric",
         "marker": {
          "color": "#ab63fa"
         },
         "name": "Electric",
         "notched": false,
         "offsetgroup": "Electric",
         "orientation": "v",
         "showlegend": true,
         "type": "box",
         "x": [
          "Electric",
          "Electric",
          "Electric",
          "Electric"
         ],
         "x0": " ",
         "xaxis": "x",
         "y": [
          70,
          109,
          101,
          96
         ],
         "y0": " ",
         "yaxis": "y"
        },
        {
         "alignmentgroup": "True",
         "hovertemplate": "type_1=%{x}<br>speed=%{y}<extra></extra>",
         "legendgroup": "Ghost",
         "marker": {
          "color": "#FFA15A"
         },
         "name": "Ghost",
         "notched": false,
         "offsetgroup": "Ghost",
         "orientation": "v",
         "showlegend": true,
         "type": "box",
         "x": [
          "Ghost",
          "Ghost"
         ],
         "x0": " ",
         "xaxis": "x",
         "y": [
          38,
          56
         ],
         "y0": " ",
         "yaxis": "y"
        },
        {
         "alignmentgroup": "True",
         "hovertemplate": "type_1=%{x}<br>speed=%{y}<extra></extra>",
         "legendgroup": "Flying",
         "marker": {
          "color": "#19d3f3"
         },
         "name": "Flying",
         "notched": false,
         "offsetgroup": "Flying",
         "orientation": "v",
         "showlegend": true,
         "type": "box",
         "x": [
          "Flying",
          "Flying"
         ],
         "x0": " ",
         "xaxis": "x",
         "y": [
          55,
          123
         ],
         "y0": " ",
         "yaxis": "y"
        }
       ],
       "layout": {
        "boxmode": "overlay",
        "legend": {
         "title": {
          "text": "Tipo de Pokémon"
         },
         "tracegroupgap": 0
        },
        "template": {
         "data": {
          "bar": [
           {
            "error_x": {
             "color": "#2a3f5f"
            },
            "error_y": {
             "color": "#2a3f5f"
            },
            "marker": {
             "line": {
              "color": "#E5ECF6",
              "width": 0.5
             },
             "pattern": {
              "fillmode": "overlay",
              "size": 10,
              "solidity": 0.2
             }
            },
            "type": "bar"
           }
          ],
          "barpolar": [
           {
            "marker": {
             "line": {
              "color": "#E5ECF6",
              "width": 0.5
             },
             "pattern": {
              "fillmode": "overlay",
              "size": 10,
              "solidity": 0.2
             }
            },
            "type": "barpolar"
           }
          ],
          "carpet": [
           {
            "aaxis": {
             "endlinecolor": "#2a3f5f",
             "gridcolor": "white",
             "linecolor": "white",
             "minorgridcolor": "white",
             "startlinecolor": "#2a3f5f"
            },
            "baxis": {
             "endlinecolor": "#2a3f5f",
             "gridcolor": "white",
             "linecolor": "white",
             "minorgridcolor": "white",
             "startlinecolor": "#2a3f5f"
            },
            "type": "carpet"
           }
          ],
          "choropleth": [
           {
            "colorbar": {
             "outlinewidth": 0,
             "ticks": ""
            },
            "type": "choropleth"
           }
          ],
          "contour": [
           {
            "colorbar": {
             "outlinewidth": 0,
             "ticks": ""
            },
            "colorscale": [
             [
              0,
              "#0d0887"
             ],
             [
              0.1111111111111111,
              "#46039f"
             ],
             [
              0.2222222222222222,
              "#7201a8"
             ],
             [
              0.3333333333333333,
              "#9c179e"
             ],
             [
              0.4444444444444444,
              "#bd3786"
             ],
             [
              0.5555555555555556,
              "#d8576b"
             ],
             [
              0.6666666666666666,
              "#ed7953"
             ],
             [
              0.7777777777777778,
              "#fb9f3a"
             ],
             [
              0.8888888888888888,
              "#fdca26"
             ],
             [
              1,
              "#f0f921"
             ]
            ],
            "type": "contour"
           }
          ],
          "contourcarpet": [
           {
            "colorbar": {
             "outlinewidth": 0,
             "ticks": ""
            },
            "type": "contourcarpet"
           }
          ],
          "heatmap": [
           {
            "colorbar": {
             "outlinewidth": 0,
             "ticks": ""
            },
            "colorscale": [
             [
              0,
              "#0d0887"
             ],
             [
              0.1111111111111111,
              "#46039f"
             ],
             [
              0.2222222222222222,
              "#7201a8"
             ],
             [
              0.3333333333333333,
              "#9c179e"
             ],
             [
              0.4444444444444444,
              "#bd3786"
             ],
             [
              0.5555555555555556,
              "#d8576b"
             ],
             [
              0.6666666666666666,
              "#ed7953"
             ],
             [
              0.7777777777777778,
              "#fb9f3a"
             ],
             [
              0.8888888888888888,
              "#fdca26"
             ],
             [
              1,
              "#f0f921"
             ]
            ],
            "type": "heatmap"
           }
          ],
          "heatmapgl": [
           {
            "colorbar": {
             "outlinewidth": 0,
             "ticks": ""
            },
            "colorscale": [
             [
              0,
              "#0d0887"
             ],
             [
              0.1111111111111111,
              "#46039f"
             ],
             [
              0.2222222222222222,
              "#7201a8"
             ],
             [
              0.3333333333333333,
              "#9c179e"
             ],
             [
              0.4444444444444444,
              "#bd3786"
             ],
             [
              0.5555555555555556,
              "#d8576b"
             ],
             [
              0.6666666666666666,
              "#ed7953"
             ],
             [
              0.7777777777777778,
              "#fb9f3a"
             ],
             [
              0.8888888888888888,
              "#fdca26"
             ],
             [
              1,
              "#f0f921"
             ]
            ],
            "type": "heatmapgl"
           }
          ],
          "histogram": [
           {
            "marker": {
             "pattern": {
              "fillmode": "overlay",
              "size": 10,
              "solidity": 0.2
             }
            },
            "type": "histogram"
           }
          ],
          "histogram2d": [
           {
            "colorbar": {
             "outlinewidth": 0,
             "ticks": ""
            },
            "colorscale": [
             [
              0,
              "#0d0887"
             ],
             [
              0.1111111111111111,
              "#46039f"
             ],
             [
              0.2222222222222222,
              "#7201a8"
             ],
             [
              0.3333333333333333,
              "#9c179e"
             ],
             [
              0.4444444444444444,
              "#bd3786"
             ],
             [
              0.5555555555555556,
              "#d8576b"
             ],
             [
              0.6666666666666666,
              "#ed7953"
             ],
             [
              0.7777777777777778,
              "#fb9f3a"
             ],
             [
              0.8888888888888888,
              "#fdca26"
             ],
             [
              1,
              "#f0f921"
             ]
            ],
            "type": "histogram2d"
           }
          ],
          "histogram2dcontour": [
           {
            "colorbar": {
             "outlinewidth": 0,
             "ticks": ""
            },
            "colorscale": [
             [
              0,
              "#0d0887"
             ],
             [
              0.1111111111111111,
              "#46039f"
             ],
             [
              0.2222222222222222,
              "#7201a8"
             ],
             [
              0.3333333333333333,
              "#9c179e"
             ],
             [
              0.4444444444444444,
              "#bd3786"
             ],
             [
              0.5555555555555556,
              "#d8576b"
             ],
             [
              0.6666666666666666,
              "#ed7953"
             ],
             [
              0.7777777777777778,
              "#fb9f3a"
             ],
             [
              0.8888888888888888,
              "#fdca26"
             ],
             [
              1,
              "#f0f921"
             ]
            ],
            "type": "histogram2dcontour"
           }
          ],
          "mesh3d": [
           {
            "colorbar": {
             "outlinewidth": 0,
             "ticks": ""
            },
            "type": "mesh3d"
           }
          ],
          "parcoords": [
           {
            "line": {
             "colorbar": {
              "outlinewidth": 0,
              "ticks": ""
             }
            },
            "type": "parcoords"
           }
          ],
          "pie": [
           {
            "automargin": true,
            "type": "pie"
           }
          ],
          "scatter": [
           {
            "fillpattern": {
             "fillmode": "overlay",
             "size": 10,
             "solidity": 0.2
            },
            "type": "scatter"
           }
          ],
          "scatter3d": [
           {
            "line": {
             "colorbar": {
              "outlinewidth": 0,
              "ticks": ""
             }
            },
            "marker": {
             "colorbar": {
              "outlinewidth": 0,
              "ticks": ""
             }
            },
            "type": "scatter3d"
           }
          ],
          "scattercarpet": [
           {
            "marker": {
             "colorbar": {
              "outlinewidth": 0,
              "ticks": ""
             }
            },
            "type": "scattercarpet"
           }
          ],
          "scattergeo": [
           {
            "marker": {
             "colorbar": {
              "outlinewidth": 0,
              "ticks": ""
             }
            },
            "type": "scattergeo"
           }
          ],
          "scattergl": [
           {
            "marker": {
             "colorbar": {
              "outlinewidth": 0,
              "ticks": ""
             }
            },
            "type": "scattergl"
           }
          ],
          "scattermapbox": [
           {
            "marker": {
             "colorbar": {
              "outlinewidth": 0,
              "ticks": ""
             }
            },
            "type": "scattermapbox"
           }
          ],
          "scatterpolar": [
           {
            "marker": {
             "colorbar": {
              "outlinewidth": 0,
              "ticks": ""
             }
            },
            "type": "scatterpolar"
           }
          ],
          "scatterpolargl": [
           {
            "marker": {
             "colorbar": {
              "outlinewidth": 0,
              "ticks": ""
             }
            },
            "type": "scatterpolargl"
           }
          ],
          "scatterternary": [
           {
            "marker": {
             "colorbar": {
              "outlinewidth": 0,
              "ticks": ""
             }
            },
            "type": "scatterternary"
           }
          ],
          "surface": [
           {
            "colorbar": {
             "outlinewidth": 0,
             "ticks": ""
            },
            "colorscale": [
             [
              0,
              "#0d0887"
             ],
             [
              0.1111111111111111,
              "#46039f"
             ],
             [
              0.2222222222222222,
              "#7201a8"
             ],
             [
              0.3333333333333333,
              "#9c179e"
             ],
             [
              0.4444444444444444,
              "#bd3786"
             ],
             [
              0.5555555555555556,
              "#d8576b"
             ],
             [
              0.6666666666666666,
              "#ed7953"
             ],
             [
              0.7777777777777778,
              "#fb9f3a"
             ],
             [
              0.8888888888888888,
              "#fdca26"
             ],
             [
              1,
              "#f0f921"
             ]
            ],
            "type": "surface"
           }
          ],
          "table": [
           {
            "cells": {
             "fill": {
              "color": "#EBF0F8"
             },
             "line": {
              "color": "white"
             }
            },
            "header": {
             "fill": {
              "color": "#C8D4E3"
             },
             "line": {
              "color": "white"
             }
            },
            "type": "table"
           }
          ]
         },
         "layout": {
          "annotationdefaults": {
           "arrowcolor": "#2a3f5f",
           "arrowhead": 0,
           "arrowwidth": 1
          },
          "autotypenumbers": "strict",
          "coloraxis": {
           "colorbar": {
            "outlinewidth": 0,
            "ticks": ""
           }
          },
          "colorscale": {
           "diverging": [
            [
             0,
             "#8e0152"
            ],
            [
             0.1,
             "#c51b7d"
            ],
            [
             0.2,
             "#de77ae"
            ],
            [
             0.3,
             "#f1b6da"
            ],
            [
             0.4,
             "#fde0ef"
            ],
            [
             0.5,
             "#f7f7f7"
            ],
            [
             0.6,
             "#e6f5d0"
            ],
            [
             0.7,
             "#b8e186"
            ],
            [
             0.8,
             "#7fbc41"
            ],
            [
             0.9,
             "#4d9221"
            ],
            [
             1,
             "#276419"
            ]
           ],
           "sequential": [
            [
             0,
             "#0d0887"
            ],
            [
             0.1111111111111111,
             "#46039f"
            ],
            [
             0.2222222222222222,
             "#7201a8"
            ],
            [
             0.3333333333333333,
             "#9c179e"
            ],
            [
             0.4444444444444444,
             "#bd3786"
            ],
            [
             0.5555555555555556,
             "#d8576b"
            ],
            [
             0.6666666666666666,
             "#ed7953"
            ],
            [
             0.7777777777777778,
             "#fb9f3a"
            ],
            [
             0.8888888888888888,
             "#fdca26"
            ],
            [
             1,
             "#f0f921"
            ]
           ],
           "sequentialminus": [
            [
             0,
             "#0d0887"
            ],
            [
             0.1111111111111111,
             "#46039f"
            ],
            [
             0.2222222222222222,
             "#7201a8"
            ],
            [
             0.3333333333333333,
             "#9c179e"
            ],
            [
             0.4444444444444444,
             "#bd3786"
            ],
            [
             0.5555555555555556,
             "#d8576b"
            ],
            [
             0.6666666666666666,
             "#ed7953"
            ],
            [
             0.7777777777777778,
             "#fb9f3a"
            ],
            [
             0.8888888888888888,
             "#fdca26"
            ],
            [
             1,
             "#f0f921"
            ]
           ]
          },
          "colorway": [
           "#636efa",
           "#EF553B",
           "#00cc96",
           "#ab63fa",
           "#FFA15A",
           "#19d3f3",
           "#FF6692",
           "#B6E880",
           "#FF97FF",
           "#FECB52"
          ],
          "font": {
           "color": "#2a3f5f"
          },
          "geo": {
           "bgcolor": "white",
           "lakecolor": "white",
           "landcolor": "#E5ECF6",
           "showlakes": true,
           "showland": true,
           "subunitcolor": "white"
          },
          "hoverlabel": {
           "align": "left"
          },
          "hovermode": "closest",
          "mapbox": {
           "style": "light"
          },
          "paper_bgcolor": "white",
          "plot_bgcolor": "#E5ECF6",
          "polar": {
           "angularaxis": {
            "gridcolor": "white",
            "linecolor": "white",
            "ticks": ""
           },
           "bgcolor": "#E5ECF6",
           "radialaxis": {
            "gridcolor": "white",
            "linecolor": "white",
            "ticks": ""
           }
          },
          "scene": {
           "xaxis": {
            "backgroundcolor": "#E5ECF6",
            "gridcolor": "white",
            "gridwidth": 2,
            "linecolor": "white",
            "showbackground": true,
            "ticks": "",
            "zerolinecolor": "white"
           },
           "yaxis": {
            "backgroundcolor": "#E5ECF6",
            "gridcolor": "white",
            "gridwidth": 2,
            "linecolor": "white",
            "showbackground": true,
            "ticks": "",
            "zerolinecolor": "white"
           },
           "zaxis": {
            "backgroundcolor": "#E5ECF6",
            "gridcolor": "white",
            "gridwidth": 2,
            "linecolor": "white",
            "showbackground": true,
            "ticks": "",
            "zerolinecolor": "white"
           }
          },
          "shapedefaults": {
           "line": {
            "color": "#2a3f5f"
           }
          },
          "ternary": {
           "aaxis": {
            "gridcolor": "white",
            "linecolor": "white",
            "ticks": ""
           },
           "baxis": {
            "gridcolor": "white",
            "linecolor": "white",
            "ticks": ""
           },
           "bgcolor": "#E5ECF6",
           "caxis": {
            "gridcolor": "white",
            "linecolor": "white",
            "ticks": ""
           }
          },
          "title": {
           "x": 0.05
          },
          "xaxis": {
           "automargin": true,
           "gridcolor": "white",
           "linecolor": "white",
           "ticks": "",
           "title": {
            "standoff": 15
           },
           "zerolinecolor": "white",
           "zerolinewidth": 2
          },
          "yaxis": {
           "automargin": true,
           "gridcolor": "white",
           "linecolor": "white",
           "ticks": "",
           "title": {
            "standoff": 15
           },
           "zerolinecolor": "white",
           "zerolinewidth": 2
          }
         }
        },
        "title": {
         "text": "Distribuição de pontos de velocidade por tipo de Pokémon"
        },
        "xaxis": {
         "anchor": "y",
         "categoryarray": [
          "Poison",
          "Bug",
          "Water",
          "Normal",
          "Ground",
          "Rock",
          "Fairy",
          "Grass",
          "Ice",
          "Psychic",
          "Steel",
          "Fighting",
          "Dark",
          "Electric",
          "Ghost",
          "Flying"
         ],
         "categoryorder": "array",
         "domain": [
          0,
          1
         ],
         "title": {
          "text": "Tipos de Pokémon"
         }
        },
        "yaxis": {
         "anchor": "x",
         "domain": [
          0,
          1
         ],
         "title": {
          "text": "Pontuação"
         }
        }
       }
      }
     },
     "metadata": {},
     "output_type": "display_data"
    }
   ],
   "source": [
    "speed_graphic = px.box(pokedex, x='type_1', y='speed', color='type_1', title='Distribuição de pontos de velocidade por tipo de Pokémon')\n",
    "speed_graphic.update_layout(xaxis_title='Tipos de Pokémon', legend_title='Tipo de Pokémon', yaxis_title='Pontuação')\n",
    "\n",
    "speed_graphic.show()"
   ]
  },
  {
   "cell_type": "markdown",
   "id": "fe9494db",
   "metadata": {},
   "source": [
    "### Quais tipos tendem a ter os maiores ou menores valores de 'attack', 'defense' e 'speed'? Existe algum tipo que é notavelmente equilibrado ou forte em algum atributo?\n"
   ]
  },
  {
   "cell_type": "code",
   "execution_count": 7,
   "id": "af36232e",
   "metadata": {},
   "outputs": [
    {
     "name": "stdout",
     "output_type": "stream",
     "text": [
      "Medianas por tipo:\n",
      "          attack  defense  speed\n",
      "type_1                          \n",
      "Bug         67.5     70.0   50.0\n",
      "Dark        82.5     79.0   53.0\n",
      "Electric    56.5     54.5   98.5\n",
      "Fairy       45.0     90.0   60.0\n",
      "Fighting   110.0     75.0   90.0\n",
      "Flying      50.0     57.5   89.0\n",
      "Ghost       90.0     62.0   47.0\n",
      "Grass       67.0     60.0   70.0\n",
      "Ground     107.5    107.5   36.0\n",
      "Ice         57.5     60.0   55.0\n",
      "Normal      85.0     60.0   60.0\n",
      "Poison      75.0     90.0   65.0\n",
      "Psychic     45.0     43.0   72.0\n",
      "Rock        70.0    102.5   55.0\n",
      "Steel       85.0     85.0   50.0\n",
      "Water       70.0     80.0   50.0\n"
     ]
    }
   ],
   "source": [
    "grouped = pokedex.groupby('type_1')\n",
    "\n",
    "stats = grouped[['attack', 'defense', 'speed']].describe()\n",
    "\n",
    "median_stats = grouped[['attack', 'defense', 'speed']].median()\n",
    "\n",
    "print(\"Medianas por tipo:\")\n",
    "print(median_stats)"
   ]
  },
  {
   "cell_type": "code",
   "execution_count": 8,
   "id": "3a8f89bf",
   "metadata": {},
   "outputs": [
    {
     "name": "stdout",
     "output_type": "stream",
     "text": [
      "O tipo com a maior mediana geral é: Ground\n",
      "O tipo com a menor mediana geral é: Psychic\n"
     ]
    }
   ],
   "source": [
    "grouped = pokedex.groupby('type_1')\n",
    "\n",
    "median_stats = grouped[['attack', 'defense', 'speed']].median()\n",
    "\n",
    "median_stats['overall_median'] = median_stats.median(axis=1)\n",
    "\n",
    "max_overall_median_type = median_stats['overall_median'].idxmax()\n",
    "min_overall_median_type = median_stats['overall_median'].idxmin()\n",
    "\n",
    "print(f\"O tipo com a maior mediana geral é: {max_overall_median_type}\")\n",
    "print(f\"O tipo com a menor mediana geral é: {min_overall_median_type}\")"
   ]
  },
  {
   "cell_type": "markdown",
   "id": "88e4a1c2",
   "metadata": {},
   "source": [
    "# Seleção de pokemon para bolsa\n",
    "### Simule a situação na qual você receberá 3 Pokémon de 10 tipos diferentes, selecionados aleatoriamente. Desses 30 Pokémon, você deve automatizar a seleção de 6 Pokémon para a sua bolsa com base em um critério otimizado. Para isso, utilize uma métrica ponderada que leve em consideração os atributos attack, defense, speed e as colunas de against, aplicando pesos customizados para cada critério. Além disso, a equipe final deve conter tipos variados, sem repetição de tipos."
   ]
  },
  {
   "cell_type": "code",
   "execution_count": null,
   "id": "ee56c30a",
   "metadata": {},
   "outputs": [
    {
     "name": "stdout",
     "output_type": "stream",
     "text": [
      "Pokémon selecionados para a bolsa:\n",
      "    pokedex_number       name  generation  is_sub_legendary  is_legendary  \\\n",
      "19             464  Rhyperior           4                 0             0   \n",
      "15             141   Kabutops           1                 0             0   \n",
      "26             452    Drapion           4                 0             0   \n",
      "5              286    Breloom           3                 0             0   \n",
      "1              560    Scrafty           5                 0             0   \n",
      "2              687    Malamar           6                 0             0   \n",
      "\n",
      "    is_mythical              species  type_1    type_2  height_m  ...  \\\n",
      "19            0        Drill Pokémon  Ground      Rock       2.4  ...   \n",
      "15            0    Shellfish Pokémon    Rock     Water       1.3  ...   \n",
      "26            0   Ogre Scorp Pokémon  Poison      Dark       1.3  ...   \n",
      "5             0     Mushroom Pokémon   Grass  Fighting       1.2  ...   \n",
      "1             0      Hoodlum Pokémon    Dark  Fighting       1.1  ...   \n",
      "2             0  Overturning Pokémon    Dark   Psychic       1.5  ...   \n",
      "\n",
      "    against_flying against_psychic against_bug against_rock  against_ghost  \\\n",
      "19             0.5             1.0         1.0          0.5            1.0   \n",
      "15             0.5             1.0         1.0          1.0            1.0   \n",
      "26             1.0             0.0         1.0          1.0            0.5   \n",
      "5              4.0             2.0         1.0          0.5            1.0   \n",
      "1              2.0             0.0         1.0          0.5            0.5   \n",
      "2              1.0             0.0         4.0          1.0            1.0   \n",
      "\n",
      "    against_dragon  against_dark  against_steel  against_fairy  total_score  \n",
      "19             1.0          1.00            2.0            1.0        310.0  \n",
      "15             1.0          1.00            1.0            1.0        300.0  \n",
      "26             1.0          0.50            1.0            1.0        295.0  \n",
      "5              1.0          0.50            1.0            2.0        280.0  \n",
      "1              1.0          0.25            1.0            4.0        263.0  \n",
      "2              1.0          1.00            1.0            2.0        253.0  \n",
      "\n",
      "[6 rows x 45 columns]\n"
     ]
    }
   ],
   "source": [
    "def simulate_selection(pokedex, n_types=10, n_pokemon_per_type=3, n_selection=6):\n",
    "    selected_types = np.random.choice(pokedex['type_1'].unique(), n_types, replace=False)\n",
    "    \n",
    "    selected_pokemon = []\n",
    "    for poke_type in selected_types:\n",
    "        pokemon_of_type = pokedex[pokedex['type_1'] == poke_type]\n",
    "        selected_pokemon.extend(pokemon_of_type.sample(n_pokemon_per_type, replace=True).to_dict('records'))\n",
    "    \n",
    "    selected_pokemon_df = pd.DataFrame(selected_pokemon)\n",
    "    \n",
    "    selected_pokemon_df['total_score'] = selected_pokemon_df[['attack', 'defense', 'speed']].sum(axis=1)\n",
    "    \n",
    "    optimized_selection = selected_pokemon_df.nlargest(n_selection, 'total_score')\n",
    "    \n",
    "    return optimized_selection\n",
    "\n",
    "optimized_pokemon = simulate_selection(pokedex)\n",
    "\n",
    "print(\"Pokémon selecionados para a bolsa:\")\n",
    "print(optimized_pokemon)"
   ]
  },
  {
   "cell_type": "markdown",
   "id": "11653f6e",
   "metadata": {},
   "source": [
    "### Crie um gráfico de dispersão 3D para visualizar attack, defense e speed dos Pokémon selecionados."
   ]
  },
  {
   "cell_type": "code",
   "execution_count": null,
   "id": "e967244c",
   "metadata": {},
   "outputs": [
    {
     "data": {
      "application/vnd.plotly.v1+json": {
       "config": {
        "plotlyServerURL": "https://plot.ly"
       },
       "data": [
        {
         "hovertemplate": "Type=%{text}<br>Attack=%{x}<br>Defense=%{y}<br>Speed=%{z}<extra></extra>",
         "legendgroup": "Ground",
         "marker": {
          "color": "#636efa",
          "size": 8,
          "symbol": "circle"
         },
         "mode": "markers+text",
         "name": "Ground",
         "scene": "scene",
         "showlegend": true,
         "text": [
          "Ground"
         ],
         "type": "scatter3d",
         "x": [
          140
         ],
         "y": [
          130
         ],
         "z": [
          40
         ]
        },
        {
         "hovertemplate": "Type=%{text}<br>Attack=%{x}<br>Defense=%{y}<br>Speed=%{z}<extra></extra>",
         "legendgroup": "Rock",
         "marker": {
          "color": "#EF553B",
          "size": 8,
          "symbol": "circle"
         },
         "mode": "markers+text",
         "name": "Rock",
         "scene": "scene",
         "showlegend": true,
         "text": [
          "Rock"
         ],
         "type": "scatter3d",
         "x": [
          115
         ],
         "y": [
          105
         ],
         "z": [
          80
         ]
        },
        {
         "hovertemplate": "Type=%{text}<br>Attack=%{x}<br>Defense=%{y}<br>Speed=%{z}<extra></extra>",
         "legendgroup": "Poison",
         "marker": {
          "color": "#00cc96",
          "size": 8,
          "symbol": "circle"
         },
         "mode": "markers+text",
         "name": "Poison",
         "scene": "scene",
         "showlegend": true,
         "text": [
          "Poison"
         ],
         "type": "scatter3d",
         "x": [
          90
         ],
         "y": [
          110
         ],
         "z": [
          95
         ]
        },
        {
         "hovertemplate": "Type=%{text}<br>Attack=%{x}<br>Defense=%{y}<br>Speed=%{z}<extra></extra>",
         "legendgroup": "Grass",
         "marker": {
          "color": "#ab63fa",
          "size": 8,
          "symbol": "circle"
         },
         "mode": "markers+text",
         "name": "Grass",
         "scene": "scene",
         "showlegend": true,
         "text": [
          "Grass"
         ],
         "type": "scatter3d",
         "x": [
          130
         ],
         "y": [
          80
         ],
         "z": [
          70
         ]
        },
        {
         "hovertemplate": "Type=%{text}<br>Attack=%{x}<br>Defense=%{y}<br>Speed=%{z}<extra></extra>",
         "legendgroup": "Dark",
         "marker": {
          "color": "#FFA15A",
          "size": 8,
          "symbol": "circle"
         },
         "mode": "markers+text",
         "name": "Dark",
         "scene": "scene",
         "showlegend": true,
         "text": [
          "Dark",
          "Dark"
         ],
         "type": "scatter3d",
         "x": [
          90,
          92
         ],
         "y": [
          115,
          88
         ],
         "z": [
          58,
          73
         ]
        }
       ],
       "layout": {
        "legend": {
         "title": {
          "text": "Type"
         },
         "tracegroupgap": 0
        },
        "scene": {
         "domain": {
          "x": [
           0,
           1
          ],
          "y": [
           0,
           1
          ]
         },
         "xaxis": {
          "title": {
           "text": "Attack"
          }
         },
         "yaxis": {
          "title": {
           "text": "Defense"
          }
         },
         "zaxis": {
          "title": {
           "text": "Speed"
          }
         }
        },
        "template": {
         "data": {
          "bar": [
           {
            "error_x": {
             "color": "#2a3f5f"
            },
            "error_y": {
             "color": "#2a3f5f"
            },
            "marker": {
             "line": {
              "color": "#E5ECF6",
              "width": 0.5
             },
             "pattern": {
              "fillmode": "overlay",
              "size": 10,
              "solidity": 0.2
             }
            },
            "type": "bar"
           }
          ],
          "barpolar": [
           {
            "marker": {
             "line": {
              "color": "#E5ECF6",
              "width": 0.5
             },
             "pattern": {
              "fillmode": "overlay",
              "size": 10,
              "solidity": 0.2
             }
            },
            "type": "barpolar"
           }
          ],
          "carpet": [
           {
            "aaxis": {
             "endlinecolor": "#2a3f5f",
             "gridcolor": "white",
             "linecolor": "white",
             "minorgridcolor": "white",
             "startlinecolor": "#2a3f5f"
            },
            "baxis": {
             "endlinecolor": "#2a3f5f",
             "gridcolor": "white",
             "linecolor": "white",
             "minorgridcolor": "white",
             "startlinecolor": "#2a3f5f"
            },
            "type": "carpet"
           }
          ],
          "choropleth": [
           {
            "colorbar": {
             "outlinewidth": 0,
             "ticks": ""
            },
            "type": "choropleth"
           }
          ],
          "contour": [
           {
            "colorbar": {
             "outlinewidth": 0,
             "ticks": ""
            },
            "colorscale": [
             [
              0,
              "#0d0887"
             ],
             [
              0.1111111111111111,
              "#46039f"
             ],
             [
              0.2222222222222222,
              "#7201a8"
             ],
             [
              0.3333333333333333,
              "#9c179e"
             ],
             [
              0.4444444444444444,
              "#bd3786"
             ],
             [
              0.5555555555555556,
              "#d8576b"
             ],
             [
              0.6666666666666666,
              "#ed7953"
             ],
             [
              0.7777777777777778,
              "#fb9f3a"
             ],
             [
              0.8888888888888888,
              "#fdca26"
             ],
             [
              1,
              "#f0f921"
             ]
            ],
            "type": "contour"
           }
          ],
          "contourcarpet": [
           {
            "colorbar": {
             "outlinewidth": 0,
             "ticks": ""
            },
            "type": "contourcarpet"
           }
          ],
          "heatmap": [
           {
            "colorbar": {
             "outlinewidth": 0,
             "ticks": ""
            },
            "colorscale": [
             [
              0,
              "#0d0887"
             ],
             [
              0.1111111111111111,
              "#46039f"
             ],
             [
              0.2222222222222222,
              "#7201a8"
             ],
             [
              0.3333333333333333,
              "#9c179e"
             ],
             [
              0.4444444444444444,
              "#bd3786"
             ],
             [
              0.5555555555555556,
              "#d8576b"
             ],
             [
              0.6666666666666666,
              "#ed7953"
             ],
             [
              0.7777777777777778,
              "#fb9f3a"
             ],
             [
              0.8888888888888888,
              "#fdca26"
             ],
             [
              1,
              "#f0f921"
             ]
            ],
            "type": "heatmap"
           }
          ],
          "heatmapgl": [
           {
            "colorbar": {
             "outlinewidth": 0,
             "ticks": ""
            },
            "colorscale": [
             [
              0,
              "#0d0887"
             ],
             [
              0.1111111111111111,
              "#46039f"
             ],
             [
              0.2222222222222222,
              "#7201a8"
             ],
             [
              0.3333333333333333,
              "#9c179e"
             ],
             [
              0.4444444444444444,
              "#bd3786"
             ],
             [
              0.5555555555555556,
              "#d8576b"
             ],
             [
              0.6666666666666666,
              "#ed7953"
             ],
             [
              0.7777777777777778,
              "#fb9f3a"
             ],
             [
              0.8888888888888888,
              "#fdca26"
             ],
             [
              1,
              "#f0f921"
             ]
            ],
            "type": "heatmapgl"
           }
          ],
          "histogram": [
           {
            "marker": {
             "pattern": {
              "fillmode": "overlay",
              "size": 10,
              "solidity": 0.2
             }
            },
            "type": "histogram"
           }
          ],
          "histogram2d": [
           {
            "colorbar": {
             "outlinewidth": 0,
             "ticks": ""
            },
            "colorscale": [
             [
              0,
              "#0d0887"
             ],
             [
              0.1111111111111111,
              "#46039f"
             ],
             [
              0.2222222222222222,
              "#7201a8"
             ],
             [
              0.3333333333333333,
              "#9c179e"
             ],
             [
              0.4444444444444444,
              "#bd3786"
             ],
             [
              0.5555555555555556,
              "#d8576b"
             ],
             [
              0.6666666666666666,
              "#ed7953"
             ],
             [
              0.7777777777777778,
              "#fb9f3a"
             ],
             [
              0.8888888888888888,
              "#fdca26"
             ],
             [
              1,
              "#f0f921"
             ]
            ],
            "type": "histogram2d"
           }
          ],
          "histogram2dcontour": [
           {
            "colorbar": {
             "outlinewidth": 0,
             "ticks": ""
            },
            "colorscale": [
             [
              0,
              "#0d0887"
             ],
             [
              0.1111111111111111,
              "#46039f"
             ],
             [
              0.2222222222222222,
              "#7201a8"
             ],
             [
              0.3333333333333333,
              "#9c179e"
             ],
             [
              0.4444444444444444,
              "#bd3786"
             ],
             [
              0.5555555555555556,
              "#d8576b"
             ],
             [
              0.6666666666666666,
              "#ed7953"
             ],
             [
              0.7777777777777778,
              "#fb9f3a"
             ],
             [
              0.8888888888888888,
              "#fdca26"
             ],
             [
              1,
              "#f0f921"
             ]
            ],
            "type": "histogram2dcontour"
           }
          ],
          "mesh3d": [
           {
            "colorbar": {
             "outlinewidth": 0,
             "ticks": ""
            },
            "type": "mesh3d"
           }
          ],
          "parcoords": [
           {
            "line": {
             "colorbar": {
              "outlinewidth": 0,
              "ticks": ""
             }
            },
            "type": "parcoords"
           }
          ],
          "pie": [
           {
            "automargin": true,
            "type": "pie"
           }
          ],
          "scatter": [
           {
            "fillpattern": {
             "fillmode": "overlay",
             "size": 10,
             "solidity": 0.2
            },
            "type": "scatter"
           }
          ],
          "scatter3d": [
           {
            "line": {
             "colorbar": {
              "outlinewidth": 0,
              "ticks": ""
             }
            },
            "marker": {
             "colorbar": {
              "outlinewidth": 0,
              "ticks": ""
             }
            },
            "type": "scatter3d"
           }
          ],
          "scattercarpet": [
           {
            "marker": {
             "colorbar": {
              "outlinewidth": 0,
              "ticks": ""
             }
            },
            "type": "scattercarpet"
           }
          ],
          "scattergeo": [
           {
            "marker": {
             "colorbar": {
              "outlinewidth": 0,
              "ticks": ""
             }
            },
            "type": "scattergeo"
           }
          ],
          "scattergl": [
           {
            "marker": {
             "colorbar": {
              "outlinewidth": 0,
              "ticks": ""
             }
            },
            "type": "scattergl"
           }
          ],
          "scattermapbox": [
           {
            "marker": {
             "colorbar": {
              "outlinewidth": 0,
              "ticks": ""
             }
            },
            "type": "scattermapbox"
           }
          ],
          "scatterpolar": [
           {
            "marker": {
             "colorbar": {
              "outlinewidth": 0,
              "ticks": ""
             }
            },
            "type": "scatterpolar"
           }
          ],
          "scatterpolargl": [
           {
            "marker": {
             "colorbar": {
              "outlinewidth": 0,
              "ticks": ""
             }
            },
            "type": "scatterpolargl"
           }
          ],
          "scatterternary": [
           {
            "marker": {
             "colorbar": {
              "outlinewidth": 0,
              "ticks": ""
             }
            },
            "type": "scatterternary"
           }
          ],
          "surface": [
           {
            "colorbar": {
             "outlinewidth": 0,
             "ticks": ""
            },
            "colorscale": [
             [
              0,
              "#0d0887"
             ],
             [
              0.1111111111111111,
              "#46039f"
             ],
             [
              0.2222222222222222,
              "#7201a8"
             ],
             [
              0.3333333333333333,
              "#9c179e"
             ],
             [
              0.4444444444444444,
              "#bd3786"
             ],
             [
              0.5555555555555556,
              "#d8576b"
             ],
             [
              0.6666666666666666,
              "#ed7953"
             ],
             [
              0.7777777777777778,
              "#fb9f3a"
             ],
             [
              0.8888888888888888,
              "#fdca26"
             ],
             [
              1,
              "#f0f921"
             ]
            ],
            "type": "surface"
           }
          ],
          "table": [
           {
            "cells": {
             "fill": {
              "color": "#EBF0F8"
             },
             "line": {
              "color": "white"
             }
            },
            "header": {
             "fill": {
              "color": "#C8D4E3"
             },
             "line": {
              "color": "white"
             }
            },
            "type": "table"
           }
          ]
         },
         "layout": {
          "annotationdefaults": {
           "arrowcolor": "#2a3f5f",
           "arrowhead": 0,
           "arrowwidth": 1
          },
          "autotypenumbers": "strict",
          "coloraxis": {
           "colorbar": {
            "outlinewidth": 0,
            "ticks": ""
           }
          },
          "colorscale": {
           "diverging": [
            [
             0,
             "#8e0152"
            ],
            [
             0.1,
             "#c51b7d"
            ],
            [
             0.2,
             "#de77ae"
            ],
            [
             0.3,
             "#f1b6da"
            ],
            [
             0.4,
             "#fde0ef"
            ],
            [
             0.5,
             "#f7f7f7"
            ],
            [
             0.6,
             "#e6f5d0"
            ],
            [
             0.7,
             "#b8e186"
            ],
            [
             0.8,
             "#7fbc41"
            ],
            [
             0.9,
             "#4d9221"
            ],
            [
             1,
             "#276419"
            ]
           ],
           "sequential": [
            [
             0,
             "#0d0887"
            ],
            [
             0.1111111111111111,
             "#46039f"
            ],
            [
             0.2222222222222222,
             "#7201a8"
            ],
            [
             0.3333333333333333,
             "#9c179e"
            ],
            [
             0.4444444444444444,
             "#bd3786"
            ],
            [
             0.5555555555555556,
             "#d8576b"
            ],
            [
             0.6666666666666666,
             "#ed7953"
            ],
            [
             0.7777777777777778,
             "#fb9f3a"
            ],
            [
             0.8888888888888888,
             "#fdca26"
            ],
            [
             1,
             "#f0f921"
            ]
           ],
           "sequentialminus": [
            [
             0,
             "#0d0887"
            ],
            [
             0.1111111111111111,
             "#46039f"
            ],
            [
             0.2222222222222222,
             "#7201a8"
            ],
            [
             0.3333333333333333,
             "#9c179e"
            ],
            [
             0.4444444444444444,
             "#bd3786"
            ],
            [
             0.5555555555555556,
             "#d8576b"
            ],
            [
             0.6666666666666666,
             "#ed7953"
            ],
            [
             0.7777777777777778,
             "#fb9f3a"
            ],
            [
             0.8888888888888888,
             "#fdca26"
            ],
            [
             1,
             "#f0f921"
            ]
           ]
          },
          "colorway": [
           "#636efa",
           "#EF553B",
           "#00cc96",
           "#ab63fa",
           "#FFA15A",
           "#19d3f3",
           "#FF6692",
           "#B6E880",
           "#FF97FF",
           "#FECB52"
          ],
          "font": {
           "color": "#2a3f5f"
          },
          "geo": {
           "bgcolor": "white",
           "lakecolor": "white",
           "landcolor": "#E5ECF6",
           "showlakes": true,
           "showland": true,
           "subunitcolor": "white"
          },
          "hoverlabel": {
           "align": "left"
          },
          "hovermode": "closest",
          "mapbox": {
           "style": "light"
          },
          "paper_bgcolor": "white",
          "plot_bgcolor": "#E5ECF6",
          "polar": {
           "angularaxis": {
            "gridcolor": "white",
            "linecolor": "white",
            "ticks": ""
           },
           "bgcolor": "#E5ECF6",
           "radialaxis": {
            "gridcolor": "white",
            "linecolor": "white",
            "ticks": ""
           }
          },
          "scene": {
           "xaxis": {
            "backgroundcolor": "#E5ECF6",
            "gridcolor": "white",
            "gridwidth": 2,
            "linecolor": "white",
            "showbackground": true,
            "ticks": "",
            "zerolinecolor": "white"
           },
           "yaxis": {
            "backgroundcolor": "#E5ECF6",
            "gridcolor": "white",
            "gridwidth": 2,
            "linecolor": "white",
            "showbackground": true,
            "ticks": "",
            "zerolinecolor": "white"
           },
           "zaxis": {
            "backgroundcolor": "#E5ECF6",
            "gridcolor": "white",
            "gridwidth": 2,
            "linecolor": "white",
            "showbackground": true,
            "ticks": "",
            "zerolinecolor": "white"
           }
          },
          "shapedefaults": {
           "line": {
            "color": "#2a3f5f"
           }
          },
          "ternary": {
           "aaxis": {
            "gridcolor": "white",
            "linecolor": "white",
            "ticks": ""
           },
           "baxis": {
            "gridcolor": "white",
            "linecolor": "white",
            "ticks": ""
           },
           "bgcolor": "#E5ECF6",
           "caxis": {
            "gridcolor": "white",
            "linecolor": "white",
            "ticks": ""
           }
          },
          "title": {
           "x": 0.05
          },
          "xaxis": {
           "automargin": true,
           "gridcolor": "white",
           "linecolor": "white",
           "ticks": "",
           "title": {
            "standoff": 15
           },
           "zerolinecolor": "white",
           "zerolinewidth": 2
          },
          "yaxis": {
           "automargin": true,
           "gridcolor": "white",
           "linecolor": "white",
           "ticks": "",
           "title": {
            "standoff": 15
           },
           "zerolinecolor": "white",
           "zerolinewidth": 2
          }
         }
        },
        "title": {
         "text": "Dispersão 3D dos Pokémon Selecionados"
        }
       }
      }
     },
     "metadata": {},
     "output_type": "display_data"
    }
   ],
   "source": [
    "fig = px.scatter_3d(optimized_pokemon, \n",
    "                    x='attack', \n",
    "                    y='defense', \n",
    "                    z='speed', \n",
    "                    color='type_1', \n",
    "                    text='type_1', \n",
    "                    title='Dispersão 3D dos Pokémon Selecionados',\n",
    "                    labels={\n",
    "                        'attack': 'Attack',\n",
    "                        'defense': 'Defense',\n",
    "                        'speed': 'Speed',\n",
    "                        'type_1': 'Type'\n",
    "                    })\n",
    "\n",
    "fig.update_traces(marker=dict(size=8),\n",
    "                  selector=dict(mode='markers+text'))\n",
    "\n",
    "fig.update_layout(scene=dict(\n",
    "                    xaxis_title='Attack',\n",
    "                    yaxis_title='Defense',\n",
    "                    zaxis_title='Speed'))\n",
    "\n",
    "fig.show()"
   ]
  },
  {
   "cell_type": "markdown",
   "id": "1bd58f1e",
   "metadata": {},
   "source": [
    "# Justificar seleção dos 6 Pokémon, explicando como os critérios otimizados ajudaram a montar uma equipe equilibrada.\n",
    "\n",
    "### Justifique a seleção dos 6 Pokémon, explicando como os critérios otimizados ajudaram a montar uma equipe equilibrada. Discuta os trade-offs entre atributos ofensivos e defensivos, além das resistências e fraquezas de cada Pokémon contra outros tipos. A sua equipe final é equilibrada ou focada em certos atributos? Explique como sua análise influenciou essa decisão estratégica."
   ]
  },
  {
   "cell_type": "code",
   "execution_count": null,
   "id": "4d839aea",
   "metadata": {},
   "outputs": [],
   "source": []
  },
  {
   "cell_type": "markdown",
   "id": "68c6b738",
   "metadata": {},
   "source": [
    "# Analise de forças e fraquezas\n",
    "### Depois de selecionar os 6 Pokémon, analise detalhadamente suas forças e fraquezas. Utilize as colunas de ‘against’ para calcular um índice de força total para cada Pokémon contra todos os outros tipos e produza um gráfico radar (spider plot) para cada um dos 6 Pokémon. Além disso, crie uma matriz de calor (heatmap) que mostre as fraquezas mais críticas da sua equipe.Analise as vulnerabilidades e vantagens da sua equipe em potencial. Explique se a equipe é bem balanceada contra adversários ou se possui fraquezas notáveis. Como isso afeta suas chances em uma batalha hipotética?"
   ]
  },
  {
   "cell_type": "code",
   "execution_count": null,
   "id": "a8b8ba2f",
   "metadata": {},
   "outputs": [],
   "source": []
  }
 ],
 "metadata": {
  "kernelspec": {
   "display_name": "Python 3",
   "language": "python",
   "name": "python3"
  },
  "language_info": {
   "codemirror_mode": {
    "name": "ipython",
    "version": 3
   },
   "file_extension": ".py",
   "mimetype": "text/x-python",
   "name": "python",
   "nbconvert_exporter": "python",
   "pygments_lexer": "ipython3",
   "version": "3.12.1"
  }
 },
 "nbformat": 4,
 "nbformat_minor": 5
}
