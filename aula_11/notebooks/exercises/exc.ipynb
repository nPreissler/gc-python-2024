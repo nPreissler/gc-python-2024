{
 "cells": [
  {
   "cell_type": "code",
   "execution_count": 1,
   "id": "329bc32c-933d-4023-aa2c-09eba01bf151",
   "metadata": {},
   "outputs": [],
   "source": [
    "import pandas as pd\n",
    "import numpy as np\n"
   ]
  },
  {
   "cell_type": "markdown",
   "id": "81b952fa-b3a2-4a3b-8348-62a8df37306c",
   "metadata": {},
   "source": [
    "# Discretizar atributo numérico que possui os valores abaixo em 3 intervalos\n",
    "\n",
    "### [0, 1, 2, 6, 6, 9, 10, 10, 10, 13, 16, 17, 18, 20, 20, 21, 21, 25]\n",
    "\n",
    "#### Usar\n",
    "#### Larguras iguais\n",
    "#### Frequências iguais\n",
    "#### Inspeção visual"
   ]
  },
  {
   "cell_type": "code",
   "execution_count": 8,
   "id": "0f31d317-d463-4c86-aae1-6fe28956610a",
   "metadata": {},
   "outputs": [],
   "source": [
    "data = np.array([0, 1, 2, 6, 6, 9, 10, 10, 10, 13, 16, 17, 18, 20, 20, 21, 21, 25])"
   ]
  },
  {
   "cell_type": "code",
   "execution_count": 3,
   "id": "f832ed47-2fac-4045-89fb-71fee666dcfd",
   "metadata": {},
   "outputs": [],
   "source": [
    "from sklearn.preprocessing import KBinsDiscretizer"
   ]
  },
  {
   "cell_type": "code",
   "execution_count": 9,
   "id": "4e891e75-64b7-44bb-ac23-b0218ffd2a06",
   "metadata": {},
   "outputs": [
    {
     "name": "stdout",
     "output_type": "stream",
     "text": [
      "[[0.]\n",
      " [0.]\n",
      " [0.]\n",
      " [0.]\n",
      " [0.]\n",
      " [1.]\n",
      " [1.]\n",
      " [1.]\n",
      " [1.]\n",
      " [1.]\n",
      " [1.]\n",
      " [2.]\n",
      " [2.]\n",
      " [2.]\n",
      " [2.]\n",
      " [2.]\n",
      " [2.]\n",
      " [2.]]\n"
     ]
    }
   ],
   "source": [
    "discretizer = KBinsDiscretizer(n_bins=3, encode='ordinal', strategy='uniform')\n",
    "binned_data = discretizer.fit_transform(data.reshape(-1, 1))\n",
    "print(binned_data)"
   ]
  },
  {
   "cell_type": "code",
   "execution_count": null,
   "id": "6e59c24e-0dbc-469d-b6a2-a596da4c3f20",
   "metadata": {},
   "outputs": [],
   "source": []
  }
 ],
 "metadata": {
  "kernelspec": {
   "display_name": "Python 3 (ipykernel)",
   "language": "python",
   "name": "python3"
  },
  "language_info": {
   "codemirror_mode": {
    "name": "ipython",
    "version": 3
   },
   "file_extension": ".py",
   "mimetype": "text/x-python",
   "name": "python",
   "nbconvert_exporter": "python",
   "pygments_lexer": "ipython3",
   "version": "3.12.4"
  }
 },
 "nbformat": 4,
 "nbformat_minor": 5
}
