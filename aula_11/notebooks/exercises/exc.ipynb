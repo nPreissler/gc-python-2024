{
 "cells": [
  {
   "cell_type": "code",
   "execution_count": 1,
   "id": "329bc32c-933d-4023-aa2c-09eba01bf151",
   "metadata": {},
   "outputs": [],
   "source": [
    "import pandas as pd\n",
    "import numpy as np\n"
   ]
  },
  {
   "cell_type": "markdown",
   "id": "81b952fa-b3a2-4a3b-8348-62a8df37306c",
   "metadata": {},
   "source": [
    "# Discretizar atributo numérico que possui os valores abaixo em 3 intervalos\n",
    "\n",
    "### [0, 1, 2, 6, 6, 9, 10, 10, 10, 13, 16, 17, 18, 20, 20, 21, 21, 25]\n",
    "\n",
    "#### Usar\n",
    "#### Larguras iguais\n",
    "#### Frequências iguais\n",
    "#### Inspeção visual"
   ]
  },
  {
   "cell_type": "code",
   "execution_count": 2,
   "id": "0f31d317-d463-4c86-aae1-6fe28956610a",
   "metadata": {},
   "outputs": [],
   "source": [
    "data = [0, 1, 2, 6, 6, 9, 10, 10, 10, 13, 16, 17, 18, 20, 20, 21, 21, 25]"
   ]
  },
  {
   "cell_type": "code",
   "execution_count": 3,
   "id": "f832ed47-2fac-4045-89fb-71fee666dcfd",
   "metadata": {},
   "outputs": [],
   "source": [
    "import sklearn as skt"
   ]
  },
  {
   "cell_type": "code",
   "execution_count": null,
   "id": "4e891e75-64b7-44bb-ac23-b0218ffd2a06",
   "metadata": {},
   "outputs": [],
   "source": []
  }
 ],
 "metadata": {
  "kernelspec": {
   "display_name": "Python 3 (ipykernel)",
   "language": "python",
   "name": "python3"
  },
  "language_info": {
   "codemirror_mode": {
    "name": "ipython",
    "version": 3
   },
   "file_extension": ".py",
   "mimetype": "text/x-python",
   "name": "python",
   "nbconvert_exporter": "python",
   "pygments_lexer": "ipython3",
   "version": "3.12.4"
  }
 },
 "nbformat": 4,
 "nbformat_minor": 5
}
