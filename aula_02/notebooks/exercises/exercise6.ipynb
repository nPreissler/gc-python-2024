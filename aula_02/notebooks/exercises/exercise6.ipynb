{
 "cells": [
  {
   "cell_type": "markdown",
   "id": "53ca1bb6-d32d-4455-9420-46754b1c701a",
   "metadata": {},
   "source": [
    " Crie um programa em Python que peça ao usuário para inserir o nome de três amigos. O programa deve armazenar esses nomes em uma lista e, em seguida, exibir uma mensagem personalizada para cada amigo, indicando que ele é seu amigo. ​​\n",
    "\n",
    "O programa deve solicitar o nome de três amigos, um por vez. ​​\n",
    "\n",
    "Após coletar os nomes, o programa deve exibir uma mensagem para cada nome na lista, como \"Nome_do_Amigo é meu amigo\".\n"
   ]
  },
  {
   "cell_type": "code",
   "execution_count": 3,
   "id": "039fdef3-51b2-472a-9ab8-e79bf3816a1b",
   "metadata": {},
   "outputs": [
    {
     "name": "stdin",
     "output_type": "stream",
     "text": [
      "Insira o nome de um amigo -->  Jeison\n"
     ]
    },
    {
     "name": "stdout",
     "output_type": "stream",
     "text": [
      "Jeison é meu professor\n"
     ]
    },
    {
     "name": "stdin",
     "output_type": "stream",
     "text": [
      "Insira o nome de um amigo -->  Diego\n"
     ]
    },
    {
     "name": "stdout",
     "output_type": "stream",
     "text": [
      "Diego é meu professor\n"
     ]
    },
    {
     "name": "stdin",
     "output_type": "stream",
     "text": [
      "Insira o nome de um amigo -->  Giancarlo, Isaac e Jean\n"
     ]
    },
    {
     "name": "stdout",
     "output_type": "stream",
     "text": [
      "Giancarlo, Isaac e Jean é meu professor\n",
      "['Jeison', 'Diego', 'Giancarlo, Isaac e Jean']\n"
     ]
    }
   ],
   "source": [
    "friends = []\n",
    "\n",
    "while len(friends) < 3:\n",
    "    f_name = str(input('Insira o nome de um amigo --> '))\n",
    "    print(f'{f_name} é meu professor')\n",
    "    friends.append(f_name)\n",
    "\n",
    "print(friends)"
   ]
  }
 ],
 "metadata": {
  "kernelspec": {
   "display_name": "Python 3 (ipykernel)",
   "language": "python",
   "name": "python3"
  },
  "language_info": {
   "codemirror_mode": {
    "name": "ipython",
    "version": 3
   },
   "file_extension": ".py",
   "mimetype": "text/x-python",
   "name": "python",
   "nbconvert_exporter": "python",
   "pygments_lexer": "ipython3",
   "version": "3.12.1"
  }
 },
 "nbformat": 4,
 "nbformat_minor": 5
}
