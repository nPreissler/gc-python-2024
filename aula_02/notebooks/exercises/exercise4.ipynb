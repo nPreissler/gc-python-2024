{
 "cells": [
  {
   "cell_type": "markdown",
   "id": "b05e0113-abe6-4c47-9eb9-4973ce19dd9c",
   "metadata": {},
   "source": [
    "Crie um programa em Python que solicite ao usuário que insira a sua idade. Com base na idade fornecida, o programa deve verificar se o usuário é menor de idade, maior de idade ou se está completando 18 anos.\n"
   ]
  },
  {
   "cell_type": "code",
   "execution_count": 2,
   "id": "e5c7ca26-fd41-41fa-b42e-15fef2e30bdf",
   "metadata": {},
   "outputs": [
    {
     "name": "stdin",
     "output_type": "stream",
     "text": [
      "Qual sua idade? --> 16\n"
     ]
    },
    {
     "name": "stdout",
     "output_type": "stream",
     "text": [
      "Menor de idade!\n"
     ]
    }
   ],
   "source": [
    "def check_age():\n",
    "    age = int(input('Qual sua idade? -->'))\n",
    "    if age < 18:\n",
    "        print('Menor de idade!')\n",
    "    elif age == 18:\n",
    "        print('Feliz aniversário!')\n",
    "    else: \n",
    "        print('Maior de idade!')\n",
    "        \n",
    "check_age()"
   ]
  }
 ],
 "metadata": {
  "kernelspec": {
   "display_name": "Python 3 (ipykernel)",
   "language": "python",
   "name": "python3"
  },
  "language_info": {
   "codemirror_mode": {
    "name": "ipython",
    "version": 3
   },
   "file_extension": ".py",
   "mimetype": "text/x-python",
   "name": "python",
   "nbconvert_exporter": "python",
   "pygments_lexer": "ipython3",
   "version": "3.12.1"
  }
 },
 "nbformat": 4,
 "nbformat_minor": 5
}
