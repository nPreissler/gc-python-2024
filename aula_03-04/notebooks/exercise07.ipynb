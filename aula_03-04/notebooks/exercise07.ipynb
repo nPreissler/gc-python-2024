{
 "cells": [
  {
   "cell_type": "markdown",
   "id": "42ed6bb5-fb86-444c-9c53-942d48515798",
   "metadata": {},
   "source": [
    "# print('exercício_07 - Aula03/04') "
   ]
  },
  {
   "cell_type": "markdown",
   "id": "20240b1c-8cc9-4b7d-9cfd-1b45ff281dbb",
   "metadata": {},
   "source": [
    "✦ Exercício 05 -Crie uma lista com 5 nomes de filmes que você goste.\\\n",
    "✦ Crie uma 2a lista com o ano de lançamento desses 5 filmes (pode pesquisar, eu deixo). Tranforme isso em um dataframe;\\\n",
    "✦ Adicione uma nova coluna com a nota, de 1 a 10, de quanto você gosta deles;"
   ]
  },
  {
   "cell_type": "code",
   "execution_count": 5,
   "id": "a08af9fb-5901-4d53-818e-e7eea3e141e5",
   "metadata": {},
   "outputs": [],
   "source": [
    "import pandas as pd"
   ]
  },
  {
   "cell_type": "code",
   "execution_count": 20,
   "id": "3e9f3087-d33e-448a-b161-ea1b425f931a",
   "metadata": {},
   "outputs": [],
   "source": [
    "movies = {\n",
    "    'names': ['O Homem Bicenternáiro', 'O Advogado do Diabo', 'Star Wars EP I', 'Hereditário', '60 Segundos'],\n",
    "    'year': [ 2000, 1997, 1999, 2018, 2000 ]\n",
    "}"
   ]
  },
  {
   "cell_type": "code",
   "execution_count": 21,
   "id": "81e1d293-952f-4334-8ce8-acfaebaad967",
   "metadata": {},
   "outputs": [],
   "source": [
    "movies['rate'] = [10, 10, 10, 10, 10]"
   ]
  },
  {
   "cell_type": "code",
   "execution_count": 22,
   "id": "36ce868f-22ed-47fc-b591-33340f7a7c9c",
   "metadata": {},
   "outputs": [
    {
     "name": "stdout",
     "output_type": "stream",
     "text": [
      "                   names  year  rate\n",
      "0  O Homem Bicenternáiro  2000    10\n",
      "1    O Advogado do Diabo  1997    10\n",
      "2         Star Wars EP I  1999    10\n",
      "3            Hereditário  2018    10\n",
      "4            60 Segundos  2000    10\n"
     ]
    }
   ],
   "source": [
    "movies_df = pd.DataFrame(movies)\n",
    "print(movies_df)"
   ]
  },
  {
   "cell_type": "code",
   "execution_count": 23,
   "id": "239017d5-f0f3-4424-8cbf-644890beb8b4",
   "metadata": {},
   "outputs": [],
   "source": [
    "series = {\n",
    "    'name': ['O Paciente', 'The Mandalorian', 'Boba Fett'],\n",
    "    'rate': [9, 10, 11]\n",
    "}"
   ]
  },
  {
   "cell_type": "markdown",
   "id": "f329764c-e0b9-41b5-acf3-c8a867320fd4",
   "metadata": {},
   "source": [
    "✦ Crie mais 2 dataframes, de séries e anime/desenhos que você gosta, com as mesmas colunas acima.\\\n",
    "✦ Salve os 3 dataframes em 'csv', 'json' e 'html' e nos envie os arquivos.\\\n",
    "✦ Concatene horizontalmente os 3 dataframes, ficando 9 colunas no final.\n"
   ]
  },
  {
   "cell_type": "code",
   "execution_count": 24,
   "id": "169895ee-359d-4d17-ab16-cb3380e64455",
   "metadata": {},
   "outputs": [
    {
     "name": "stdout",
     "output_type": "stream",
     "text": [
      "              name  rate\n",
      "0       O Paciente     9\n",
      "1  The Mandalorian    10\n",
      "2        Boba Fett    11\n"
     ]
    }
   ],
   "source": [
    "series_df = pd.DataFrame(series)\n",
    "print(series_df)"
   ]
  },
  {
   "cell_type": "code",
   "execution_count": 25,
   "id": "deef9fea-02e9-4f86-8e70-a0bbb7a08e53",
   "metadata": {},
   "outputs": [],
   "source": [
    "others = {\n",
    "    'books': ['A Última Grande Lição', 'Dagon', 'A Arte da Guerra'],\n",
    "    'rate': [10, 8, 10]\n",
    "}"
   ]
  },
  {
   "cell_type": "code",
   "execution_count": 26,
   "id": "b5381692-c1ac-4df7-b7c3-d5c9e055b744",
   "metadata": {},
   "outputs": [
    {
     "name": "stdout",
     "output_type": "stream",
     "text": [
      "                   books  rate\n",
      "0  A Última Grande Lição    10\n",
      "1                  Dagon     8\n",
      "2       A Arte da Guerra    10\n"
     ]
    }
   ],
   "source": [
    "others_df = pd.DataFrame(others)\n",
    "print(others_df)"
   ]
  },
  {
   "cell_type": "code",
   "execution_count": 27,
   "id": "b0144b4a-09e4-495d-b5c6-bc78183ec468",
   "metadata": {},
   "outputs": [],
   "source": [
    "movies_df.to_json('movies.json')\n",
    "movies_df.to_csv('movies.csv')\n",
    "movies_df.to_html('movies.html')"
   ]
  },
  {
   "cell_type": "code",
   "execution_count": 28,
   "id": "aa6a6e0f-d4a8-49bb-ab93-63c0e0a469a9",
   "metadata": {},
   "outputs": [],
   "source": [
    "series_df.to_json('series.json')\n",
    "series_df.to_csv('series.csv')\n",
    "series_df.to_html('series.html')"
   ]
  },
  {
   "cell_type": "code",
   "execution_count": 29,
   "id": "6e620733-a17a-4c3d-b84a-86240c3534c4",
   "metadata": {},
   "outputs": [],
   "source": [
    "others_df.to_json('others.json')\n",
    "others_df.to_csv('others.csv')\n",
    "others_df.to_html('others.html')"
   ]
  },
  {
   "cell_type": "code",
   "execution_count": 30,
   "id": "7b35cba2-182c-4df2-84ac-82b578b3c592",
   "metadata": {},
   "outputs": [],
   "source": [
    "readingvar = pd.read_json('movies.json')"
   ]
  },
  {
   "cell_type": "code",
   "execution_count": 31,
   "id": "23bbf895-dc6e-4861-851e-147f3a52edd7",
   "metadata": {},
   "outputs": [
    {
     "data": {
      "text/html": [
       "<div>\n",
       "<style scoped>\n",
       "    .dataframe tbody tr th:only-of-type {\n",
       "        vertical-align: middle;\n",
       "    }\n",
       "\n",
       "    .dataframe tbody tr th {\n",
       "        vertical-align: top;\n",
       "    }\n",
       "\n",
       "    .dataframe thead th {\n",
       "        text-align: right;\n",
       "    }\n",
       "</style>\n",
       "<table border=\"1\" class=\"dataframe\">\n",
       "  <thead>\n",
       "    <tr style=\"text-align: right;\">\n",
       "      <th></th>\n",
       "      <th>names</th>\n",
       "      <th>year</th>\n",
       "      <th>rate</th>\n",
       "    </tr>\n",
       "  </thead>\n",
       "  <tbody>\n",
       "    <tr>\n",
       "      <th>0</th>\n",
       "      <td>O Homem Bicenternáiro</td>\n",
       "      <td>2000</td>\n",
       "      <td>10</td>\n",
       "    </tr>\n",
       "    <tr>\n",
       "      <th>1</th>\n",
       "      <td>O Advogado do Diabo</td>\n",
       "      <td>1997</td>\n",
       "      <td>10</td>\n",
       "    </tr>\n",
       "    <tr>\n",
       "      <th>2</th>\n",
       "      <td>Star Wars EP I</td>\n",
       "      <td>1999</td>\n",
       "      <td>10</td>\n",
       "    </tr>\n",
       "    <tr>\n",
       "      <th>3</th>\n",
       "      <td>Hereditário</td>\n",
       "      <td>2018</td>\n",
       "      <td>10</td>\n",
       "    </tr>\n",
       "    <tr>\n",
       "      <th>4</th>\n",
       "      <td>60 Segundos</td>\n",
       "      <td>2000</td>\n",
       "      <td>10</td>\n",
       "    </tr>\n",
       "  </tbody>\n",
       "</table>\n",
       "</div>"
      ],
      "text/plain": [
       "                   names  year  rate\n",
       "0  O Homem Bicenternáiro  2000    10\n",
       "1    O Advogado do Diabo  1997    10\n",
       "2         Star Wars EP I  1999    10\n",
       "3            Hereditário  2018    10\n",
       "4            60 Segundos  2000    10"
      ]
     },
     "execution_count": 31,
     "metadata": {},
     "output_type": "execute_result"
    }
   ],
   "source": [
    "readingvar"
   ]
  },
  {
   "cell_type": "code",
   "execution_count": 32,
   "id": "852604ef-c531-4b12-8baf-3517acd52f00",
   "metadata": {},
   "outputs": [
    {
     "data": {
      "text/html": [
       "<div>\n",
       "<style scoped>\n",
       "    .dataframe tbody tr th:only-of-type {\n",
       "        vertical-align: middle;\n",
       "    }\n",
       "\n",
       "    .dataframe tbody tr th {\n",
       "        vertical-align: top;\n",
       "    }\n",
       "\n",
       "    .dataframe thead th {\n",
       "        text-align: right;\n",
       "    }\n",
       "</style>\n",
       "<table border=\"1\" class=\"dataframe\">\n",
       "  <thead>\n",
       "    <tr style=\"text-align: right;\">\n",
       "      <th></th>\n",
       "      <th>names</th>\n",
       "      <th>year</th>\n",
       "      <th>rate</th>\n",
       "      <th>name</th>\n",
       "      <th>rate</th>\n",
       "      <th>books</th>\n",
       "      <th>rate</th>\n",
       "    </tr>\n",
       "  </thead>\n",
       "  <tbody>\n",
       "    <tr>\n",
       "      <th>0</th>\n",
       "      <td>O Homem Bicenternáiro</td>\n",
       "      <td>2000</td>\n",
       "      <td>10</td>\n",
       "      <td>O Paciente</td>\n",
       "      <td>9.0</td>\n",
       "      <td>A Última Grande Lição</td>\n",
       "      <td>10.0</td>\n",
       "    </tr>\n",
       "    <tr>\n",
       "      <th>1</th>\n",
       "      <td>O Advogado do Diabo</td>\n",
       "      <td>1997</td>\n",
       "      <td>10</td>\n",
       "      <td>The Mandalorian</td>\n",
       "      <td>10.0</td>\n",
       "      <td>Dagon</td>\n",
       "      <td>8.0</td>\n",
       "    </tr>\n",
       "    <tr>\n",
       "      <th>2</th>\n",
       "      <td>Star Wars EP I</td>\n",
       "      <td>1999</td>\n",
       "      <td>10</td>\n",
       "      <td>Boba Fett</td>\n",
       "      <td>11.0</td>\n",
       "      <td>A Arte da Guerra</td>\n",
       "      <td>10.0</td>\n",
       "    </tr>\n",
       "    <tr>\n",
       "      <th>3</th>\n",
       "      <td>Hereditário</td>\n",
       "      <td>2018</td>\n",
       "      <td>10</td>\n",
       "      <td>NaN</td>\n",
       "      <td>NaN</td>\n",
       "      <td>NaN</td>\n",
       "      <td>NaN</td>\n",
       "    </tr>\n",
       "    <tr>\n",
       "      <th>4</th>\n",
       "      <td>60 Segundos</td>\n",
       "      <td>2000</td>\n",
       "      <td>10</td>\n",
       "      <td>NaN</td>\n",
       "      <td>NaN</td>\n",
       "      <td>NaN</td>\n",
       "      <td>NaN</td>\n",
       "    </tr>\n",
       "  </tbody>\n",
       "</table>\n",
       "</div>"
      ],
      "text/plain": [
       "                   names  year  rate             name  rate  \\\n",
       "0  O Homem Bicenternáiro  2000    10       O Paciente   9.0   \n",
       "1    O Advogado do Diabo  1997    10  The Mandalorian  10.0   \n",
       "2         Star Wars EP I  1999    10        Boba Fett  11.0   \n",
       "3            Hereditário  2018    10              NaN   NaN   \n",
       "4            60 Segundos  2000    10              NaN   NaN   \n",
       "\n",
       "                   books  rate  \n",
       "0  A Última Grande Lição  10.0  \n",
       "1                  Dagon   8.0  \n",
       "2       A Arte da Guerra  10.0  \n",
       "3                    NaN   NaN  \n",
       "4                    NaN   NaN  "
      ]
     },
     "execution_count": 32,
     "metadata": {},
     "output_type": "execute_result"
    }
   ],
   "source": [
    "df_concat = pd.concat([movies_df , series_df , others_df], axis=1)\n",
    "df_concat"
   ]
  },
  {
   "cell_type": "code",
   "execution_count": 33,
   "id": "d5f1506d-0014-4e5b-8f32-24d969fba361",
   "metadata": {},
   "outputs": [
    {
     "data": {
      "text/html": [
       "<div>\n",
       "<style scoped>\n",
       "    .dataframe tbody tr th:only-of-type {\n",
       "        vertical-align: middle;\n",
       "    }\n",
       "\n",
       "    .dataframe tbody tr th {\n",
       "        vertical-align: top;\n",
       "    }\n",
       "\n",
       "    .dataframe thead th {\n",
       "        text-align: right;\n",
       "    }\n",
       "</style>\n",
       "<table border=\"1\" class=\"dataframe\">\n",
       "  <thead>\n",
       "    <tr style=\"text-align: right;\">\n",
       "      <th></th>\n",
       "      <th>names</th>\n",
       "      <th>year</th>\n",
       "      <th>rate</th>\n",
       "      <th>name</th>\n",
       "      <th>rate</th>\n",
       "      <th>books</th>\n",
       "      <th>rate</th>\n",
       "    </tr>\n",
       "  </thead>\n",
       "  <tbody>\n",
       "    <tr>\n",
       "      <th>0</th>\n",
       "      <td>O Homem Bicenternáiro</td>\n",
       "      <td>2000</td>\n",
       "      <td>10</td>\n",
       "      <td>O Paciente</td>\n",
       "      <td>9.0</td>\n",
       "      <td>A Última Grande Lição</td>\n",
       "      <td>10.0</td>\n",
       "    </tr>\n",
       "    <tr>\n",
       "      <th>1</th>\n",
       "      <td>O Advogado do Diabo</td>\n",
       "      <td>1997</td>\n",
       "      <td>10</td>\n",
       "      <td>The Mandalorian</td>\n",
       "      <td>10.0</td>\n",
       "      <td>Dagon</td>\n",
       "      <td>8.0</td>\n",
       "    </tr>\n",
       "    <tr>\n",
       "      <th>2</th>\n",
       "      <td>Star Wars EP I</td>\n",
       "      <td>1999</td>\n",
       "      <td>10</td>\n",
       "      <td>Boba Fett</td>\n",
       "      <td>11.0</td>\n",
       "      <td>A Arte da Guerra</td>\n",
       "      <td>10.0</td>\n",
       "    </tr>\n",
       "  </tbody>\n",
       "</table>\n",
       "</div>"
      ],
      "text/plain": [
       "                   names  year  rate             name  rate  \\\n",
       "0  O Homem Bicenternáiro  2000    10       O Paciente   9.0   \n",
       "1    O Advogado do Diabo  1997    10  The Mandalorian  10.0   \n",
       "2         Star Wars EP I  1999    10        Boba Fett  11.0   \n",
       "\n",
       "                   books  rate  \n",
       "0  A Última Grande Lição  10.0  \n",
       "1                  Dagon   8.0  \n",
       "2       A Arte da Guerra  10.0  "
      ]
     },
     "execution_count": 33,
     "metadata": {},
     "output_type": "execute_result"
    }
   ],
   "source": [
    "df_concat.dropna()"
   ]
  },
  {
   "cell_type": "code",
   "execution_count": null,
   "id": "1de26906-94e3-4284-b970-f34a76cd59f6",
   "metadata": {},
   "outputs": [],
   "source": []
  }
 ],
 "metadata": {
  "kernelspec": {
   "display_name": "Python 3 (ipykernel)",
   "language": "python",
   "name": "python3"
  },
  "language_info": {
   "codemirror_mode": {
    "name": "ipython",
    "version": 3
   },
   "file_extension": ".py",
   "mimetype": "text/x-python",
   "name": "python",
   "nbconvert_exporter": "python",
   "pygments_lexer": "ipython3",
   "version": "3.12.4"
  }
 },
 "nbformat": 4,
 "nbformat_minor": 5
}
