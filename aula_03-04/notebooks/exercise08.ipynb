{
 "cells": [
  {
   "cell_type": "code",
   "execution_count": 1,
   "id": "8b7de10d-4699-45fa-adcb-94009a36f462",
   "metadata": {},
   "outputs": [],
   "source": [
    "# feito com Pedro Dutra - GitHub: PedroHormann - [exercício feito no repositório dele] "
   ]
  },
  {
   "cell_type": "code",
   "execution_count": null,
   "id": "24dea216-eb23-47ab-8ee6-fd9ea8f8d51e",
   "metadata": {},
   "outputs": [],
   "source": []
  }
 ],
 "metadata": {
  "kernelspec": {
   "display_name": "Python 3 (ipykernel)",
   "language": "python",
   "name": "python3"
  },
  "language_info": {
   "codemirror_mode": {
    "name": "ipython",
    "version": 3
   },
   "file_extension": ".py",
   "mimetype": "text/x-python",
   "name": "python",
   "nbconvert_exporter": "python",
   "pygments_lexer": "ipython3",
   "version": "3.12.1"
  }
 },
 "nbformat": 4,
 "nbformat_minor": 5
}
